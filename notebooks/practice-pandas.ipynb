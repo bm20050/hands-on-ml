{
 "cells": [
  {
   "cell_type": "code",
   "execution_count": 1,
   "metadata": {
    "collapsed": true,
    "ExecuteTime": {
     "end_time": "2023-05-05T10:23:44.331627500Z",
     "start_time": "2023-05-05T10:23:35.538325900Z"
    }
   },
   "outputs": [],
   "source": [
    "import pandas as pd"
   ]
  },
  {
   "cell_type": "code",
   "execution_count": 2,
   "outputs": [
    {
     "data": {
      "text/plain": "0    2\n1   -1\n2    3\n3    5\ndtype: int64"
     },
     "execution_count": 2,
     "metadata": {},
     "output_type": "execute_result"
    }
   ],
   "source": [
    "s = pd.Series([2, -1, 3, 5])\n",
    "s"
   ],
   "metadata": {
    "collapsed": false,
    "ExecuteTime": {
     "end_time": "2023-05-05T10:23:44.331627500Z",
     "start_time": "2023-05-05T10:23:35.826546700Z"
    }
   }
  },
  {
   "cell_type": "code",
   "execution_count": 3,
   "outputs": [
    {
     "data": {
      "text/plain": "0      7.389056\n1      0.367879\n2     20.085537\n3    148.413159\ndtype: float64"
     },
     "execution_count": 3,
     "metadata": {},
     "output_type": "execute_result"
    }
   ],
   "source": [
    "import numpy as np\n",
    "\n",
    "np.exp(s)"
   ],
   "metadata": {
    "collapsed": false,
    "ExecuteTime": {
     "end_time": "2023-05-05T10:23:44.331627500Z",
     "start_time": "2023-05-05T10:23:35.838876200Z"
    }
   }
  },
  {
   "cell_type": "code",
   "execution_count": 4,
   "outputs": [
    {
     "data": {
      "text/plain": "0    1002\n1    1999\n2    3003\n3    4005\ndtype: int64"
     },
     "execution_count": 4,
     "metadata": {},
     "output_type": "execute_result"
    }
   ],
   "source": [
    "s + [1000, 2000, 3000, 4000]"
   ],
   "metadata": {
    "collapsed": false,
    "ExecuteTime": {
     "end_time": "2023-05-05T10:23:44.331627500Z",
     "start_time": "2023-05-05T10:23:35.854611900Z"
    }
   }
  },
  {
   "cell_type": "code",
   "execution_count": 5,
   "outputs": [
    {
     "data": {
      "text/plain": "0    1002\n1     999\n2    1003\n3    1005\ndtype: int64"
     },
     "execution_count": 5,
     "metadata": {},
     "output_type": "execute_result"
    }
   ],
   "source": [
    "s + 1000"
   ],
   "metadata": {
    "collapsed": false,
    "ExecuteTime": {
     "end_time": "2023-05-05T10:23:44.331627500Z",
     "start_time": "2023-05-05T10:23:35.870715800Z"
    }
   }
  },
  {
   "cell_type": "code",
   "execution_count": 6,
   "outputs": [
    {
     "data": {
      "text/plain": "0    False\n1     True\n2    False\n3    False\ndtype: bool"
     },
     "execution_count": 6,
     "metadata": {},
     "output_type": "execute_result"
    }
   ],
   "source": [
    "s < 0"
   ],
   "metadata": {
    "collapsed": false,
    "ExecuteTime": {
     "end_time": "2023-05-05T10:23:44.331627500Z",
     "start_time": "2023-05-05T10:23:35.886347300Z"
    }
   }
  },
  {
   "cell_type": "code",
   "execution_count": 7,
   "outputs": [
    {
     "data": {
      "text/plain": "alice       68\nbob         83\ncharles    112\ndarwin      68\ndtype: int64"
     },
     "execution_count": 7,
     "metadata": {},
     "output_type": "execute_result"
    }
   ],
   "source": [
    "s2 = pd.Series([68, 83, 112, 68], index=['alice', 'bob', 'charles', 'darwin'])\n",
    "s2"
   ],
   "metadata": {
    "collapsed": false,
    "ExecuteTime": {
     "end_time": "2023-05-05T10:23:44.378898700Z",
     "start_time": "2023-05-05T10:23:35.902051Z"
    }
   }
  },
  {
   "cell_type": "code",
   "execution_count": 8,
   "outputs": [
    {
     "data": {
      "text/plain": "83"
     },
     "execution_count": 8,
     "metadata": {},
     "output_type": "execute_result"
    }
   ],
   "source": [
    "s2['bob']"
   ],
   "metadata": {
    "collapsed": false,
    "ExecuteTime": {
     "end_time": "2023-05-05T10:23:44.378898700Z",
     "start_time": "2023-05-05T10:23:35.917667700Z"
    }
   }
  },
  {
   "cell_type": "code",
   "execution_count": 9,
   "outputs": [
    {
     "data": {
      "text/plain": "83"
     },
     "execution_count": 9,
     "metadata": {},
     "output_type": "execute_result"
    }
   ],
   "source": [
    "s2[1]"
   ],
   "metadata": {
    "collapsed": false,
    "ExecuteTime": {
     "end_time": "2023-05-05T10:23:44.378898700Z",
     "start_time": "2023-05-05T10:23:35.933229300Z"
    }
   }
  },
  {
   "cell_type": "code",
   "execution_count": 10,
   "outputs": [
    {
     "data": {
      "text/plain": "83"
     },
     "execution_count": 10,
     "metadata": {},
     "output_type": "execute_result"
    }
   ],
   "source": [
    "s2.loc['bob']"
   ],
   "metadata": {
    "collapsed": false,
    "ExecuteTime": {
     "end_time": "2023-05-05T10:23:44.378898700Z",
     "start_time": "2023-05-05T10:23:35.948915100Z"
    }
   }
  },
  {
   "cell_type": "code",
   "execution_count": 11,
   "outputs": [
    {
     "data": {
      "text/plain": "83"
     },
     "execution_count": 11,
     "metadata": {},
     "output_type": "execute_result"
    }
   ],
   "source": [
    "s2.iloc[1]"
   ],
   "metadata": {
    "collapsed": false,
    "ExecuteTime": {
     "end_time": "2023-05-05T10:23:44.378898700Z",
     "start_time": "2023-05-05T10:23:35.965008300Z"
    }
   }
  },
  {
   "cell_type": "code",
   "execution_count": 12,
   "outputs": [
    {
     "data": {
      "text/plain": "bob         83\ncharles    112\ndtype: int64"
     },
     "execution_count": 12,
     "metadata": {},
     "output_type": "execute_result"
    }
   ],
   "source": [
    "s2.iloc[1:3]"
   ],
   "metadata": {
    "collapsed": false,
    "ExecuteTime": {
     "end_time": "2023-05-05T10:23:44.378898700Z",
     "start_time": "2023-05-05T10:23:35.980640Z"
    }
   }
  },
  {
   "cell_type": "code",
   "execution_count": 13,
   "outputs": [
    {
     "data": {
      "text/plain": "0    1000\n1    1001\n2    1002\n3    1003\ndtype: int64"
     },
     "execution_count": 13,
     "metadata": {},
     "output_type": "execute_result"
    }
   ],
   "source": [
    "suprise = pd.Series([1000, 1001, 1002, 1003])\n",
    "suprise"
   ],
   "metadata": {
    "collapsed": false,
    "ExecuteTime": {
     "end_time": "2023-05-05T10:23:44.378898700Z",
     "start_time": "2023-05-05T10:23:35.996262400Z"
    }
   }
  },
  {
   "cell_type": "code",
   "execution_count": 14,
   "outputs": [
    {
     "data": {
      "text/plain": "2    1002\n3    1003\ndtype: int64"
     },
     "execution_count": 14,
     "metadata": {},
     "output_type": "execute_result"
    }
   ],
   "source": [
    "suprise_slice = suprise[2:]\n",
    "suprise_slice"
   ],
   "metadata": {
    "collapsed": false,
    "ExecuteTime": {
     "end_time": "2023-05-05T10:23:44.378898700Z",
     "start_time": "2023-05-05T10:23:36.011967100Z"
    }
   }
  },
  {
   "cell_type": "code",
   "execution_count": 15,
   "outputs": [
    {
     "name": "stdout",
     "output_type": "stream",
     "text": [
      "키 에러: 0\n"
     ]
    }
   ],
   "source": [
    "try:\n",
    "    suprise_slice[0]\n",
    "except KeyError as e:\n",
    "    print('키 에러:', e)"
   ],
   "metadata": {
    "collapsed": false,
    "ExecuteTime": {
     "end_time": "2023-05-05T10:23:44.394525400Z",
     "start_time": "2023-05-05T10:23:36.027583Z"
    }
   }
  },
  {
   "cell_type": "code",
   "execution_count": 16,
   "outputs": [
    {
     "data": {
      "text/plain": "1002"
     },
     "execution_count": 16,
     "metadata": {},
     "output_type": "execute_result"
    }
   ],
   "source": [
    "suprise_slice.iloc[0]"
   ],
   "metadata": {
    "collapsed": false,
    "ExecuteTime": {
     "end_time": "2023-05-05T10:23:44.394525400Z",
     "start_time": "2023-05-05T10:23:36.043578600Z"
    }
   }
  },
  {
   "cell_type": "code",
   "execution_count": 17,
   "outputs": [
    {
     "data": {
      "text/plain": "alice     68\nbob       83\ncolin     86\ndarwin    68\ndtype: int64"
     },
     "execution_count": 17,
     "metadata": {},
     "output_type": "execute_result"
    }
   ],
   "source": [
    "weights = {'alice': 68, 'bob': 83, 'colin': 86, 'darwin': 68}\n",
    "s3 = pd.Series(weights)\n",
    "s3"
   ],
   "metadata": {
    "collapsed": false,
    "ExecuteTime": {
     "end_time": "2023-05-05T10:23:44.394525400Z",
     "start_time": "2023-05-05T10:23:36.060663300Z"
    }
   }
  },
  {
   "cell_type": "code",
   "execution_count": 18,
   "outputs": [
    {
     "data": {
      "text/plain": "colin    86\nalice    68\ndtype: int64"
     },
     "execution_count": 18,
     "metadata": {},
     "output_type": "execute_result"
    }
   ],
   "source": [
    "s4 = pd.Series(weights, index=['colin', 'alice'])\n",
    "s4"
   ],
   "metadata": {
    "collapsed": false,
    "ExecuteTime": {
     "end_time": "2023-05-05T10:23:44.394525400Z",
     "start_time": "2023-05-05T10:23:36.075751500Z"
    }
   }
  },
  {
   "cell_type": "code",
   "execution_count": 19,
   "outputs": [
    {
     "name": "stdout",
     "output_type": "stream",
     "text": [
      "Index(['alice', 'bob', 'charles', 'darwin'], dtype='object')\n",
      "Index(['alice', 'bob', 'colin', 'darwin'], dtype='object')\n"
     ]
    },
    {
     "data": {
      "text/plain": "alice      136.0\nbob        166.0\ncharles      NaN\ncolin        NaN\ndarwin     136.0\ndtype: float64"
     },
     "execution_count": 19,
     "metadata": {},
     "output_type": "execute_result"
    }
   ],
   "source": [
    "print(s2.keys())\n",
    "print(s3.keys())\n",
    "\n",
    "s2 + s3"
   ],
   "metadata": {
    "collapsed": false,
    "ExecuteTime": {
     "end_time": "2023-05-05T10:23:44.394525400Z",
     "start_time": "2023-05-05T10:23:36.091588200Z"
    }
   }
  },
  {
   "cell_type": "code",
   "execution_count": 20,
   "outputs": [
    {
     "name": "stdout",
     "output_type": "stream",
     "text": [
      "s2 = [ 68  83 112  68]\n",
      "s5 = [1000 1000 1000 1000]\n"
     ]
    },
    {
     "data": {
      "text/plain": "alice     NaN\nbob       NaN\ncharles   NaN\ndarwin    NaN\n0         NaN\n1         NaN\n2         NaN\n3         NaN\ndtype: float64"
     },
     "execution_count": 20,
     "metadata": {},
     "output_type": "execute_result"
    }
   ],
   "source": [
    "s5 = pd.Series([1000, 1000, 1000, 1000])\n",
    "print('s2 =', s2.values)\n",
    "print('s5 =', s5.values)\n",
    "\n",
    "s2 + s5"
   ],
   "metadata": {
    "collapsed": false,
    "ExecuteTime": {
     "end_time": "2023-05-05T10:23:44.394525400Z",
     "start_time": "2023-05-05T10:23:36.107218600Z"
    }
   }
  },
  {
   "cell_type": "code",
   "execution_count": 21,
   "outputs": [
    {
     "data": {
      "text/plain": "life          42\nuniverse      42\neverything    42\ndtype: int64"
     },
     "execution_count": 21,
     "metadata": {},
     "output_type": "execute_result"
    }
   ],
   "source": [
    "meaning = pd.Series(42, ['life', 'universe', 'everything'])\n",
    "meaning"
   ],
   "metadata": {
    "collapsed": false,
    "ExecuteTime": {
     "end_time": "2023-05-05T10:23:44.410409800Z",
     "start_time": "2023-05-05T10:23:36.122831800Z"
    }
   }
  },
  {
   "cell_type": "code",
   "execution_count": 22,
   "outputs": [
    {
     "data": {
      "text/plain": "bob      83\nalice    68\nName: weight, dtype: int64"
     },
     "execution_count": 22,
     "metadata": {},
     "output_type": "execute_result"
    }
   ],
   "source": [
    "s6 = pd.Series([83, 68], index=['bob', 'alice'], name='weight')\n",
    "s6"
   ],
   "metadata": {
    "collapsed": false,
    "ExecuteTime": {
     "end_time": "2023-05-05T10:23:44.410409800Z",
     "start_time": "2023-05-05T10:23:36.138459900Z"
    }
   }
  },
  {
   "cell_type": "code",
   "execution_count": 23,
   "outputs": [
    {
     "data": {
      "text/plain": "<Figure size 640x480 with 1 Axes>",
      "image/png": "[encoded data removed]"
     },
     "metadata": {},
     "output_type": "display_data"
    }
   ],
   "source": [
    "%matplotlib inline\n",
    "import matplotlib.pyplot as plt\n",
    "\n",
    "temperatures = [4.4, 5.1, 6.1, 6.2, 6.1, 6.1, 5.7, 5.2, 4.7, 4.1, 3.9, 3.5]\n",
    "s7 = pd.Series(temperatures, name='Temperature')\n",
    "s7.plot()\n",
    "plt.show()"
   ],
   "metadata": {
    "collapsed": false,
    "ExecuteTime": {
     "end_time": "2023-05-05T10:23:44.410409800Z",
     "start_time": "2023-05-05T10:23:36.154079300Z"
    }
   }
  },
  {
   "cell_type": "code",
   "execution_count": 24,
   "outputs": [
    {
     "data": {
      "text/plain": "DatetimeIndex(['2016-10-29 17:30:00', '2016-10-29 18:30:00',\n               '2016-10-29 19:30:00', '2016-10-29 20:30:00',\n               '2016-10-29 21:30:00', '2016-10-29 22:30:00',\n               '2016-10-29 23:30:00', '2016-10-30 00:30:00',\n               '2016-10-30 01:30:00', '2016-10-30 02:30:00',\n               '2016-10-30 03:30:00', '2016-10-30 04:30:00'],\n              dtype='datetime64[ns]', freq='H')"
     },
     "execution_count": 24,
     "metadata": {},
     "output_type": "execute_result"
    }
   ],
   "source": [
    "dates = pd.date_range('2016/10/29 5:30pm', periods=12, freq='H')\n",
    "dates"
   ],
   "metadata": {
    "collapsed": false,
    "ExecuteTime": {
     "end_time": "2023-05-05T10:23:44.426168700Z",
     "start_time": "2023-05-05T10:23:36.594308800Z"
    }
   }
  },
  {
   "cell_type": "code",
   "execution_count": 25,
   "outputs": [
    {
     "data": {
      "text/plain": "2016-10-29 17:30:00    4.4\n2016-10-29 18:30:00    5.1\n2016-10-29 19:30:00    6.1\n2016-10-29 20:30:00    6.2\n2016-10-29 21:30:00    6.1\n2016-10-29 22:30:00    6.1\n2016-10-29 23:30:00    5.7\n2016-10-30 00:30:00    5.2\n2016-10-30 01:30:00    4.7\n2016-10-30 02:30:00    4.1\n2016-10-30 03:30:00    3.9\n2016-10-30 04:30:00    3.5\nFreq: H, dtype: float64"
     },
     "execution_count": 25,
     "metadata": {},
     "output_type": "execute_result"
    }
   ],
   "source": [
    "temp_series = pd.Series(temperatures, dates)\n",
    "temp_series"
   ],
   "metadata": {
    "collapsed": false,
    "ExecuteTime": {
     "end_time": "2023-05-05T10:23:44.426168700Z",
     "start_time": "2023-05-05T10:23:36.610426800Z"
    }
   }
  },
  {
   "cell_type": "code",
   "execution_count": 26,
   "outputs": [
    {
     "data": {
      "text/plain": "<Figure size 640x480 with 1 Axes>",
      "image/png": "[encoded data removed]"
     },
     "metadata": {},
     "output_type": "display_data"
    }
   ],
   "source": [
    "temp_series.plot(kind='bar')\n",
    "\n",
    "plt.grid(True)\n",
    "plt.show()"
   ],
   "metadata": {
    "collapsed": false,
    "ExecuteTime": {
     "end_time": "2023-05-05T10:23:44.426168700Z",
     "start_time": "2023-05-05T10:23:36.626053700Z"
    }
   }
  },
  {
   "cell_type": "code",
   "execution_count": 27,
   "outputs": [
    {
     "data": {
      "text/plain": "<pandas.core.resample.DatetimeIndexResampler object at 0x000001542F22ED30>"
     },
     "execution_count": 27,
     "metadata": {},
     "output_type": "execute_result"
    }
   ],
   "source": [
    "temp_series_freq_2H = temp_series.resample('2H')\n",
    "temp_series_freq_2H"
   ],
   "metadata": {
    "collapsed": false,
    "ExecuteTime": {
     "end_time": "2023-05-05T10:23:44.457768Z",
     "start_time": "2023-05-05T10:23:36.767781100Z"
    }
   }
  },
  {
   "cell_type": "code",
   "execution_count": 28,
   "outputs": [],
   "source": [
    "temp_series_freq_2H = temp_series_freq_2H.mean()"
   ],
   "metadata": {
    "collapsed": false,
    "ExecuteTime": {
     "end_time": "2023-05-05T10:23:44.457768Z",
     "start_time": "2023-05-05T10:23:36.783487400Z"
    }
   }
  },
  {
   "cell_type": "code",
   "execution_count": 29,
   "outputs": [
    {
     "data": {
      "text/plain": "<Figure size 640x480 with 1 Axes>",
      "image/png": "[encoded data removed]"
     },
     "metadata": {},
     "output_type": "display_data"
    }
   ],
   "source": [
    "temp_series_freq_2H.plot(kind='bar')\n",
    "plt.show()"
   ],
   "metadata": {
    "collapsed": false,
    "ExecuteTime": {
     "end_time": "2023-05-05T10:23:44.457768Z",
     "start_time": "2023-05-05T10:23:36.799109400Z"
    }
   }
  },
  {
   "cell_type": "code",
   "execution_count": 30,
   "outputs": [
    {
     "data": {
      "text/plain": "2016-10-29 16:00:00    4.4\n2016-10-29 18:00:00    5.1\n2016-10-29 20:00:00    6.1\n2016-10-29 22:00:00    5.7\n2016-10-30 00:00:00    4.7\n2016-10-30 02:00:00    3.9\n2016-10-30 04:00:00    3.5\nFreq: 2H, dtype: float64"
     },
     "execution_count": 30,
     "metadata": {},
     "output_type": "execute_result"
    }
   ],
   "source": [
    "temp_series_freq_2H = temp_series.resample('2H').min()\n",
    "temp_series_freq_2H"
   ],
   "metadata": {
    "collapsed": false,
    "ExecuteTime": {
     "end_time": "2023-05-05T10:23:44.457768Z",
     "start_time": "2023-05-05T10:23:36.908984800Z"
    }
   }
  },
  {
   "cell_type": "code",
   "execution_count": 31,
   "outputs": [
    {
     "data": {
      "text/plain": "2016-10-29 16:00:00    4.4\n2016-10-29 18:00:00    5.1\n2016-10-29 20:00:00    6.1\n2016-10-29 22:00:00    5.7\n2016-10-30 00:00:00    4.7\n2016-10-30 02:00:00    3.9\n2016-10-30 04:00:00    3.5\nFreq: 2H, dtype: float64"
     },
     "execution_count": 31,
     "metadata": {},
     "output_type": "execute_result"
    }
   ],
   "source": [
    "temp_series_freq_2H = temp_series.resample('2H').apply(np.min)\n",
    "temp_series_freq_2H"
   ],
   "metadata": {
    "collapsed": false,
    "ExecuteTime": {
     "end_time": "2023-05-05T10:23:44.473533100Z",
     "start_time": "2023-05-05T10:23:36.924613200Z"
    }
   }
  },
  {
   "cell_type": "code",
   "execution_count": 32,
   "outputs": [
    {
     "data": {
      "text/plain": "2016-10-29 17:30:00    4.4\n2016-10-29 17:45:00    NaN\n2016-10-29 18:00:00    NaN\n2016-10-29 18:15:00    NaN\n2016-10-29 18:30:00    5.1\n2016-10-29 18:45:00    NaN\n2016-10-29 19:00:00    NaN\n2016-10-29 19:15:00    NaN\n2016-10-29 19:30:00    6.1\n2016-10-29 19:45:00    NaN\nFreq: 15T, dtype: float64"
     },
     "execution_count": 32,
     "metadata": {},
     "output_type": "execute_result"
    }
   ],
   "source": [
    "temp_series_freq_15min = temp_series.resample('15Min').mean()\n",
    "temp_series_freq_15min.head(n=10)"
   ],
   "metadata": {
    "collapsed": false,
    "ExecuteTime": {
     "end_time": "2023-05-05T10:23:44.473533100Z",
     "start_time": "2023-05-05T10:23:36.940237800Z"
    }
   }
  },
  {
   "cell_type": "code",
   "execution_count": 33,
   "outputs": [
    {
     "data": {
      "text/plain": "2016-10-29 17:30:00    4.400000\n2016-10-29 17:45:00    4.452911\n2016-10-29 18:00:00    4.605113\n2016-10-29 18:15:00    4.829758\n2016-10-29 18:30:00    5.100000\n2016-10-29 18:45:00    5.388992\n2016-10-29 19:00:00    5.669887\n2016-10-29 19:15:00    5.915839\n2016-10-29 19:30:00    6.100000\n2016-10-29 19:45:00    6.203621\nFreq: 15T, dtype: float64"
     },
     "execution_count": 33,
     "metadata": {},
     "output_type": "execute_result"
    }
   ],
   "source": [
    "temp_series_freq_15min = temp_series.resample('15Min').interpolate(method='cubic')\n",
    "temp_series_freq_15min.head(n=10)"
   ],
   "metadata": {
    "collapsed": false,
    "ExecuteTime": {
     "end_time": "2023-05-05T10:23:44.477039600Z",
     "start_time": "2023-05-05T10:23:36.955855200Z"
    }
   }
  },
  {
   "cell_type": "code",
   "execution_count": 34,
   "outputs": [
    {
     "data": {
      "text/plain": "<Figure size 640x480 with 1 Axes>",
      "image/png": "[encoded data removed]"
     },
     "metadata": {},
     "output_type": "display_data"
    }
   ],
   "source": [
    "temp_series.plot(label='Period: 1hour')\n",
    "temp_series_freq_15min.plot(label='Period: 15minute')\n",
    "plt.legend()\n",
    "plt.show()"
   ],
   "metadata": {
    "collapsed": false,
    "ExecuteTime": {
     "end_time": "2023-05-05T10:23:44.489629800Z",
     "start_time": "2023-05-05T10:23:37.113614900Z"
    }
   }
  },
  {
   "cell_type": "code",
   "execution_count": 35,
   "outputs": [
    {
     "data": {
      "text/plain": "2016-10-29 17:30:00-04:00    4.4\n2016-10-29 18:30:00-04:00    5.1\n2016-10-29 19:30:00-04:00    6.1\n2016-10-29 20:30:00-04:00    6.2\n2016-10-29 21:30:00-04:00    6.1\n2016-10-29 22:30:00-04:00    6.1\n2016-10-29 23:30:00-04:00    5.7\n2016-10-30 00:30:00-04:00    5.2\n2016-10-30 01:30:00-04:00    4.7\n2016-10-30 02:30:00-04:00    4.1\n2016-10-30 03:30:00-04:00    3.9\n2016-10-30 04:30:00-04:00    3.5\ndtype: float64"
     },
     "execution_count": 35,
     "metadata": {},
     "output_type": "execute_result"
    }
   ],
   "source": [
    "temp_series_ny = temp_series.tz_localize('America/New_York')\n",
    "temp_series_ny"
   ],
   "metadata": {
    "collapsed": false,
    "ExecuteTime": {
     "end_time": "2023-05-05T10:23:44.489629800Z",
     "start_time": "2023-05-05T10:23:37.271198800Z"
    }
   }
  },
  {
   "cell_type": "code",
   "execution_count": 36,
   "outputs": [
    {
     "data": {
      "text/plain": "2016-10-29 23:30:00+02:00    4.4\n2016-10-30 00:30:00+02:00    5.1\n2016-10-30 01:30:00+02:00    6.1\n2016-10-30 02:30:00+02:00    6.2\n2016-10-30 02:30:00+01:00    6.1\n2016-10-30 03:30:00+01:00    6.1\n2016-10-30 04:30:00+01:00    5.7\n2016-10-30 05:30:00+01:00    5.2\n2016-10-30 06:30:00+01:00    4.7\n2016-10-30 07:30:00+01:00    4.1\n2016-10-30 08:30:00+01:00    3.9\n2016-10-30 09:30:00+01:00    3.5\ndtype: float64"
     },
     "execution_count": 36,
     "metadata": {},
     "output_type": "execute_result"
    }
   ],
   "source": [
    "temp_series_paris = temp_series_ny.tz_convert('Europe/Paris')\n",
    "temp_series_paris"
   ],
   "metadata": {
    "collapsed": false,
    "ExecuteTime": {
     "end_time": "2023-05-05T10:23:44.489629800Z",
     "start_time": "2023-05-05T10:23:37.334448800Z"
    }
   }
  },
  {
   "cell_type": "code",
   "execution_count": 37,
   "outputs": [
    {
     "data": {
      "text/plain": "2016-10-29 23:30:00    4.4\n2016-10-30 00:30:00    5.1\n2016-10-30 01:30:00    6.1\n2016-10-30 02:30:00    6.2\n2016-10-30 02:30:00    6.1\n2016-10-30 03:30:00    6.1\n2016-10-30 04:30:00    5.7\n2016-10-30 05:30:00    5.2\n2016-10-30 06:30:00    4.7\n2016-10-30 07:30:00    4.1\n2016-10-30 08:30:00    3.9\n2016-10-30 09:30:00    3.5\ndtype: float64"
     },
     "execution_count": 37,
     "metadata": {},
     "output_type": "execute_result"
    }
   ],
   "source": [
    "temp_series_naive = temp_series_paris.tz_localize(None)\n",
    "temp_series_naive"
   ],
   "metadata": {
    "collapsed": false,
    "ExecuteTime": {
     "end_time": "2023-05-05T10:23:44.489629800Z",
     "start_time": "2023-05-05T10:23:37.350392400Z"
    }
   }
  },
  {
   "cell_type": "code",
   "execution_count": 38,
   "outputs": [
    {
     "name": "stdout",
     "output_type": "stream",
     "text": [
      "<class 'pytz.exceptions.AmbiguousTimeError'>\n",
      "Cannot infer dst time from 2016-10-30 02:30:00, try using the 'ambiguous' argument\n"
     ]
    }
   ],
   "source": [
    "try:\n",
    "    temp_series_naive.tz_localize('Europe/Paris')\n",
    "except Exception as e:\n",
    "    print(type(e))\n",
    "    print(e)"
   ],
   "metadata": {
    "collapsed": false,
    "ExecuteTime": {
     "end_time": "2023-05-05T10:23:44.489629800Z",
     "start_time": "2023-05-05T10:23:37.366424300Z"
    }
   }
  },
  {
   "cell_type": "code",
   "execution_count": 39,
   "outputs": [
    {
     "data": {
      "text/plain": "2016-10-29 23:30:00+02:00    4.4\n2016-10-30 00:30:00+02:00    5.1\n2016-10-30 01:30:00+02:00    6.1\n2016-10-30 02:30:00+02:00    6.2\n2016-10-30 02:30:00+01:00    6.1\n2016-10-30 03:30:00+01:00    6.1\n2016-10-30 04:30:00+01:00    5.7\n2016-10-30 05:30:00+01:00    5.2\n2016-10-30 06:30:00+01:00    4.7\n2016-10-30 07:30:00+01:00    4.1\n2016-10-30 08:30:00+01:00    3.9\n2016-10-30 09:30:00+01:00    3.5\ndtype: float64"
     },
     "execution_count": 39,
     "metadata": {},
     "output_type": "execute_result"
    }
   ],
   "source": [
    "temp_series_naive.tz_localize('Europe/Paris', ambiguous='infer')"
   ],
   "metadata": {
    "collapsed": false,
    "ExecuteTime": {
     "end_time": "2023-05-05T10:23:44.489629800Z",
     "start_time": "2023-05-05T10:23:37.382464Z"
    }
   }
  },
  {
   "cell_type": "code",
   "execution_count": 40,
   "outputs": [
    {
     "data": {
      "text/plain": "PeriodIndex(['2016Q1', '2016Q2', '2016Q3', '2016Q4', '2017Q1', '2017Q2',\n             '2017Q3', '2017Q4'],\n            dtype='period[Q-DEC]')"
     },
     "execution_count": 40,
     "metadata": {},
     "output_type": "execute_result"
    }
   ],
   "source": [
    "quarters = pd.period_range('2016Q1', periods=8, freq='Q')\n",
    "quarters"
   ],
   "metadata": {
    "collapsed": false,
    "ExecuteTime": {
     "end_time": "2023-05-05T10:23:44.505826200Z",
     "start_time": "2023-05-05T10:23:37.398091800Z"
    }
   }
  },
  {
   "cell_type": "code",
   "execution_count": 41,
   "outputs": [
    {
     "data": {
      "text/plain": "PeriodIndex(['2016Q4', '2017Q1', '2017Q2', '2017Q3', '2017Q4', '2018Q1',\n             '2018Q2', '2018Q3'],\n            dtype='period[Q-DEC]')"
     },
     "execution_count": 41,
     "metadata": {},
     "output_type": "execute_result"
    }
   ],
   "source": [
    "quarters + 3"
   ],
   "metadata": {
    "collapsed": false,
    "ExecuteTime": {
     "end_time": "2023-05-05T10:23:44.505826200Z",
     "start_time": "2023-05-05T10:23:37.413839100Z"
    }
   }
  },
  {
   "cell_type": "code",
   "execution_count": 42,
   "outputs": [
    {
     "data": {
      "text/plain": "PeriodIndex(['2016-03', '2016-06', '2016-09', '2016-12', '2017-03', '2017-06',\n             '2017-09', '2017-12'],\n            dtype='period[M]')"
     },
     "execution_count": 42,
     "metadata": {},
     "output_type": "execute_result"
    }
   ],
   "source": [
    "quarters.asfreq('M')"
   ],
   "metadata": {
    "collapsed": false,
    "ExecuteTime": {
     "end_time": "2023-05-05T10:23:44.505826200Z",
     "start_time": "2023-05-05T10:23:37.429467100Z"
    }
   }
  },
  {
   "cell_type": "code",
   "execution_count": 43,
   "outputs": [
    {
     "data": {
      "text/plain": "PeriodIndex(['2016-01', '2016-04', '2016-07', '2016-10', '2017-01', '2017-04',\n             '2017-07', '2017-10'],\n            dtype='period[M]')"
     },
     "execution_count": 43,
     "metadata": {},
     "output_type": "execute_result"
    }
   ],
   "source": [
    "quarters.asfreq('M', how='start')"
   ],
   "metadata": {
    "collapsed": false,
    "ExecuteTime": {
     "end_time": "2023-05-05T10:23:44.505826200Z",
     "start_time": "2023-05-05T10:23:37.445155100Z"
    }
   }
  },
  {
   "cell_type": "code",
   "execution_count": 44,
   "outputs": [
    {
     "data": {
      "text/plain": "PeriodIndex(['2016', '2016', '2016', '2016', '2017', '2017', '2017', '2017'], dtype='period[A-DEC]')"
     },
     "execution_count": 44,
     "metadata": {},
     "output_type": "execute_result"
    }
   ],
   "source": [
    "quarters.asfreq('A')"
   ],
   "metadata": {
    "collapsed": false,
    "ExecuteTime": {
     "end_time": "2023-05-05T10:23:44.521528900Z",
     "start_time": "2023-05-05T10:23:37.462324Z"
    }
   }
  },
  {
   "cell_type": "code",
   "execution_count": 45,
   "outputs": [
    {
     "data": {
      "text/plain": "2016Q1    300\n2016Q2    320\n2016Q3    290\n2016Q4    390\n2017Q1    320\n2017Q2    360\n2017Q3    310\n2017Q4    410\nFreq: Q-DEC, dtype: int64"
     },
     "execution_count": 45,
     "metadata": {},
     "output_type": "execute_result"
    }
   ],
   "source": [
    "quarterly_revenue = pd.Series([300, 320, 290, 390, 320, 360, 310, 410], index=quarters)\n",
    "quarterly_revenue"
   ],
   "metadata": {
    "collapsed": false,
    "ExecuteTime": {
     "end_time": "2023-05-05T10:23:44.521528900Z",
     "start_time": "2023-05-05T10:23:37.476832Z"
    }
   }
  },
  {
   "cell_type": "code",
   "execution_count": 46,
   "outputs": [
    {
     "data": {
      "text/plain": "<Figure size 640x480 with 1 Axes>",
      "image/png": "[encoded data removed]"
     },
     "metadata": {},
     "output_type": "display_data"
    }
   ],
   "source": [
    "quarterly_revenue.plot(kind='line')\n",
    "plt.show()"
   ],
   "metadata": {
    "collapsed": false,
    "ExecuteTime": {
     "end_time": "2023-05-05T10:23:44.537079700Z",
     "start_time": "2023-05-05T10:23:37.492461700Z"
    }
   }
  },
  {
   "cell_type": "code",
   "execution_count": 47,
   "outputs": [
    {
     "data": {
      "text/plain": "2016-03-31 23:59:59.999999999    300\n2016-06-30 23:59:59.999999999    320\n2016-09-30 23:59:59.999999999    290\n2016-12-31 23:59:59.999999999    390\n2017-03-31 23:59:59.999999999    320\n2017-06-30 23:59:59.999999999    360\n2017-09-30 23:59:59.999999999    310\n2017-12-31 23:59:59.999999999    410\ndtype: int64"
     },
     "execution_count": 47,
     "metadata": {},
     "output_type": "execute_result"
    }
   ],
   "source": [
    "last_hours = quarterly_revenue.to_timestamp(how='end', freq='H')\n",
    "last_hours"
   ],
   "metadata": {
    "collapsed": false,
    "ExecuteTime": {
     "end_time": "2023-05-05T10:23:44.537079700Z",
     "start_time": "2023-05-05T10:23:37.603452Z"
    }
   }
  },
  {
   "cell_type": "code",
   "execution_count": 48,
   "outputs": [
    {
     "data": {
      "text/plain": "2016Q1    300\n2016Q2    320\n2016Q3    290\n2016Q4    390\n2017Q1    320\n2017Q2    360\n2017Q3    310\n2017Q4    410\nFreq: Q-DEC, dtype: int64"
     },
     "execution_count": 48,
     "metadata": {},
     "output_type": "execute_result"
    }
   ],
   "source": [
    "last_hours.to_period()"
   ],
   "metadata": {
    "collapsed": false,
    "ExecuteTime": {
     "end_time": "2023-05-05T10:23:44.537079700Z",
     "start_time": "2023-05-05T10:23:37.619221900Z"
    }
   }
  },
  {
   "cell_type": "code",
   "execution_count": 49,
   "outputs": [
    {
     "data": {
      "text/plain": "PeriodIndex(['2016-01-29 09:00', '2016-02-29 09:00', '2016-03-31 09:00',\n             '2016-04-29 09:00', '2016-05-31 09:00', '2016-06-30 09:00',\n             '2016-07-29 09:00', '2016-08-31 09:00', '2016-09-30 09:00',\n             '2016-10-31 09:00', '2016-11-30 09:00', '2016-12-30 09:00'],\n            dtype='period[H]')"
     },
     "execution_count": 49,
     "metadata": {},
     "output_type": "execute_result"
    }
   ],
   "source": [
    "month_2016 = pd.period_range('2016', periods=12, freq='M')\n",
    "one_day_after_last_days = month_2016.asfreq('D') + 1\n",
    "last_bdays = one_day_after_last_days.to_timestamp() - pd.tseries.offsets.BDay()\n",
    "last_bdays.to_period('H') + 9"
   ],
   "metadata": {
    "collapsed": false,
    "ExecuteTime": {
     "end_time": "2023-05-05T10:23:44.537079700Z",
     "start_time": "2023-05-05T10:23:37.635055100Z"
    }
   }
  },
  {
   "cell_type": "code",
   "execution_count": 50,
   "outputs": [
    {
     "data": {
      "text/plain": "         weight  birthyear  children    hobby\nalice        68       1985       NaN   Biking\nbob          83       1984       3.0  Dancing\ncharles     112       1992       0.0      NaN",
      "text/html": "<div>\n<style scoped>\n    .dataframe tbody tr th:only-of-type {\n        vertical-align: middle;\n    }\n\n    .dataframe tbody tr th {\n        vertical-align: top;\n    }\n\n    .dataframe thead th {\n        text-align: right;\n    }\n</style>\n<table border=\"1\" class=\"dataframe\">\n  <thead>\n    <tr style=\"text-align: right;\">\n      <th></th>\n      <th>weight</th>\n      <th>birthyear</th>\n      <th>children</th>\n      <th>hobby</th>\n    </tr>\n  </thead>\n  <tbody>\n    <tr>\n      <th>alice</th>\n      <td>68</td>\n      <td>1985</td>\n      <td>NaN</td>\n      <td>Biking</td>\n    </tr>\n    <tr>\n      <th>bob</th>\n      <td>83</td>\n      <td>1984</td>\n      <td>3.0</td>\n      <td>Dancing</td>\n    </tr>\n    <tr>\n      <th>charles</th>\n      <td>112</td>\n      <td>1992</td>\n      <td>0.0</td>\n      <td>NaN</td>\n    </tr>\n  </tbody>\n</table>\n</div>"
     },
     "execution_count": 50,
     "metadata": {},
     "output_type": "execute_result"
    }
   ],
   "source": [
    "people_dict = {\n",
    "    'weight': pd.Series([68, 83, 112], index=['alice', 'bob', 'charles']),\n",
    "    'birthyear': pd.Series([1984, 1985, 1992], index=['bob', 'alice', 'charles'], name='year'),\n",
    "    'children': pd.Series([0, 3], index=['charles', 'bob']),\n",
    "    'hobby': pd.Series(['Biking', 'Dancing'], index=['alice', 'bob']),\n",
    "}\n",
    "people = pd.DataFrame(people_dict)\n",
    "people"
   ],
   "metadata": {
    "collapsed": false,
    "ExecuteTime": {
     "end_time": "2023-05-05T10:23:44.537079700Z",
     "start_time": "2023-05-05T10:23:37.650884400Z"
    }
   }
  },
  {
   "cell_type": "code",
   "execution_count": 51,
   "outputs": [
    {
     "data": {
      "text/plain": "alice      1985\nbob        1984\ncharles    1992\nName: birthyear, dtype: int64"
     },
     "execution_count": 51,
     "metadata": {},
     "output_type": "execute_result"
    }
   ],
   "source": [
    "people['birthyear']"
   ],
   "metadata": {
    "collapsed": false,
    "ExecuteTime": {
     "end_time": "2023-05-05T10:23:44.552778600Z",
     "start_time": "2023-05-05T10:23:37.666907800Z"
    }
   }
  },
  {
   "cell_type": "code",
   "execution_count": 52,
   "outputs": [
    {
     "data": {
      "text/plain": "         birthyear    hobby\nalice         1985   Biking\nbob           1984  Dancing\ncharles       1992      NaN",
      "text/html": "<div>\n<style scoped>\n    .dataframe tbody tr th:only-of-type {\n        vertical-align: middle;\n    }\n\n    .dataframe tbody tr th {\n        vertical-align: top;\n    }\n\n    .dataframe thead th {\n        text-align: right;\n    }\n</style>\n<table border=\"1\" class=\"dataframe\">\n  <thead>\n    <tr style=\"text-align: right;\">\n      <th></th>\n      <th>birthyear</th>\n      <th>hobby</th>\n    </tr>\n  </thead>\n  <tbody>\n    <tr>\n      <th>alice</th>\n      <td>1985</td>\n      <td>Biking</td>\n    </tr>\n    <tr>\n      <th>bob</th>\n      <td>1984</td>\n      <td>Dancing</td>\n    </tr>\n    <tr>\n      <th>charles</th>\n      <td>1992</td>\n      <td>NaN</td>\n    </tr>\n  </tbody>\n</table>\n</div>"
     },
     "execution_count": 52,
     "metadata": {},
     "output_type": "execute_result"
    }
   ],
   "source": [
    "people[['birthyear', 'hobby']]"
   ],
   "metadata": {
    "collapsed": false,
    "ExecuteTime": {
     "end_time": "2023-05-05T10:23:44.552778600Z",
     "start_time": "2023-05-05T10:23:37.682613500Z"
    }
   }
  },
  {
   "cell_type": "code",
   "execution_count": 53,
   "outputs": [
    {
     "data": {
      "text/plain": "        birthyear  weight height\nbob        1984.0    83.0    NaN\nalice      1985.0    68.0    NaN\neugene        NaN     NaN    NaN",
      "text/html": "<div>\n<style scoped>\n    .dataframe tbody tr th:only-of-type {\n        vertical-align: middle;\n    }\n\n    .dataframe tbody tr th {\n        vertical-align: top;\n    }\n\n    .dataframe thead th {\n        text-align: right;\n    }\n</style>\n<table border=\"1\" class=\"dataframe\">\n  <thead>\n    <tr style=\"text-align: right;\">\n      <th></th>\n      <th>birthyear</th>\n      <th>weight</th>\n      <th>height</th>\n    </tr>\n  </thead>\n  <tbody>\n    <tr>\n      <th>bob</th>\n      <td>1984.0</td>\n      <td>83.0</td>\n      <td>NaN</td>\n    </tr>\n    <tr>\n      <th>alice</th>\n      <td>1985.0</td>\n      <td>68.0</td>\n      <td>NaN</td>\n    </tr>\n    <tr>\n      <th>eugene</th>\n      <td>NaN</td>\n      <td>NaN</td>\n      <td>NaN</td>\n    </tr>\n  </tbody>\n</table>\n</div>"
     },
     "execution_count": 53,
     "metadata": {},
     "output_type": "execute_result"
    }
   ],
   "source": [
    "d2 = pd.DataFrame(\n",
    "    people_dict,\n",
    "    columns=['birthyear', 'weight', 'height'],\n",
    "    index=['bob', 'alice', 'eugene']\n",
    ")\n",
    "d2"
   ],
   "metadata": {
    "collapsed": false,
    "ExecuteTime": {
     "end_time": "2023-05-05T10:23:44.552778600Z",
     "start_time": "2023-05-05T10:23:37.698158900Z"
    }
   }
  },
  {
   "cell_type": "code",
   "execution_count": 54,
   "outputs": [
    {
     "data": {
      "text/plain": "         birthyear  children    hobby  weight\nalice         1985       NaN   Biking      68\nbob           1984       3.0  Dancing      83\ncharles       1992       0.0      NaN     112",
      "text/html": "<div>\n<style scoped>\n    .dataframe tbody tr th:only-of-type {\n        vertical-align: middle;\n    }\n\n    .dataframe tbody tr th {\n        vertical-align: top;\n    }\n\n    .dataframe thead th {\n        text-align: right;\n    }\n</style>\n<table border=\"1\" class=\"dataframe\">\n  <thead>\n    <tr style=\"text-align: right;\">\n      <th></th>\n      <th>birthyear</th>\n      <th>children</th>\n      <th>hobby</th>\n      <th>weight</th>\n    </tr>\n  </thead>\n  <tbody>\n    <tr>\n      <th>alice</th>\n      <td>1985</td>\n      <td>NaN</td>\n      <td>Biking</td>\n      <td>68</td>\n    </tr>\n    <tr>\n      <th>bob</th>\n      <td>1984</td>\n      <td>3.0</td>\n      <td>Dancing</td>\n      <td>83</td>\n    </tr>\n    <tr>\n      <th>charles</th>\n      <td>1992</td>\n      <td>0.0</td>\n      <td>NaN</td>\n      <td>112</td>\n    </tr>\n  </tbody>\n</table>\n</div>"
     },
     "execution_count": 54,
     "metadata": {},
     "output_type": "execute_result"
    }
   ],
   "source": [
    "values = [\n",
    "    [1985, np.nan, 'Biking', 68],\n",
    "    [1984, 3, 'Dancing', 83],\n",
    "    [1992, 0, np.nan, 112]\n",
    "]\n",
    "\n",
    "d3 = pd.DataFrame(\n",
    "    values,\n",
    "    columns=['birthyear', 'children', 'hobby', 'weight'],\n",
    "    index=['alice', 'bob', 'charles']\n",
    ")\n",
    "d3"
   ],
   "metadata": {
    "collapsed": false,
    "ExecuteTime": {
     "end_time": "2023-05-05T10:23:44.552778600Z",
     "start_time": "2023-05-05T10:23:37.713858Z"
    }
   }
  },
  {
   "cell_type": "code",
   "execution_count": 55,
   "outputs": [
    {
     "data": {
      "text/plain": "        birthyear children    hobby weight\nalice        1985      NaN   Biking     68\nbob          1984        3  Dancing     83\ncharles      1992        0      NaN    112",
      "text/html": "<div>\n<style scoped>\n    .dataframe tbody tr th:only-of-type {\n        vertical-align: middle;\n    }\n\n    .dataframe tbody tr th {\n        vertical-align: top;\n    }\n\n    .dataframe thead th {\n        text-align: right;\n    }\n</style>\n<table border=\"1\" class=\"dataframe\">\n  <thead>\n    <tr style=\"text-align: right;\">\n      <th></th>\n      <th>birthyear</th>\n      <th>children</th>\n      <th>hobby</th>\n      <th>weight</th>\n    </tr>\n  </thead>\n  <tbody>\n    <tr>\n      <th>alice</th>\n      <td>1985</td>\n      <td>NaN</td>\n      <td>Biking</td>\n      <td>68</td>\n    </tr>\n    <tr>\n      <th>bob</th>\n      <td>1984</td>\n      <td>3</td>\n      <td>Dancing</td>\n      <td>83</td>\n    </tr>\n    <tr>\n      <th>charles</th>\n      <td>1992</td>\n      <td>0</td>\n      <td>NaN</td>\n      <td>112</td>\n    </tr>\n  </tbody>\n</table>\n</div>"
     },
     "execution_count": 55,
     "metadata": {},
     "output_type": "execute_result"
    }
   ],
   "source": [
    "masked_array = np.ma.asarray(values, dtype=np.object_)\n",
    "masked_array[(0, 2), (1, 2)] = np.ma.masked\n",
    "d3 = pd.DataFrame(\n",
    "    masked_array,\n",
    "    columns=['birthyear', 'children', 'hobby', 'weight'],\n",
    "    index=['alice', 'bob', 'charles']\n",
    ")\n",
    "d3"
   ],
   "metadata": {
    "collapsed": false,
    "ExecuteTime": {
     "end_time": "2023-05-05T10:23:44.577409700Z",
     "start_time": "2023-05-05T10:23:37.729486Z"
    }
   }
  },
  {
   "cell_type": "code",
   "execution_count": 56,
   "outputs": [
    {
     "data": {
      "text/plain": "         hobby children\nalice   Biking      NaN\nbob    Dancing        3",
      "text/html": "<div>\n<style scoped>\n    .dataframe tbody tr th:only-of-type {\n        vertical-align: middle;\n    }\n\n    .dataframe tbody tr th {\n        vertical-align: top;\n    }\n\n    .dataframe thead th {\n        text-align: right;\n    }\n</style>\n<table border=\"1\" class=\"dataframe\">\n  <thead>\n    <tr style=\"text-align: right;\">\n      <th></th>\n      <th>hobby</th>\n      <th>children</th>\n    </tr>\n  </thead>\n  <tbody>\n    <tr>\n      <th>alice</th>\n      <td>Biking</td>\n      <td>NaN</td>\n    </tr>\n    <tr>\n      <th>bob</th>\n      <td>Dancing</td>\n      <td>3</td>\n    </tr>\n  </tbody>\n</table>\n</div>"
     },
     "execution_count": 56,
     "metadata": {},
     "output_type": "execute_result"
    }
   ],
   "source": [
    "d4 = pd.DataFrame(\n",
    "    d3,\n",
    "    columns=['hobby', 'children'],\n",
    "    index=['alice', 'bob']\n",
    ")\n",
    "d4"
   ],
   "metadata": {
    "collapsed": false,
    "ExecuteTime": {
     "end_time": "2023-05-05T10:23:44.577409700Z",
     "start_time": "2023-05-05T10:23:37.745028900Z"
    }
   }
  },
  {
   "cell_type": "code",
   "execution_count": 57,
   "outputs": [
    {
     "data": {
      "text/plain": "         birthyear    hobby  weight  children\nalice         1985   Biking      68       NaN\nbob           1984  Dancing      83       3.0\ncharles       1992      NaN     112       0.0",
      "text/html": "<div>\n<style scoped>\n    .dataframe tbody tr th:only-of-type {\n        vertical-align: middle;\n    }\n\n    .dataframe tbody tr th {\n        vertical-align: top;\n    }\n\n    .dataframe thead th {\n        text-align: right;\n    }\n</style>\n<table border=\"1\" class=\"dataframe\">\n  <thead>\n    <tr style=\"text-align: right;\">\n      <th></th>\n      <th>birthyear</th>\n      <th>hobby</th>\n      <th>weight</th>\n      <th>children</th>\n    </tr>\n  </thead>\n  <tbody>\n    <tr>\n      <th>alice</th>\n      <td>1985</td>\n      <td>Biking</td>\n      <td>68</td>\n      <td>NaN</td>\n    </tr>\n    <tr>\n      <th>bob</th>\n      <td>1984</td>\n      <td>Dancing</td>\n      <td>83</td>\n      <td>3.0</td>\n    </tr>\n    <tr>\n      <th>charles</th>\n      <td>1992</td>\n      <td>NaN</td>\n      <td>112</td>\n      <td>0.0</td>\n    </tr>\n  </tbody>\n</table>\n</div>"
     },
     "execution_count": 57,
     "metadata": {},
     "output_type": "execute_result"
    }
   ],
   "source": [
    "people = pd.DataFrame({\n",
    "    'birthyear': {'alice': 1985, 'bob': 1984, 'charles': 1992},\n",
    "    'hobby': {'alice': 'Biking', 'bob': 'Dancing'},\n",
    "    'weight': {'alice': 68, 'bob': 83, 'charles': 112},\n",
    "    'children': {'bob': 3, 'charles': 0}\n",
    "})\n",
    "people"
   ],
   "metadata": {
    "collapsed": false,
    "ExecuteTime": {
     "end_time": "2023-05-05T10:23:44.577409700Z",
     "start_time": "2023-05-05T10:23:37.762242400Z"
    }
   }
  },
  {
   "cell_type": "code",
   "execution_count": 58,
   "outputs": [
    {
     "data": {
      "text/plain": "                  public          private         \n               birthyear    hobby  weight children\nParis  alice        1985   Biking      68      NaN\n       bob          1984  Dancing      83      3.0\nLondon charles      1992      NaN     112      0.0",
      "text/html": "<div>\n<style scoped>\n    .dataframe tbody tr th:only-of-type {\n        vertical-align: middle;\n    }\n\n    .dataframe tbody tr th {\n        vertical-align: top;\n    }\n\n    .dataframe thead tr th {\n        text-align: left;\n    }\n</style>\n<table border=\"1\" class=\"dataframe\">\n  <thead>\n    <tr>\n      <th></th>\n      <th></th>\n      <th colspan=\"2\" halign=\"left\">public</th>\n      <th colspan=\"2\" halign=\"left\">private</th>\n    </tr>\n    <tr>\n      <th></th>\n      <th></th>\n      <th>birthyear</th>\n      <th>hobby</th>\n      <th>weight</th>\n      <th>children</th>\n    </tr>\n  </thead>\n  <tbody>\n    <tr>\n      <th rowspan=\"2\" valign=\"top\">Paris</th>\n      <th>alice</th>\n      <td>1985</td>\n      <td>Biking</td>\n      <td>68</td>\n      <td>NaN</td>\n    </tr>\n    <tr>\n      <th>bob</th>\n      <td>1984</td>\n      <td>Dancing</td>\n      <td>83</td>\n      <td>3.0</td>\n    </tr>\n    <tr>\n      <th>London</th>\n      <th>charles</th>\n      <td>1992</td>\n      <td>NaN</td>\n      <td>112</td>\n      <td>0.0</td>\n    </tr>\n  </tbody>\n</table>\n</div>"
     },
     "execution_count": 58,
     "metadata": {},
     "output_type": "execute_result"
    }
   ],
   "source": [
    "d5 = pd.DataFrame({\n",
    "    ('public', 'birthyear'):\n",
    "        {('Paris', 'alice'): 1985, ('Paris', 'bob'): 1984, ('London', 'charles'): 1992},\n",
    "    ('public', 'hobby'):\n",
    "        {('Paris', 'alice'): 'Biking', ('Paris', 'bob'): 'Dancing'},\n",
    "    ('private', 'weight'):\n",
    "        {('Paris', 'alice'): 68, ('Paris', 'bob'): 83, ('London', 'charles'): 112},\n",
    "    ('private', 'children'):\n",
    "        {('Paris', 'alice'): np.nan, ('Paris', 'bob'): 3, ('London', 'charles'): 0}\n",
    "})\n",
    "d5"
   ],
   "metadata": {
    "collapsed": false,
    "ExecuteTime": {
     "end_time": "2023-05-05T10:23:44.577409700Z",
     "start_time": "2023-05-05T10:23:37.776764100Z"
    }
   }
  },
  {
   "cell_type": "code",
   "execution_count": 59,
   "outputs": [
    {
     "data": {
      "text/plain": "                birthyear    hobby\nParis  alice         1985   Biking\n       bob           1984  Dancing\nLondon charles       1992      NaN",
      "text/html": "<div>\n<style scoped>\n    .dataframe tbody tr th:only-of-type {\n        vertical-align: middle;\n    }\n\n    .dataframe tbody tr th {\n        vertical-align: top;\n    }\n\n    .dataframe thead th {\n        text-align: right;\n    }\n</style>\n<table border=\"1\" class=\"dataframe\">\n  <thead>\n    <tr style=\"text-align: right;\">\n      <th></th>\n      <th></th>\n      <th>birthyear</th>\n      <th>hobby</th>\n    </tr>\n  </thead>\n  <tbody>\n    <tr>\n      <th rowspan=\"2\" valign=\"top\">Paris</th>\n      <th>alice</th>\n      <td>1985</td>\n      <td>Biking</td>\n    </tr>\n    <tr>\n      <th>bob</th>\n      <td>1984</td>\n      <td>Dancing</td>\n    </tr>\n    <tr>\n      <th>London</th>\n      <th>charles</th>\n      <td>1992</td>\n      <td>NaN</td>\n    </tr>\n  </tbody>\n</table>\n</div>"
     },
     "execution_count": 59,
     "metadata": {},
     "output_type": "execute_result"
    }
   ],
   "source": [
    "d5['public']"
   ],
   "metadata": {
    "collapsed": false,
    "ExecuteTime": {
     "end_time": "2023-05-05T10:23:44.584423400Z",
     "start_time": "2023-05-05T10:23:37.792489400Z"
    }
   }
  },
  {
   "cell_type": "code",
   "execution_count": 60,
   "outputs": [
    {
     "data": {
      "text/plain": "Paris   alice       Biking\n        bob        Dancing\nLondon  charles        NaN\nName: (public, hobby), dtype: object"
     },
     "execution_count": 60,
     "metadata": {},
     "output_type": "execute_result"
    }
   ],
   "source": [
    "d5['public', 'hobby']"
   ],
   "metadata": {
    "collapsed": false,
    "ExecuteTime": {
     "end_time": "2023-05-05T10:23:44.584423400Z",
     "start_time": "2023-05-05T10:23:37.808116100Z"
    }
   }
  },
  {
   "cell_type": "code",
   "execution_count": 61,
   "outputs": [
    {
     "data": {
      "text/plain": "                  public          private         \n               birthyear    hobby  weight children\nParis  alice        1985   Biking      68      NaN\n       bob          1984  Dancing      83      3.0\nLondon charles      1992      NaN     112      0.0",
      "text/html": "<div>\n<style scoped>\n    .dataframe tbody tr th:only-of-type {\n        vertical-align: middle;\n    }\n\n    .dataframe tbody tr th {\n        vertical-align: top;\n    }\n\n    .dataframe thead tr th {\n        text-align: left;\n    }\n</style>\n<table border=\"1\" class=\"dataframe\">\n  <thead>\n    <tr>\n      <th></th>\n      <th></th>\n      <th colspan=\"2\" halign=\"left\">public</th>\n      <th colspan=\"2\" halign=\"left\">private</th>\n    </tr>\n    <tr>\n      <th></th>\n      <th></th>\n      <th>birthyear</th>\n      <th>hobby</th>\n      <th>weight</th>\n      <th>children</th>\n    </tr>\n  </thead>\n  <tbody>\n    <tr>\n      <th rowspan=\"2\" valign=\"top\">Paris</th>\n      <th>alice</th>\n      <td>1985</td>\n      <td>Biking</td>\n      <td>68</td>\n      <td>NaN</td>\n    </tr>\n    <tr>\n      <th>bob</th>\n      <td>1984</td>\n      <td>Dancing</td>\n      <td>83</td>\n      <td>3.0</td>\n    </tr>\n    <tr>\n      <th>London</th>\n      <th>charles</th>\n      <td>1992</td>\n      <td>NaN</td>\n      <td>112</td>\n      <td>0.0</td>\n    </tr>\n  </tbody>\n</table>\n</div>"
     },
     "execution_count": 61,
     "metadata": {},
     "output_type": "execute_result"
    }
   ],
   "source": [
    "d5"
   ],
   "metadata": {
    "collapsed": false,
    "ExecuteTime": {
     "end_time": "2023-05-05T10:23:44.584423400Z",
     "start_time": "2023-05-05T10:23:37.823644500Z"
    }
   }
  },
  {
   "cell_type": "code",
   "execution_count": 62,
   "outputs": [
    {
     "data": {
      "text/plain": "                birthyear    hobby  weight  children\nParis  alice         1985   Biking      68       NaN\n       bob           1984  Dancing      83       3.0\nLondon charles       1992      NaN     112       0.0",
      "text/html": "<div>\n<style scoped>\n    .dataframe tbody tr th:only-of-type {\n        vertical-align: middle;\n    }\n\n    .dataframe tbody tr th {\n        vertical-align: top;\n    }\n\n    .dataframe thead th {\n        text-align: right;\n    }\n</style>\n<table border=\"1\" class=\"dataframe\">\n  <thead>\n    <tr style=\"text-align: right;\">\n      <th></th>\n      <th></th>\n      <th>birthyear</th>\n      <th>hobby</th>\n      <th>weight</th>\n      <th>children</th>\n    </tr>\n  </thead>\n  <tbody>\n    <tr>\n      <th rowspan=\"2\" valign=\"top\">Paris</th>\n      <th>alice</th>\n      <td>1985</td>\n      <td>Biking</td>\n      <td>68</td>\n      <td>NaN</td>\n    </tr>\n    <tr>\n      <th>bob</th>\n      <td>1984</td>\n      <td>Dancing</td>\n      <td>83</td>\n      <td>3.0</td>\n    </tr>\n    <tr>\n      <th>London</th>\n      <th>charles</th>\n      <td>1992</td>\n      <td>NaN</td>\n      <td>112</td>\n      <td>0.0</td>\n    </tr>\n  </tbody>\n</table>\n</div>"
     },
     "execution_count": 62,
     "metadata": {},
     "output_type": "execute_result"
    }
   ],
   "source": [
    "d5.columns = d5.columns.droplevel(level=0)\n",
    "d5"
   ],
   "metadata": {
    "collapsed": false,
    "ExecuteTime": {
     "end_time": "2023-05-05T10:23:44.600125600Z",
     "start_time": "2023-05-05T10:23:37.839280700Z"
    }
   }
  },
  {
   "cell_type": "code",
   "execution_count": 63,
   "outputs": [
    {
     "data": {
      "text/plain": "            Paris           London\n            alice      bob charles\nbirthyear    1985     1984    1992\nhobby      Biking  Dancing     NaN\nweight         68       83     112\nchildren      NaN      3.0     0.0",
      "text/html": "<div>\n<style scoped>\n    .dataframe tbody tr th:only-of-type {\n        vertical-align: middle;\n    }\n\n    .dataframe tbody tr th {\n        vertical-align: top;\n    }\n\n    .dataframe thead tr th {\n        text-align: left;\n    }\n</style>\n<table border=\"1\" class=\"dataframe\">\n  <thead>\n    <tr>\n      <th></th>\n      <th colspan=\"2\" halign=\"left\">Paris</th>\n      <th>London</th>\n    </tr>\n    <tr>\n      <th></th>\n      <th>alice</th>\n      <th>bob</th>\n      <th>charles</th>\n    </tr>\n  </thead>\n  <tbody>\n    <tr>\n      <th>birthyear</th>\n      <td>1985</td>\n      <td>1984</td>\n      <td>1992</td>\n    </tr>\n    <tr>\n      <th>hobby</th>\n      <td>Biking</td>\n      <td>Dancing</td>\n      <td>NaN</td>\n    </tr>\n    <tr>\n      <th>weight</th>\n      <td>68</td>\n      <td>83</td>\n      <td>112</td>\n    </tr>\n    <tr>\n      <th>children</th>\n      <td>NaN</td>\n      <td>3.0</td>\n      <td>0.0</td>\n    </tr>\n  </tbody>\n</table>\n</div>"
     },
     "execution_count": 63,
     "metadata": {},
     "output_type": "execute_result"
    }
   ],
   "source": [
    "d6 = d5.T\n",
    "d6"
   ],
   "metadata": {
    "collapsed": false,
    "ExecuteTime": {
     "end_time": "2023-05-05T10:23:44.600125600Z",
     "start_time": "2023-05-05T10:23:37.854976600Z"
    }
   }
  },
  {
   "cell_type": "code",
   "execution_count": 64,
   "outputs": [
    {
     "data": {
      "text/plain": "                  London    Paris\nbirthyear alice      NaN     1985\n          bob        NaN     1984\n          charles   1992      NaN\nhobby     alice      NaN   Biking\n          bob        NaN  Dancing\nweight    alice      NaN       68\n          bob        NaN       83\n          charles    112      NaN\nchildren  bob        NaN      3.0\n          charles    0.0      NaN",
      "text/html": "<div>\n<style scoped>\n    .dataframe tbody tr th:only-of-type {\n        vertical-align: middle;\n    }\n\n    .dataframe tbody tr th {\n        vertical-align: top;\n    }\n\n    .dataframe thead th {\n        text-align: right;\n    }\n</style>\n<table border=\"1\" class=\"dataframe\">\n  <thead>\n    <tr style=\"text-align: right;\">\n      <th></th>\n      <th></th>\n      <th>London</th>\n      <th>Paris</th>\n    </tr>\n  </thead>\n  <tbody>\n    <tr>\n      <th rowspan=\"3\" valign=\"top\">birthyear</th>\n      <th>alice</th>\n      <td>NaN</td>\n      <td>1985</td>\n    </tr>\n    <tr>\n      <th>bob</th>\n      <td>NaN</td>\n      <td>1984</td>\n    </tr>\n    <tr>\n      <th>charles</th>\n      <td>1992</td>\n      <td>NaN</td>\n    </tr>\n    <tr>\n      <th rowspan=\"2\" valign=\"top\">hobby</th>\n      <th>alice</th>\n      <td>NaN</td>\n      <td>Biking</td>\n    </tr>\n    <tr>\n      <th>bob</th>\n      <td>NaN</td>\n      <td>Dancing</td>\n    </tr>\n    <tr>\n      <th rowspan=\"3\" valign=\"top\">weight</th>\n      <th>alice</th>\n      <td>NaN</td>\n      <td>68</td>\n    </tr>\n    <tr>\n      <th>bob</th>\n      <td>NaN</td>\n      <td>83</td>\n    </tr>\n    <tr>\n      <th>charles</th>\n      <td>112</td>\n      <td>NaN</td>\n    </tr>\n    <tr>\n      <th rowspan=\"2\" valign=\"top\">children</th>\n      <th>bob</th>\n      <td>NaN</td>\n      <td>3.0</td>\n    </tr>\n    <tr>\n      <th>charles</th>\n      <td>0.0</td>\n      <td>NaN</td>\n    </tr>\n  </tbody>\n</table>\n</div>"
     },
     "execution_count": 64,
     "metadata": {},
     "output_type": "execute_result"
    }
   ],
   "source": [
    "d7 = d6.stack()\n",
    "d7"
   ],
   "metadata": {
    "collapsed": false,
    "ExecuteTime": {
     "end_time": "2023-05-05T10:23:44.600125600Z",
     "start_time": "2023-05-05T10:23:37.871075100Z"
    }
   }
  },
  {
   "cell_type": "code",
   "execution_count": 65,
   "outputs": [
    {
     "data": {
      "text/plain": "          London                Paris                 \n           alice  bob charles   alice      bob charles\nbirthyear    NaN  NaN    1992    1985     1984     NaN\nchildren     NaN  NaN     0.0     NaN      3.0     NaN\nhobby        NaN  NaN     NaN  Biking  Dancing     NaN\nweight       NaN  NaN     112      68       83     NaN",
      "text/html": "<div>\n<style scoped>\n    .dataframe tbody tr th:only-of-type {\n        vertical-align: middle;\n    }\n\n    .dataframe tbody tr th {\n        vertical-align: top;\n    }\n\n    .dataframe thead tr th {\n        text-align: left;\n    }\n</style>\n<table border=\"1\" class=\"dataframe\">\n  <thead>\n    <tr>\n      <th></th>\n      <th colspan=\"3\" halign=\"left\">London</th>\n      <th colspan=\"3\" halign=\"left\">Paris</th>\n    </tr>\n    <tr>\n      <th></th>\n      <th>alice</th>\n      <th>bob</th>\n      <th>charles</th>\n      <th>alice</th>\n      <th>bob</th>\n      <th>charles</th>\n    </tr>\n  </thead>\n  <tbody>\n    <tr>\n      <th>birthyear</th>\n      <td>NaN</td>\n      <td>NaN</td>\n      <td>1992</td>\n      <td>1985</td>\n      <td>1984</td>\n      <td>NaN</td>\n    </tr>\n    <tr>\n      <th>children</th>\n      <td>NaN</td>\n      <td>NaN</td>\n      <td>0.0</td>\n      <td>NaN</td>\n      <td>3.0</td>\n      <td>NaN</td>\n    </tr>\n    <tr>\n      <th>hobby</th>\n      <td>NaN</td>\n      <td>NaN</td>\n      <td>NaN</td>\n      <td>Biking</td>\n      <td>Dancing</td>\n      <td>NaN</td>\n    </tr>\n    <tr>\n      <th>weight</th>\n      <td>NaN</td>\n      <td>NaN</td>\n      <td>112</td>\n      <td>68</td>\n      <td>83</td>\n      <td>NaN</td>\n    </tr>\n  </tbody>\n</table>\n</div>"
     },
     "execution_count": 65,
     "metadata": {},
     "output_type": "execute_result"
    }
   ],
   "source": [
    "d8 = d7.unstack()\n",
    "d8"
   ],
   "metadata": {
    "collapsed": false,
    "ExecuteTime": {
     "end_time": "2023-05-05T10:23:44.600125600Z",
     "start_time": "2023-05-05T10:23:37.886729700Z"
    }
   }
  },
  {
   "cell_type": "code",
   "execution_count": 66,
   "outputs": [
    {
     "data": {
      "text/plain": "London  alice    birthyear        NaN\n                 children         NaN\n                 hobby            NaN\n                 weight           NaN\n        bob      birthyear        NaN\n                 children         NaN\n                 hobby            NaN\n                 weight           NaN\n        charles  birthyear       1992\n                 children         0.0\n                 hobby            NaN\n                 weight           112\nParis   alice    birthyear       1985\n                 children         NaN\n                 hobby         Biking\n                 weight            68\n        bob      birthyear       1984\n                 children         3.0\n                 hobby        Dancing\n                 weight            83\n        charles  birthyear        NaN\n                 children         NaN\n                 hobby            NaN\n                 weight           NaN\ndtype: object"
     },
     "execution_count": 66,
     "metadata": {},
     "output_type": "execute_result"
    }
   ],
   "source": [
    "d9 = d8.unstack()\n",
    "d9"
   ],
   "metadata": {
    "collapsed": false,
    "ExecuteTime": {
     "end_time": "2023-05-05T10:23:44.600125600Z",
     "start_time": "2023-05-05T10:23:37.902327800Z"
    }
   }
  },
  {
   "cell_type": "code",
   "execution_count": 67,
   "outputs": [
    {
     "data": {
      "text/plain": "          London                Paris                 \n           alice  bob charles   alice      bob charles\nbirthyear    NaN  NaN    1992    1985     1984     NaN\nchildren     NaN  NaN     0.0     NaN      3.0     NaN\nhobby        NaN  NaN     NaN  Biking  Dancing     NaN\nweight       NaN  NaN     112      68       83     NaN",
      "text/html": "<div>\n<style scoped>\n    .dataframe tbody tr th:only-of-type {\n        vertical-align: middle;\n    }\n\n    .dataframe tbody tr th {\n        vertical-align: top;\n    }\n\n    .dataframe thead tr th {\n        text-align: left;\n    }\n</style>\n<table border=\"1\" class=\"dataframe\">\n  <thead>\n    <tr>\n      <th></th>\n      <th colspan=\"3\" halign=\"left\">London</th>\n      <th colspan=\"3\" halign=\"left\">Paris</th>\n    </tr>\n    <tr>\n      <th></th>\n      <th>alice</th>\n      <th>bob</th>\n      <th>charles</th>\n      <th>alice</th>\n      <th>bob</th>\n      <th>charles</th>\n    </tr>\n  </thead>\n  <tbody>\n    <tr>\n      <th>birthyear</th>\n      <td>NaN</td>\n      <td>NaN</td>\n      <td>1992</td>\n      <td>1985</td>\n      <td>1984</td>\n      <td>NaN</td>\n    </tr>\n    <tr>\n      <th>children</th>\n      <td>NaN</td>\n      <td>NaN</td>\n      <td>0.0</td>\n      <td>NaN</td>\n      <td>3.0</td>\n      <td>NaN</td>\n    </tr>\n    <tr>\n      <th>hobby</th>\n      <td>NaN</td>\n      <td>NaN</td>\n      <td>NaN</td>\n      <td>Biking</td>\n      <td>Dancing</td>\n      <td>NaN</td>\n    </tr>\n    <tr>\n      <th>weight</th>\n      <td>NaN</td>\n      <td>NaN</td>\n      <td>112</td>\n      <td>68</td>\n      <td>83</td>\n      <td>NaN</td>\n    </tr>\n  </tbody>\n</table>\n</div>"
     },
     "execution_count": 67,
     "metadata": {},
     "output_type": "execute_result"
    }
   ],
   "source": [
    "d10 = d9.unstack(level=(0, 1))\n",
    "d10"
   ],
   "metadata": {
    "collapsed": false,
    "ExecuteTime": {
     "end_time": "2023-05-05T10:23:44.600125600Z",
     "start_time": "2023-05-05T10:23:37.918022600Z"
    }
   }
  },
  {
   "cell_type": "code",
   "execution_count": 68,
   "outputs": [
    {
     "data": {
      "text/plain": "         birthyear    hobby  weight  children\nalice         1985   Biking      68       NaN\nbob           1984  Dancing      83       3.0\ncharles       1992      NaN     112       0.0",
      "text/html": "<div>\n<style scoped>\n    .dataframe tbody tr th:only-of-type {\n        vertical-align: middle;\n    }\n\n    .dataframe tbody tr th {\n        vertical-align: top;\n    }\n\n    .dataframe thead th {\n        text-align: right;\n    }\n</style>\n<table border=\"1\" class=\"dataframe\">\n  <thead>\n    <tr style=\"text-align: right;\">\n      <th></th>\n      <th>birthyear</th>\n      <th>hobby</th>\n      <th>weight</th>\n      <th>children</th>\n    </tr>\n  </thead>\n  <tbody>\n    <tr>\n      <th>alice</th>\n      <td>1985</td>\n      <td>Biking</td>\n      <td>68</td>\n      <td>NaN</td>\n    </tr>\n    <tr>\n      <th>bob</th>\n      <td>1984</td>\n      <td>Dancing</td>\n      <td>83</td>\n      <td>3.0</td>\n    </tr>\n    <tr>\n      <th>charles</th>\n      <td>1992</td>\n      <td>NaN</td>\n      <td>112</td>\n      <td>0.0</td>\n    </tr>\n  </tbody>\n</table>\n</div>"
     },
     "execution_count": 68,
     "metadata": {},
     "output_type": "execute_result"
    }
   ],
   "source": [
    "people"
   ],
   "metadata": {
    "collapsed": false,
    "ExecuteTime": {
     "end_time": "2023-05-05T10:23:44.615751700Z",
     "start_time": "2023-05-05T10:23:37.949279900Z"
    }
   }
  },
  {
   "cell_type": "code",
   "execution_count": 69,
   "outputs": [
    {
     "data": {
      "text/plain": "birthyear    1992\nhobby         NaN\nweight        112\nchildren      0.0\nName: charles, dtype: object"
     },
     "execution_count": 69,
     "metadata": {},
     "output_type": "execute_result"
    }
   ],
   "source": [
    "people.loc['charles']"
   ],
   "metadata": {
    "collapsed": false,
    "ExecuteTime": {
     "end_time": "2023-05-05T10:23:44.615751700Z",
     "start_time": "2023-05-05T10:23:37.965451800Z"
    }
   }
  },
  {
   "cell_type": "code",
   "execution_count": 70,
   "outputs": [
    {
     "data": {
      "text/plain": "birthyear    1992\nhobby         NaN\nweight        112\nchildren      0.0\nName: charles, dtype: object"
     },
     "execution_count": 70,
     "metadata": {},
     "output_type": "execute_result"
    }
   ],
   "source": [
    "people.iloc[2]"
   ],
   "metadata": {
    "collapsed": false,
    "ExecuteTime": {
     "end_time": "2023-05-05T10:23:44.615751700Z",
     "start_time": "2023-05-05T10:23:37.981159300Z"
    }
   }
  },
  {
   "cell_type": "code",
   "execution_count": 71,
   "outputs": [
    {
     "data": {
      "text/plain": "         birthyear    hobby  weight  children\nbob           1984  Dancing      83       3.0\ncharles       1992      NaN     112       0.0",
      "text/html": "<div>\n<style scoped>\n    .dataframe tbody tr th:only-of-type {\n        vertical-align: middle;\n    }\n\n    .dataframe tbody tr th {\n        vertical-align: top;\n    }\n\n    .dataframe thead th {\n        text-align: right;\n    }\n</style>\n<table border=\"1\" class=\"dataframe\">\n  <thead>\n    <tr style=\"text-align: right;\">\n      <th></th>\n      <th>birthyear</th>\n      <th>hobby</th>\n      <th>weight</th>\n      <th>children</th>\n    </tr>\n  </thead>\n  <tbody>\n    <tr>\n      <th>bob</th>\n      <td>1984</td>\n      <td>Dancing</td>\n      <td>83</td>\n      <td>3.0</td>\n    </tr>\n    <tr>\n      <th>charles</th>\n      <td>1992</td>\n      <td>NaN</td>\n      <td>112</td>\n      <td>0.0</td>\n    </tr>\n  </tbody>\n</table>\n</div>"
     },
     "execution_count": 71,
     "metadata": {},
     "output_type": "execute_result"
    }
   ],
   "source": [
    "people.iloc[1:3]"
   ],
   "metadata": {
    "collapsed": false,
    "ExecuteTime": {
     "end_time": "2023-05-05T10:23:44.631371700Z",
     "start_time": "2023-05-05T10:23:37.996720100Z"
    }
   }
  },
  {
   "cell_type": "code",
   "execution_count": 72,
   "outputs": [
    {
     "data": {
      "text/plain": "         birthyear   hobby  weight  children\nalice         1985  Biking      68       NaN\ncharles       1992     NaN     112       0.0",
      "text/html": "<div>\n<style scoped>\n    .dataframe tbody tr th:only-of-type {\n        vertical-align: middle;\n    }\n\n    .dataframe tbody tr th {\n        vertical-align: top;\n    }\n\n    .dataframe thead th {\n        text-align: right;\n    }\n</style>\n<table border=\"1\" class=\"dataframe\">\n  <thead>\n    <tr style=\"text-align: right;\">\n      <th></th>\n      <th>birthyear</th>\n      <th>hobby</th>\n      <th>weight</th>\n      <th>children</th>\n    </tr>\n  </thead>\n  <tbody>\n    <tr>\n      <th>alice</th>\n      <td>1985</td>\n      <td>Biking</td>\n      <td>68</td>\n      <td>NaN</td>\n    </tr>\n    <tr>\n      <th>charles</th>\n      <td>1992</td>\n      <td>NaN</td>\n      <td>112</td>\n      <td>0.0</td>\n    </tr>\n  </tbody>\n</table>\n</div>"
     },
     "execution_count": 72,
     "metadata": {},
     "output_type": "execute_result"
    }
   ],
   "source": [
    "people[np.array([True, False, True])]"
   ],
   "metadata": {
    "collapsed": false,
    "ExecuteTime": {
     "end_time": "2023-05-05T10:23:44.631371700Z",
     "start_time": "2023-05-05T10:23:38.012421300Z"
    }
   }
  },
  {
   "cell_type": "code",
   "execution_count": 73,
   "outputs": [
    {
     "data": {
      "text/plain": "       birthyear    hobby  weight  children\nalice       1985   Biking      68       NaN\nbob         1984  Dancing      83       3.0",
      "text/html": "<div>\n<style scoped>\n    .dataframe tbody tr th:only-of-type {\n        vertical-align: middle;\n    }\n\n    .dataframe tbody tr th {\n        vertical-align: top;\n    }\n\n    .dataframe thead th {\n        text-align: right;\n    }\n</style>\n<table border=\"1\" class=\"dataframe\">\n  <thead>\n    <tr style=\"text-align: right;\">\n      <th></th>\n      <th>birthyear</th>\n      <th>hobby</th>\n      <th>weight</th>\n      <th>children</th>\n    </tr>\n  </thead>\n  <tbody>\n    <tr>\n      <th>alice</th>\n      <td>1985</td>\n      <td>Biking</td>\n      <td>68</td>\n      <td>NaN</td>\n    </tr>\n    <tr>\n      <th>bob</th>\n      <td>1984</td>\n      <td>Dancing</td>\n      <td>83</td>\n      <td>3.0</td>\n    </tr>\n  </tbody>\n</table>\n</div>"
     },
     "execution_count": 73,
     "metadata": {},
     "output_type": "execute_result"
    }
   ],
   "source": [
    "people[people['birthyear'] < 1990]"
   ],
   "metadata": {
    "collapsed": false,
    "ExecuteTime": {
     "end_time": "2023-05-05T10:23:44.631371700Z",
     "start_time": "2023-05-05T10:23:38.028029100Z"
    }
   }
  },
  {
   "cell_type": "code",
   "execution_count": 74,
   "outputs": [
    {
     "data": {
      "text/plain": "         birthyear    hobby  weight  children\nalice         1985   Biking      68       NaN\nbob           1984  Dancing      83       3.0\ncharles       1992      NaN     112       0.0",
      "text/html": "<div>\n<style scoped>\n    .dataframe tbody tr th:only-of-type {\n        vertical-align: middle;\n    }\n\n    .dataframe tbody tr th {\n        vertical-align: top;\n    }\n\n    .dataframe thead th {\n        text-align: right;\n    }\n</style>\n<table border=\"1\" class=\"dataframe\">\n  <thead>\n    <tr style=\"text-align: right;\">\n      <th></th>\n      <th>birthyear</th>\n      <th>hobby</th>\n      <th>weight</th>\n      <th>children</th>\n    </tr>\n  </thead>\n  <tbody>\n    <tr>\n      <th>alice</th>\n      <td>1985</td>\n      <td>Biking</td>\n      <td>68</td>\n      <td>NaN</td>\n    </tr>\n    <tr>\n      <th>bob</th>\n      <td>1984</td>\n      <td>Dancing</td>\n      <td>83</td>\n      <td>3.0</td>\n    </tr>\n    <tr>\n      <th>charles</th>\n      <td>1992</td>\n      <td>NaN</td>\n      <td>112</td>\n      <td>0.0</td>\n    </tr>\n  </tbody>\n</table>\n</div>"
     },
     "execution_count": 74,
     "metadata": {},
     "output_type": "execute_result"
    }
   ],
   "source": [
    "people"
   ],
   "metadata": {
    "collapsed": false,
    "ExecuteTime": {
     "end_time": "2023-05-05T10:23:44.631371700Z",
     "start_time": "2023-05-05T10:23:38.043589700Z"
    }
   }
  },
  {
   "cell_type": "code",
   "execution_count": 75,
   "outputs": [
    {
     "data": {
      "text/plain": "           hobby  weight  age  over30\nalice     Biking      68   33    True\nbob      Dancing      83   34    True\ncharles      NaN     112   26   False",
      "text/html": "<div>\n<style scoped>\n    .dataframe tbody tr th:only-of-type {\n        vertical-align: middle;\n    }\n\n    .dataframe tbody tr th {\n        vertical-align: top;\n    }\n\n    .dataframe thead th {\n        text-align: right;\n    }\n</style>\n<table border=\"1\" class=\"dataframe\">\n  <thead>\n    <tr style=\"text-align: right;\">\n      <th></th>\n      <th>hobby</th>\n      <th>weight</th>\n      <th>age</th>\n      <th>over30</th>\n    </tr>\n  </thead>\n  <tbody>\n    <tr>\n      <th>alice</th>\n      <td>Biking</td>\n      <td>68</td>\n      <td>33</td>\n      <td>True</td>\n    </tr>\n    <tr>\n      <th>bob</th>\n      <td>Dancing</td>\n      <td>83</td>\n      <td>34</td>\n      <td>True</td>\n    </tr>\n    <tr>\n      <th>charles</th>\n      <td>NaN</td>\n      <td>112</td>\n      <td>26</td>\n      <td>False</td>\n    </tr>\n  </tbody>\n</table>\n</div>"
     },
     "execution_count": 75,
     "metadata": {},
     "output_type": "execute_result"
    }
   ],
   "source": [
    "people['age'] = 2018 - people['birthyear']\n",
    "people['over30'] = people['age'] > 30\n",
    "birthyears = people.pop('birthyear')\n",
    "del people['children']\n",
    "\n",
    "people"
   ],
   "metadata": {
    "collapsed": false,
    "ExecuteTime": {
     "end_time": "2023-05-05T10:23:44.646921200Z",
     "start_time": "2023-05-05T10:23:38.059200Z"
    }
   }
  },
  {
   "cell_type": "code",
   "execution_count": 76,
   "outputs": [
    {
     "data": {
      "text/plain": "alice      1985\nbob        1984\ncharles    1992\nName: birthyear, dtype: int64"
     },
     "execution_count": 76,
     "metadata": {},
     "output_type": "execute_result"
    }
   ],
   "source": [
    "birthyears"
   ],
   "metadata": {
    "collapsed": false,
    "ExecuteTime": {
     "end_time": "2023-05-05T10:23:44.646921200Z",
     "start_time": "2023-05-05T10:23:38.075213500Z"
    }
   }
  },
  {
   "cell_type": "code",
   "execution_count": 77,
   "outputs": [
    {
     "data": {
      "text/plain": "           hobby  weight  age  over30  pets\nalice     Biking      68   33    True   NaN\nbob      Dancing      83   34    True   0.0\ncharles      NaN     112   26   False   5.0",
      "text/html": "<div>\n<style scoped>\n    .dataframe tbody tr th:only-of-type {\n        vertical-align: middle;\n    }\n\n    .dataframe tbody tr th {\n        vertical-align: top;\n    }\n\n    .dataframe thead th {\n        text-align: right;\n    }\n</style>\n<table border=\"1\" class=\"dataframe\">\n  <thead>\n    <tr style=\"text-align: right;\">\n      <th></th>\n      <th>hobby</th>\n      <th>weight</th>\n      <th>age</th>\n      <th>over30</th>\n      <th>pets</th>\n    </tr>\n  </thead>\n  <tbody>\n    <tr>\n      <th>alice</th>\n      <td>Biking</td>\n      <td>68</td>\n      <td>33</td>\n      <td>True</td>\n      <td>NaN</td>\n    </tr>\n    <tr>\n      <th>bob</th>\n      <td>Dancing</td>\n      <td>83</td>\n      <td>34</td>\n      <td>True</td>\n      <td>0.0</td>\n    </tr>\n    <tr>\n      <th>charles</th>\n      <td>NaN</td>\n      <td>112</td>\n      <td>26</td>\n      <td>False</td>\n      <td>5.0</td>\n    </tr>\n  </tbody>\n</table>\n</div>"
     },
     "execution_count": 77,
     "metadata": {},
     "output_type": "execute_result"
    }
   ],
   "source": [
    "people['pets'] = pd.Series({'bob': 0, 'charles': 5, 'eugene': 1})\n",
    "people"
   ],
   "metadata": {
    "collapsed": false,
    "ExecuteTime": {
     "end_time": "2023-05-05T10:23:44.646921200Z",
     "start_time": "2023-05-05T10:23:38.090841400Z"
    }
   }
  },
  {
   "cell_type": "code",
   "execution_count": 78,
   "outputs": [
    {
     "data": {
      "text/plain": "           hobby  height  weight  age  over30  pets\nalice     Biking     172      68   33    True   NaN\nbob      Dancing     181      83   34    True   0.0\ncharles      NaN     185     112   26   False   5.0",
      "text/html": "<div>\n<style scoped>\n    .dataframe tbody tr th:only-of-type {\n        vertical-align: middle;\n    }\n\n    .dataframe tbody tr th {\n        vertical-align: top;\n    }\n\n    .dataframe thead th {\n        text-align: right;\n    }\n</style>\n<table border=\"1\" class=\"dataframe\">\n  <thead>\n    <tr style=\"text-align: right;\">\n      <th></th>\n      <th>hobby</th>\n      <th>height</th>\n      <th>weight</th>\n      <th>age</th>\n      <th>over30</th>\n      <th>pets</th>\n    </tr>\n  </thead>\n  <tbody>\n    <tr>\n      <th>alice</th>\n      <td>Biking</td>\n      <td>172</td>\n      <td>68</td>\n      <td>33</td>\n      <td>True</td>\n      <td>NaN</td>\n    </tr>\n    <tr>\n      <th>bob</th>\n      <td>Dancing</td>\n      <td>181</td>\n      <td>83</td>\n      <td>34</td>\n      <td>True</td>\n      <td>0.0</td>\n    </tr>\n    <tr>\n      <th>charles</th>\n      <td>NaN</td>\n      <td>185</td>\n      <td>112</td>\n      <td>26</td>\n      <td>False</td>\n      <td>5.0</td>\n    </tr>\n  </tbody>\n</table>\n</div>"
     },
     "execution_count": 78,
     "metadata": {},
     "output_type": "execute_result"
    }
   ],
   "source": [
    "people.insert(1, 'height', [172, 181, 185])\n",
    "people"
   ],
   "metadata": {
    "collapsed": false,
    "ExecuteTime": {
     "end_time": "2023-05-05T10:23:44.662544200Z",
     "start_time": "2023-05-05T10:23:38.106868200Z"
    }
   }
  },
  {
   "cell_type": "code",
   "execution_count": 79,
   "outputs": [
    {
     "data": {
      "text/plain": "           hobby  height  weight  age  over30  pets  body_mass_index  has_pets\nalice     Biking     172      68   33    True   NaN        22.985398     False\nbob      Dancing     181      83   34    True   0.0        25.335002     False\ncharles      NaN     185     112   26   False   5.0        32.724617      True",
      "text/html": "<div>\n<style scoped>\n    .dataframe tbody tr th:only-of-type {\n        vertical-align: middle;\n    }\n\n    .dataframe tbody tr th {\n        vertical-align: top;\n    }\n\n    .dataframe thead th {\n        text-align: right;\n    }\n</style>\n<table border=\"1\" class=\"dataframe\">\n  <thead>\n    <tr style=\"text-align: right;\">\n      <th></th>\n      <th>hobby</th>\n      <th>height</th>\n      <th>weight</th>\n      <th>age</th>\n      <th>over30</th>\n      <th>pets</th>\n      <th>body_mass_index</th>\n      <th>has_pets</th>\n    </tr>\n  </thead>\n  <tbody>\n    <tr>\n      <th>alice</th>\n      <td>Biking</td>\n      <td>172</td>\n      <td>68</td>\n      <td>33</td>\n      <td>True</td>\n      <td>NaN</td>\n      <td>22.985398</td>\n      <td>False</td>\n    </tr>\n    <tr>\n      <th>bob</th>\n      <td>Dancing</td>\n      <td>181</td>\n      <td>83</td>\n      <td>34</td>\n      <td>True</td>\n      <td>0.0</td>\n      <td>25.335002</td>\n      <td>False</td>\n    </tr>\n    <tr>\n      <th>charles</th>\n      <td>NaN</td>\n      <td>185</td>\n      <td>112</td>\n      <td>26</td>\n      <td>False</td>\n      <td>5.0</td>\n      <td>32.724617</td>\n      <td>True</td>\n    </tr>\n  </tbody>\n</table>\n</div>"
     },
     "execution_count": 79,
     "metadata": {},
     "output_type": "execute_result"
    }
   ],
   "source": [
    "people.assign(\n",
    "    body_mass_index=people['weight'] / (people['height'] / 100) ** 2,\n",
    "    has_pets=people['pets'] > 0\n",
    ")"
   ],
   "metadata": {
    "collapsed": false,
    "ExecuteTime": {
     "end_time": "2023-05-05T10:23:44.662544200Z",
     "start_time": "2023-05-05T10:23:38.122707800Z"
    }
   }
  },
  {
   "cell_type": "code",
   "execution_count": 80,
   "outputs": [
    {
     "name": "stdout",
     "output_type": "stream",
     "text": [
      "키 에러: 'body_mass_index'\n"
     ]
    }
   ],
   "source": [
    "try:\n",
    "    people.assign(\n",
    "        body_mass_index=people['weight'] / (people['height'] / 100) ** 2,\n",
    "        overweight=people['body_mass_index'] > 25\n",
    "    )\n",
    "except KeyError as e:\n",
    "    print('키 에러:', e)"
   ],
   "metadata": {
    "collapsed": false,
    "ExecuteTime": {
     "end_time": "2023-05-05T10:23:44.662544200Z",
     "start_time": "2023-05-05T10:23:38.138565800Z"
    }
   }
  },
  {
   "cell_type": "code",
   "execution_count": 81,
   "outputs": [
    {
     "data": {
      "text/plain": "           hobby  height  weight  age  over30  pets  body_mass_index   \nalice     Biking     172      68   33    True   NaN        22.985398  \\\nbob      Dancing     181      83   34    True   0.0        25.335002   \ncharles      NaN     185     112   26   False   5.0        32.724617   \n\n         overweight  \nalice         False  \nbob            True  \ncharles        True  ",
      "text/html": "<div>\n<style scoped>\n    .dataframe tbody tr th:only-of-type {\n        vertical-align: middle;\n    }\n\n    .dataframe tbody tr th {\n        vertical-align: top;\n    }\n\n    .dataframe thead th {\n        text-align: right;\n    }\n</style>\n<table border=\"1\" class=\"dataframe\">\n  <thead>\n    <tr style=\"text-align: right;\">\n      <th></th>\n      <th>hobby</th>\n      <th>height</th>\n      <th>weight</th>\n      <th>age</th>\n      <th>over30</th>\n      <th>pets</th>\n      <th>body_mass_index</th>\n      <th>overweight</th>\n    </tr>\n  </thead>\n  <tbody>\n    <tr>\n      <th>alice</th>\n      <td>Biking</td>\n      <td>172</td>\n      <td>68</td>\n      <td>33</td>\n      <td>True</td>\n      <td>NaN</td>\n      <td>22.985398</td>\n      <td>False</td>\n    </tr>\n    <tr>\n      <th>bob</th>\n      <td>Dancing</td>\n      <td>181</td>\n      <td>83</td>\n      <td>34</td>\n      <td>True</td>\n      <td>0.0</td>\n      <td>25.335002</td>\n      <td>True</td>\n    </tr>\n    <tr>\n      <th>charles</th>\n      <td>NaN</td>\n      <td>185</td>\n      <td>112</td>\n      <td>26</td>\n      <td>False</td>\n      <td>5.0</td>\n      <td>32.724617</td>\n      <td>True</td>\n    </tr>\n  </tbody>\n</table>\n</div>"
     },
     "execution_count": 81,
     "metadata": {},
     "output_type": "execute_result"
    }
   ],
   "source": [
    "d6 = people.assign(body_mass_index=people['weight'] / (people['height'] / 100) ** 2)\n",
    "d6.assign(overweight=d6['body_mass_index'] > 25)"
   ],
   "metadata": {
    "collapsed": false,
    "ExecuteTime": {
     "end_time": "2023-05-05T10:23:44.662544200Z",
     "start_time": "2023-05-05T10:23:38.163110500Z"
    }
   }
  },
  {
   "cell_type": "code",
   "execution_count": 82,
   "outputs": [
    {
     "name": "stdout",
     "output_type": "stream",
     "text": [
      "키 에러: 'body_mass_index'\n"
     ]
    }
   ],
   "source": [
    "try:\n",
    "    (people\n",
    "     .assign(body_mass_index=people['weight'] / (people['height'] / 100) ** 2)\n",
    "     .assign(overweight=people['body_mass_index'] > 25)\n",
    "     )\n",
    "except KeyError as e:\n",
    "    print('키 에러:', e)"
   ],
   "metadata": {
    "collapsed": false,
    "ExecuteTime": {
     "end_time": "2023-05-05T10:23:44.678731800Z",
     "start_time": "2023-05-05T10:23:38.170694600Z"
    }
   }
  },
  {
   "cell_type": "code",
   "execution_count": 83,
   "outputs": [
    {
     "data": {
      "text/plain": "           hobby  height  weight  age  over30  pets  body_mass_index   \nalice     Biking     172      68   33    True   NaN        22.985398  \\\nbob      Dancing     181      83   34    True   0.0        25.335002   \ncharles      NaN     185     112   26   False   5.0        32.724617   \n\n         overweight  \nalice         False  \nbob            True  \ncharles        True  ",
      "text/html": "<div>\n<style scoped>\n    .dataframe tbody tr th:only-of-type {\n        vertical-align: middle;\n    }\n\n    .dataframe tbody tr th {\n        vertical-align: top;\n    }\n\n    .dataframe thead th {\n        text-align: right;\n    }\n</style>\n<table border=\"1\" class=\"dataframe\">\n  <thead>\n    <tr style=\"text-align: right;\">\n      <th></th>\n      <th>hobby</th>\n      <th>height</th>\n      <th>weight</th>\n      <th>age</th>\n      <th>over30</th>\n      <th>pets</th>\n      <th>body_mass_index</th>\n      <th>overweight</th>\n    </tr>\n  </thead>\n  <tbody>\n    <tr>\n      <th>alice</th>\n      <td>Biking</td>\n      <td>172</td>\n      <td>68</td>\n      <td>33</td>\n      <td>True</td>\n      <td>NaN</td>\n      <td>22.985398</td>\n      <td>False</td>\n    </tr>\n    <tr>\n      <th>bob</th>\n      <td>Dancing</td>\n      <td>181</td>\n      <td>83</td>\n      <td>34</td>\n      <td>True</td>\n      <td>0.0</td>\n      <td>25.335002</td>\n      <td>True</td>\n    </tr>\n    <tr>\n      <th>charles</th>\n      <td>NaN</td>\n      <td>185</td>\n      <td>112</td>\n      <td>26</td>\n      <td>False</td>\n      <td>5.0</td>\n      <td>32.724617</td>\n      <td>True</td>\n    </tr>\n  </tbody>\n</table>\n</div>"
     },
     "execution_count": 83,
     "metadata": {},
     "output_type": "execute_result"
    }
   ],
   "source": [
    "(people\n",
    " .assign(body_mass_index=lambda df: df['weight'] / (df['height'] / 100) ** 2)\n",
    " .assign(overweight=lambda df: df['body_mass_index'] > 25)\n",
    " )"
   ],
   "metadata": {
    "collapsed": false,
    "ExecuteTime": {
     "end_time": "2023-05-05T10:23:44.678731800Z",
     "start_time": "2023-05-05T10:23:38.186828Z"
    }
   }
  },
  {
   "cell_type": "code",
   "execution_count": 84,
   "outputs": [
    {
     "data": {
      "text/plain": "alice      False\nbob         True\ncharles     True\ndtype: bool"
     },
     "execution_count": 84,
     "metadata": {},
     "output_type": "execute_result"
    }
   ],
   "source": [
    "people.eval('weight / (height/100) ** 2 > 25')"
   ],
   "metadata": {
    "collapsed": false,
    "ExecuteTime": {
     "end_time": "2023-05-05T10:23:44.678731800Z",
     "start_time": "2023-05-05T10:23:38.202652Z"
    }
   }
  },
  {
   "cell_type": "code",
   "execution_count": 85,
   "outputs": [
    {
     "data": {
      "text/plain": "           hobby  height  weight  age  over30  pets  body_mass_index\nalice     Biking     172      68   33    True   NaN        22.985398\nbob      Dancing     181      83   34    True   0.0        25.335002\ncharles      NaN     185     112   26   False   5.0        32.724617",
      "text/html": "<div>\n<style scoped>\n    .dataframe tbody tr th:only-of-type {\n        vertical-align: middle;\n    }\n\n    .dataframe tbody tr th {\n        vertical-align: top;\n    }\n\n    .dataframe thead th {\n        text-align: right;\n    }\n</style>\n<table border=\"1\" class=\"dataframe\">\n  <thead>\n    <tr style=\"text-align: right;\">\n      <th></th>\n      <th>hobby</th>\n      <th>height</th>\n      <th>weight</th>\n      <th>age</th>\n      <th>over30</th>\n      <th>pets</th>\n      <th>body_mass_index</th>\n    </tr>\n  </thead>\n  <tbody>\n    <tr>\n      <th>alice</th>\n      <td>Biking</td>\n      <td>172</td>\n      <td>68</td>\n      <td>33</td>\n      <td>True</td>\n      <td>NaN</td>\n      <td>22.985398</td>\n    </tr>\n    <tr>\n      <th>bob</th>\n      <td>Dancing</td>\n      <td>181</td>\n      <td>83</td>\n      <td>34</td>\n      <td>True</td>\n      <td>0.0</td>\n      <td>25.335002</td>\n    </tr>\n    <tr>\n      <th>charles</th>\n      <td>NaN</td>\n      <td>185</td>\n      <td>112</td>\n      <td>26</td>\n      <td>False</td>\n      <td>5.0</td>\n      <td>32.724617</td>\n    </tr>\n  </tbody>\n</table>\n</div>"
     },
     "execution_count": 85,
     "metadata": {},
     "output_type": "execute_result"
    }
   ],
   "source": [
    "people.eval('body_mass_index = weight / (height/100) ** 2', inplace=True)\n",
    "people"
   ],
   "metadata": {
    "collapsed": false,
    "ExecuteTime": {
     "end_time": "2023-05-05T10:23:44.678731800Z",
     "start_time": "2023-05-05T10:23:38.218663100Z"
    }
   }
  },
  {
   "cell_type": "code",
   "execution_count": 86,
   "outputs": [
    {
     "data": {
      "text/plain": "           hobby  height  weight  age  over30  pets  body_mass_index   \nalice     Biking     172      68   33    True   NaN        22.985398  \\\nbob      Dancing     181      83   34    True   0.0        25.335002   \ncharles      NaN     185     112   26   False   5.0        32.724617   \n\n         overweight  \nalice         False  \nbob           False  \ncharles        True  ",
      "text/html": "<div>\n<style scoped>\n    .dataframe tbody tr th:only-of-type {\n        vertical-align: middle;\n    }\n\n    .dataframe tbody tr th {\n        vertical-align: top;\n    }\n\n    .dataframe thead th {\n        text-align: right;\n    }\n</style>\n<table border=\"1\" class=\"dataframe\">\n  <thead>\n    <tr style=\"text-align: right;\">\n      <th></th>\n      <th>hobby</th>\n      <th>height</th>\n      <th>weight</th>\n      <th>age</th>\n      <th>over30</th>\n      <th>pets</th>\n      <th>body_mass_index</th>\n      <th>overweight</th>\n    </tr>\n  </thead>\n  <tbody>\n    <tr>\n      <th>alice</th>\n      <td>Biking</td>\n      <td>172</td>\n      <td>68</td>\n      <td>33</td>\n      <td>True</td>\n      <td>NaN</td>\n      <td>22.985398</td>\n      <td>False</td>\n    </tr>\n    <tr>\n      <th>bob</th>\n      <td>Dancing</td>\n      <td>181</td>\n      <td>83</td>\n      <td>34</td>\n      <td>True</td>\n      <td>0.0</td>\n      <td>25.335002</td>\n      <td>False</td>\n    </tr>\n    <tr>\n      <th>charles</th>\n      <td>NaN</td>\n      <td>185</td>\n      <td>112</td>\n      <td>26</td>\n      <td>False</td>\n      <td>5.0</td>\n      <td>32.724617</td>\n      <td>True</td>\n    </tr>\n  </tbody>\n</table>\n</div>"
     },
     "execution_count": 86,
     "metadata": {},
     "output_type": "execute_result"
    }
   ],
   "source": [
    "overweight_threshold = 30\n",
    "people.eval('overweight = body_mass_index > @overweight_threshold', inplace=True)\n",
    "people"
   ],
   "metadata": {
    "collapsed": false,
    "ExecuteTime": {
     "end_time": "2023-05-05T10:23:44.694441200Z",
     "start_time": "2023-05-05T10:23:38.263186500Z"
    }
   }
  },
  {
   "cell_type": "code",
   "execution_count": 87,
   "outputs": [
    {
     "data": {
      "text/plain": "       hobby  height  weight  age  over30  pets  body_mass_index  overweight\nbob  Dancing     181      83   34    True   0.0        25.335002       False",
      "text/html": "<div>\n<style scoped>\n    .dataframe tbody tr th:only-of-type {\n        vertical-align: middle;\n    }\n\n    .dataframe tbody tr th {\n        vertical-align: top;\n    }\n\n    .dataframe thead th {\n        text-align: right;\n    }\n</style>\n<table border=\"1\" class=\"dataframe\">\n  <thead>\n    <tr style=\"text-align: right;\">\n      <th></th>\n      <th>hobby</th>\n      <th>height</th>\n      <th>weight</th>\n      <th>age</th>\n      <th>over30</th>\n      <th>pets</th>\n      <th>body_mass_index</th>\n      <th>overweight</th>\n    </tr>\n  </thead>\n  <tbody>\n    <tr>\n      <th>bob</th>\n      <td>Dancing</td>\n      <td>181</td>\n      <td>83</td>\n      <td>34</td>\n      <td>True</td>\n      <td>0.0</td>\n      <td>25.335002</td>\n      <td>False</td>\n    </tr>\n  </tbody>\n</table>\n</div>"
     },
     "execution_count": 87,
     "metadata": {},
     "output_type": "execute_result"
    }
   ],
   "source": [
    "people.query('age > 30 and pets == 0')"
   ],
   "metadata": {
    "collapsed": false,
    "ExecuteTime": {
     "end_time": "2023-05-05T10:23:44.694441200Z",
     "start_time": "2023-05-05T10:23:38.272783500Z"
    }
   }
  },
  {
   "cell_type": "code",
   "execution_count": 88,
   "outputs": [
    {
     "data": {
      "text/plain": "           hobby  height  weight  age  over30  pets  body_mass_index   \ncharles      NaN     185     112   26   False   5.0        32.724617  \\\nbob      Dancing     181      83   34    True   0.0        25.335002   \nalice     Biking     172      68   33    True   NaN        22.985398   \n\n         overweight  \ncharles        True  \nbob           False  \nalice         False  ",
      "text/html": "<div>\n<style scoped>\n    .dataframe tbody tr th:only-of-type {\n        vertical-align: middle;\n    }\n\n    .dataframe tbody tr th {\n        vertical-align: top;\n    }\n\n    .dataframe thead th {\n        text-align: right;\n    }\n</style>\n<table border=\"1\" class=\"dataframe\">\n  <thead>\n    <tr style=\"text-align: right;\">\n      <th></th>\n      <th>hobby</th>\n      <th>height</th>\n      <th>weight</th>\n      <th>age</th>\n      <th>over30</th>\n      <th>pets</th>\n      <th>body_mass_index</th>\n      <th>overweight</th>\n    </tr>\n  </thead>\n  <tbody>\n    <tr>\n      <th>charles</th>\n      <td>NaN</td>\n      <td>185</td>\n      <td>112</td>\n      <td>26</td>\n      <td>False</td>\n      <td>5.0</td>\n      <td>32.724617</td>\n      <td>True</td>\n    </tr>\n    <tr>\n      <th>bob</th>\n      <td>Dancing</td>\n      <td>181</td>\n      <td>83</td>\n      <td>34</td>\n      <td>True</td>\n      <td>0.0</td>\n      <td>25.335002</td>\n      <td>False</td>\n    </tr>\n    <tr>\n      <th>alice</th>\n      <td>Biking</td>\n      <td>172</td>\n      <td>68</td>\n      <td>33</td>\n      <td>True</td>\n      <td>NaN</td>\n      <td>22.985398</td>\n      <td>False</td>\n    </tr>\n  </tbody>\n</table>\n</div>"
     },
     "execution_count": 88,
     "metadata": {},
     "output_type": "execute_result"
    }
   ],
   "source": [
    "people.sort_index(ascending=False)"
   ],
   "metadata": {
    "collapsed": false,
    "ExecuteTime": {
     "end_time": "2023-05-05T10:23:44.694441200Z",
     "start_time": "2023-05-05T10:23:38.288475700Z"
    }
   }
  },
  {
   "cell_type": "code",
   "execution_count": 89,
   "outputs": [
    {
     "data": {
      "text/plain": "         age  body_mass_index  height    hobby  over30  overweight  pets   \nalice     33        22.985398     172   Biking    True       False   NaN  \\\nbob       34        25.335002     181  Dancing    True       False   0.0   \ncharles   26        32.724617     185      NaN   False        True   5.0   \n\n         weight  \nalice        68  \nbob          83  \ncharles     112  ",
      "text/html": "<div>\n<style scoped>\n    .dataframe tbody tr th:only-of-type {\n        vertical-align: middle;\n    }\n\n    .dataframe tbody tr th {\n        vertical-align: top;\n    }\n\n    .dataframe thead th {\n        text-align: right;\n    }\n</style>\n<table border=\"1\" class=\"dataframe\">\n  <thead>\n    <tr style=\"text-align: right;\">\n      <th></th>\n      <th>age</th>\n      <th>body_mass_index</th>\n      <th>height</th>\n      <th>hobby</th>\n      <th>over30</th>\n      <th>overweight</th>\n      <th>pets</th>\n      <th>weight</th>\n    </tr>\n  </thead>\n  <tbody>\n    <tr>\n      <th>alice</th>\n      <td>33</td>\n      <td>22.985398</td>\n      <td>172</td>\n      <td>Biking</td>\n      <td>True</td>\n      <td>False</td>\n      <td>NaN</td>\n      <td>68</td>\n    </tr>\n    <tr>\n      <th>bob</th>\n      <td>34</td>\n      <td>25.335002</td>\n      <td>181</td>\n      <td>Dancing</td>\n      <td>True</td>\n      <td>False</td>\n      <td>0.0</td>\n      <td>83</td>\n    </tr>\n    <tr>\n      <th>charles</th>\n      <td>26</td>\n      <td>32.724617</td>\n      <td>185</td>\n      <td>NaN</td>\n      <td>False</td>\n      <td>True</td>\n      <td>5.0</td>\n      <td>112</td>\n    </tr>\n  </tbody>\n</table>\n</div>"
     },
     "execution_count": 89,
     "metadata": {},
     "output_type": "execute_result"
    }
   ],
   "source": [
    "people.sort_index(axis=1, inplace=True)\n",
    "people"
   ],
   "metadata": {
    "collapsed": false,
    "ExecuteTime": {
     "end_time": "2023-05-05T10:23:44.694441200Z",
     "start_time": "2023-05-05T10:23:38.304257900Z"
    }
   }
  },
  {
   "cell_type": "code",
   "execution_count": 90,
   "outputs": [
    {
     "data": {
      "text/plain": "         age  body_mass_index  height    hobby  over30  overweight  pets   \ncharles   26        32.724617     185      NaN   False        True   5.0  \\\nalice     33        22.985398     172   Biking    True       False   NaN   \nbob       34        25.335002     181  Dancing    True       False   0.0   \n\n         weight  \ncharles     112  \nalice        68  \nbob          83  ",
      "text/html": "<div>\n<style scoped>\n    .dataframe tbody tr th:only-of-type {\n        vertical-align: middle;\n    }\n\n    .dataframe tbody tr th {\n        vertical-align: top;\n    }\n\n    .dataframe thead th {\n        text-align: right;\n    }\n</style>\n<table border=\"1\" class=\"dataframe\">\n  <thead>\n    <tr style=\"text-align: right;\">\n      <th></th>\n      <th>age</th>\n      <th>body_mass_index</th>\n      <th>height</th>\n      <th>hobby</th>\n      <th>over30</th>\n      <th>overweight</th>\n      <th>pets</th>\n      <th>weight</th>\n    </tr>\n  </thead>\n  <tbody>\n    <tr>\n      <th>charles</th>\n      <td>26</td>\n      <td>32.724617</td>\n      <td>185</td>\n      <td>NaN</td>\n      <td>False</td>\n      <td>True</td>\n      <td>5.0</td>\n      <td>112</td>\n    </tr>\n    <tr>\n      <th>alice</th>\n      <td>33</td>\n      <td>22.985398</td>\n      <td>172</td>\n      <td>Biking</td>\n      <td>True</td>\n      <td>False</td>\n      <td>NaN</td>\n      <td>68</td>\n    </tr>\n    <tr>\n      <th>bob</th>\n      <td>34</td>\n      <td>25.335002</td>\n      <td>181</td>\n      <td>Dancing</td>\n      <td>True</td>\n      <td>False</td>\n      <td>0.0</td>\n      <td>83</td>\n    </tr>\n  </tbody>\n</table>\n</div>"
     },
     "execution_count": 90,
     "metadata": {},
     "output_type": "execute_result"
    }
   ],
   "source": [
    "people.sort_values(by='age', inplace=True)\n",
    "people"
   ],
   "metadata": {
    "collapsed": false,
    "ExecuteTime": {
     "end_time": "2023-05-05T10:23:44.710062200Z",
     "start_time": "2023-05-05T10:23:38.320025600Z"
    }
   }
  },
  {
   "cell_type": "code",
   "execution_count": 91,
   "outputs": [
    {
     "data": {
      "text/plain": "<Figure size 640x480 with 1 Axes>",
      "image/png": "[encoded data removed]"
     },
     "metadata": {},
     "output_type": "display_data"
    }
   ],
   "source": [
    "people.plot(kind='line', x='body_mass_index', y=['height', 'weight'])\n",
    "plt.show()"
   ],
   "metadata": {
    "collapsed": false,
    "ExecuteTime": {
     "end_time": "2023-05-05T10:23:44.725612800Z",
     "start_time": "2023-05-05T10:23:38.338143400Z"
    }
   }
  },
  {
   "cell_type": "code",
   "execution_count": 92,
   "outputs": [
    {
     "data": {
      "text/plain": "<Figure size 640x480 with 1 Axes>",
      "image/png": "[encoded data removed]"
     },
     "metadata": {},
     "output_type": "display_data"
    }
   ],
   "source": [
    "people.plot(kind='scatter', x='height', y='weight', s=[40, 120, 200])\n",
    "plt.show()"
   ],
   "metadata": {
    "collapsed": false,
    "ExecuteTime": {
     "end_time": "2023-05-05T10:23:44.741308900Z",
     "start_time": "2023-05-05T10:23:38.509493600Z"
    }
   }
  },
  {
   "cell_type": "code",
   "execution_count": 93,
   "outputs": [
    {
     "data": {
      "text/plain": "         sep  oct  nov\nalice      8    8    9\nbob       10    9    9\ncharles    4    8    2\ndarwin     9   10   10",
      "text/html": "<div>\n<style scoped>\n    .dataframe tbody tr th:only-of-type {\n        vertical-align: middle;\n    }\n\n    .dataframe tbody tr th {\n        vertical-align: top;\n    }\n\n    .dataframe thead th {\n        text-align: right;\n    }\n</style>\n<table border=\"1\" class=\"dataframe\">\n  <thead>\n    <tr style=\"text-align: right;\">\n      <th></th>\n      <th>sep</th>\n      <th>oct</th>\n      <th>nov</th>\n    </tr>\n  </thead>\n  <tbody>\n    <tr>\n      <th>alice</th>\n      <td>8</td>\n      <td>8</td>\n      <td>9</td>\n    </tr>\n    <tr>\n      <th>bob</th>\n      <td>10</td>\n      <td>9</td>\n      <td>9</td>\n    </tr>\n    <tr>\n      <th>charles</th>\n      <td>4</td>\n      <td>8</td>\n      <td>2</td>\n    </tr>\n    <tr>\n      <th>darwin</th>\n      <td>9</td>\n      <td>10</td>\n      <td>10</td>\n    </tr>\n  </tbody>\n</table>\n</div>"
     },
     "execution_count": 93,
     "metadata": {},
     "output_type": "execute_result"
    }
   ],
   "source": [
    "grades_array = np.array([[8, 8, 9], [10, 9, 9], [4, 8, 2], [9, 10, 10]])\n",
    "grades = pd.DataFrame(grades_array, columns=['sep', 'oct', 'nov'], index=['alice', 'bob', 'charles', 'darwin'])\n",
    "grades"
   ],
   "metadata": {
    "collapsed": false,
    "ExecuteTime": {
     "end_time": "2023-05-05T10:23:44.741308900Z",
     "start_time": "2023-05-05T10:23:38.620024600Z"
    }
   }
  },
  {
   "cell_type": "code",
   "execution_count": 94,
   "outputs": [
    {
     "data": {
      "text/plain": "              sep       oct       nov\nalice    2.828427  2.828427  3.000000\nbob      3.162278  3.000000  3.000000\ncharles  2.000000  2.828427  1.414214\ndarwin   3.000000  3.162278  3.162278",
      "text/html": "<div>\n<style scoped>\n    .dataframe tbody tr th:only-of-type {\n        vertical-align: middle;\n    }\n\n    .dataframe tbody tr th {\n        vertical-align: top;\n    }\n\n    .dataframe thead th {\n        text-align: right;\n    }\n</style>\n<table border=\"1\" class=\"dataframe\">\n  <thead>\n    <tr style=\"text-align: right;\">\n      <th></th>\n      <th>sep</th>\n      <th>oct</th>\n      <th>nov</th>\n    </tr>\n  </thead>\n  <tbody>\n    <tr>\n      <th>alice</th>\n      <td>2.828427</td>\n      <td>2.828427</td>\n      <td>3.000000</td>\n    </tr>\n    <tr>\n      <th>bob</th>\n      <td>3.162278</td>\n      <td>3.000000</td>\n      <td>3.000000</td>\n    </tr>\n    <tr>\n      <th>charles</th>\n      <td>2.000000</td>\n      <td>2.828427</td>\n      <td>1.414214</td>\n    </tr>\n    <tr>\n      <th>darwin</th>\n      <td>3.000000</td>\n      <td>3.162278</td>\n      <td>3.162278</td>\n    </tr>\n  </tbody>\n</table>\n</div>"
     },
     "execution_count": 94,
     "metadata": {},
     "output_type": "execute_result"
    }
   ],
   "source": [
    "np.sqrt(grades)"
   ],
   "metadata": {
    "collapsed": false,
    "ExecuteTime": {
     "end_time": "2023-05-05T10:23:44.741308900Z",
     "start_time": "2023-05-05T10:23:38.635857200Z"
    }
   }
  },
  {
   "cell_type": "code",
   "execution_count": 95,
   "outputs": [
    {
     "data": {
      "text/plain": "         sep  oct  nov\nalice      9    9   10\nbob       11   10   10\ncharles    5    9    3\ndarwin    10   11   11",
      "text/html": "<div>\n<style scoped>\n    .dataframe tbody tr th:only-of-type {\n        vertical-align: middle;\n    }\n\n    .dataframe tbody tr th {\n        vertical-align: top;\n    }\n\n    .dataframe thead th {\n        text-align: right;\n    }\n</style>\n<table border=\"1\" class=\"dataframe\">\n  <thead>\n    <tr style=\"text-align: right;\">\n      <th></th>\n      <th>sep</th>\n      <th>oct</th>\n      <th>nov</th>\n    </tr>\n  </thead>\n  <tbody>\n    <tr>\n      <th>alice</th>\n      <td>9</td>\n      <td>9</td>\n      <td>10</td>\n    </tr>\n    <tr>\n      <th>bob</th>\n      <td>11</td>\n      <td>10</td>\n      <td>10</td>\n    </tr>\n    <tr>\n      <th>charles</th>\n      <td>5</td>\n      <td>9</td>\n      <td>3</td>\n    </tr>\n    <tr>\n      <th>darwin</th>\n      <td>10</td>\n      <td>11</td>\n      <td>11</td>\n    </tr>\n  </tbody>\n</table>\n</div>"
     },
     "execution_count": 95,
     "metadata": {},
     "output_type": "execute_result"
    }
   ],
   "source": [
    "grades + 1"
   ],
   "metadata": {
    "collapsed": false,
    "ExecuteTime": {
     "end_time": "2023-05-05T10:23:44.741308900Z",
     "start_time": "2023-05-05T10:23:38.651581600Z"
    }
   }
  },
  {
   "cell_type": "code",
   "execution_count": 96,
   "outputs": [
    {
     "data": {
      "text/plain": "           sep   oct    nov\nalice     True  True   True\nbob       True  True   True\ncharles  False  True  False\ndarwin    True  True   True",
      "text/html": "<div>\n<style scoped>\n    .dataframe tbody tr th:only-of-type {\n        vertical-align: middle;\n    }\n\n    .dataframe tbody tr th {\n        vertical-align: top;\n    }\n\n    .dataframe thead th {\n        text-align: right;\n    }\n</style>\n<table border=\"1\" class=\"dataframe\">\n  <thead>\n    <tr style=\"text-align: right;\">\n      <th></th>\n      <th>sep</th>\n      <th>oct</th>\n      <th>nov</th>\n    </tr>\n  </thead>\n  <tbody>\n    <tr>\n      <th>alice</th>\n      <td>True</td>\n      <td>True</td>\n      <td>True</td>\n    </tr>\n    <tr>\n      <th>bob</th>\n      <td>True</td>\n      <td>True</td>\n      <td>True</td>\n    </tr>\n    <tr>\n      <th>charles</th>\n      <td>False</td>\n      <td>True</td>\n      <td>False</td>\n    </tr>\n    <tr>\n      <th>darwin</th>\n      <td>True</td>\n      <td>True</td>\n      <td>True</td>\n    </tr>\n  </tbody>\n</table>\n</div>"
     },
     "execution_count": 96,
     "metadata": {},
     "output_type": "execute_result"
    }
   ],
   "source": [
    "grades >= 5"
   ],
   "metadata": {
    "collapsed": false,
    "ExecuteTime": {
     "end_time": "2023-05-05T10:23:44.756944200Z",
     "start_time": "2023-05-05T10:23:38.667621600Z"
    }
   }
  },
  {
   "cell_type": "code",
   "execution_count": 97,
   "outputs": [
    {
     "data": {
      "text/plain": "sep    7.75\noct    8.75\nnov    7.50\ndtype: float64"
     },
     "execution_count": 97,
     "metadata": {},
     "output_type": "execute_result"
    }
   ],
   "source": [
    "grades.mean()"
   ],
   "metadata": {
    "collapsed": false,
    "ExecuteTime": {
     "end_time": "2023-05-05T10:23:44.756944200Z",
     "start_time": "2023-05-05T10:23:38.683512900Z"
    }
   }
  },
  {
   "cell_type": "code",
   "execution_count": 98,
   "outputs": [
    {
     "data": {
      "text/plain": "sep    False\noct     True\nnov    False\ndtype: bool"
     },
     "execution_count": 98,
     "metadata": {},
     "output_type": "execute_result"
    }
   ],
   "source": [
    "(grades > 5).all()"
   ],
   "metadata": {
    "collapsed": false,
    "ExecuteTime": {
     "end_time": "2023-05-05T10:23:44.756944200Z",
     "start_time": "2023-05-05T10:23:38.699141600Z"
    }
   }
  },
  {
   "cell_type": "code",
   "execution_count": 99,
   "outputs": [
    {
     "data": {
      "text/plain": "alice       True\nbob         True\ncharles    False\ndarwin      True\ndtype: bool"
     },
     "execution_count": 99,
     "metadata": {},
     "output_type": "execute_result"
    }
   ],
   "source": [
    "(grades > 5).all(axis=1)"
   ],
   "metadata": {
    "collapsed": false,
    "ExecuteTime": {
     "end_time": "2023-05-05T10:23:44.756944200Z",
     "start_time": "2023-05-05T10:23:38.714765200Z"
    }
   }
  },
  {
   "cell_type": "code",
   "execution_count": 100,
   "outputs": [
    {
     "data": {
      "text/plain": "alice      False\nbob         True\ncharles    False\ndarwin      True\ndtype: bool"
     },
     "execution_count": 100,
     "metadata": {},
     "output_type": "execute_result"
    }
   ],
   "source": [
    "(grades == 10).any(axis=1)"
   ],
   "metadata": {
    "collapsed": false,
    "ExecuteTime": {
     "end_time": "2023-05-05T10:23:44.777658600Z",
     "start_time": "2023-05-05T10:23:38.730388200Z"
    }
   }
  },
  {
   "cell_type": "code",
   "execution_count": 101,
   "outputs": [
    {
     "data": {
      "text/plain": "          sep   oct  nov\nalice    0.25 -0.75  1.5\nbob      2.25  0.25  1.5\ncharles -3.75 -0.75 -5.5\ndarwin   1.25  1.25  2.5",
      "text/html": "<div>\n<style scoped>\n    .dataframe tbody tr th:only-of-type {\n        vertical-align: middle;\n    }\n\n    .dataframe tbody tr th {\n        vertical-align: top;\n    }\n\n    .dataframe thead th {\n        text-align: right;\n    }\n</style>\n<table border=\"1\" class=\"dataframe\">\n  <thead>\n    <tr style=\"text-align: right;\">\n      <th></th>\n      <th>sep</th>\n      <th>oct</th>\n      <th>nov</th>\n    </tr>\n  </thead>\n  <tbody>\n    <tr>\n      <th>alice</th>\n      <td>0.25</td>\n      <td>-0.75</td>\n      <td>1.5</td>\n    </tr>\n    <tr>\n      <th>bob</th>\n      <td>2.25</td>\n      <td>0.25</td>\n      <td>1.5</td>\n    </tr>\n    <tr>\n      <th>charles</th>\n      <td>-3.75</td>\n      <td>-0.75</td>\n      <td>-5.5</td>\n    </tr>\n    <tr>\n      <th>darwin</th>\n      <td>1.25</td>\n      <td>1.25</td>\n      <td>2.5</td>\n    </tr>\n  </tbody>\n</table>\n</div>"
     },
     "execution_count": 101,
     "metadata": {},
     "output_type": "execute_result"
    }
   ],
   "source": [
    "grades - grades.mean()"
   ],
   "metadata": {
    "collapsed": false,
    "ExecuteTime": {
     "end_time": "2023-05-05T10:23:44.777658600Z",
     "start_time": "2023-05-05T10:23:38.746011500Z"
    }
   }
  },
  {
   "cell_type": "code",
   "execution_count": 102,
   "outputs": [
    {
     "data": {
      "text/plain": "          sep   oct  nov\nalice    7.75  8.75  7.5\nbob      7.75  8.75  7.5\ncharles  7.75  8.75  7.5\ndarwin   7.75  8.75  7.5",
      "text/html": "<div>\n<style scoped>\n    .dataframe tbody tr th:only-of-type {\n        vertical-align: middle;\n    }\n\n    .dataframe tbody tr th {\n        vertical-align: top;\n    }\n\n    .dataframe thead th {\n        text-align: right;\n    }\n</style>\n<table border=\"1\" class=\"dataframe\">\n  <thead>\n    <tr style=\"text-align: right;\">\n      <th></th>\n      <th>sep</th>\n      <th>oct</th>\n      <th>nov</th>\n    </tr>\n  </thead>\n  <tbody>\n    <tr>\n      <th>alice</th>\n      <td>7.75</td>\n      <td>8.75</td>\n      <td>7.5</td>\n    </tr>\n    <tr>\n      <th>bob</th>\n      <td>7.75</td>\n      <td>8.75</td>\n      <td>7.5</td>\n    </tr>\n    <tr>\n      <th>charles</th>\n      <td>7.75</td>\n      <td>8.75</td>\n      <td>7.5</td>\n    </tr>\n    <tr>\n      <th>darwin</th>\n      <td>7.75</td>\n      <td>8.75</td>\n      <td>7.5</td>\n    </tr>\n  </tbody>\n</table>\n</div>"
     },
     "execution_count": 102,
     "metadata": {},
     "output_type": "execute_result"
    }
   ],
   "source": [
    "pd.DataFrame([[7.75, 8.75, 7.50]] * 4, index=grades.index, columns=grades.columns)"
   ],
   "metadata": {
    "collapsed": false,
    "ExecuteTime": {
     "end_time": "2023-05-05T10:23:44.777658600Z",
     "start_time": "2023-05-05T10:23:38.764143900Z"
    }
   }
  },
  {
   "cell_type": "code",
   "execution_count": 103,
   "outputs": [
    {
     "data": {
      "text/plain": "         sep  oct  nov\nalice    0.0  0.0  1.0\nbob      2.0  1.0  1.0\ncharles -4.0  0.0 -6.0\ndarwin   1.0  2.0  2.0",
      "text/html": "<div>\n<style scoped>\n    .dataframe tbody tr th:only-of-type {\n        vertical-align: middle;\n    }\n\n    .dataframe tbody tr th {\n        vertical-align: top;\n    }\n\n    .dataframe thead th {\n        text-align: right;\n    }\n</style>\n<table border=\"1\" class=\"dataframe\">\n  <thead>\n    <tr style=\"text-align: right;\">\n      <th></th>\n      <th>sep</th>\n      <th>oct</th>\n      <th>nov</th>\n    </tr>\n  </thead>\n  <tbody>\n    <tr>\n      <th>alice</th>\n      <td>0.0</td>\n      <td>0.0</td>\n      <td>1.0</td>\n    </tr>\n    <tr>\n      <th>bob</th>\n      <td>2.0</td>\n      <td>1.0</td>\n      <td>1.0</td>\n    </tr>\n    <tr>\n      <th>charles</th>\n      <td>-4.0</td>\n      <td>0.0</td>\n      <td>-6.0</td>\n    </tr>\n    <tr>\n      <th>darwin</th>\n      <td>1.0</td>\n      <td>2.0</td>\n      <td>2.0</td>\n    </tr>\n  </tbody>\n</table>\n</div>"
     },
     "execution_count": 103,
     "metadata": {},
     "output_type": "execute_result"
    }
   ],
   "source": [
    "grades - grades.values.mean()"
   ],
   "metadata": {
    "collapsed": false,
    "ExecuteTime": {
     "end_time": "2023-05-05T10:23:44.777658600Z",
     "start_time": "2023-05-05T10:23:38.777652300Z"
    }
   }
  },
  {
   "cell_type": "code",
   "execution_count": 104,
   "outputs": [
    {
     "data": {
      "text/plain": "         oct  nov  dec\nbob      0.0  NaN  2.0\ncolin    NaN  1.0  0.0\ndarwin   0.0  1.0  0.0\ncharles  3.0  3.0  0.0",
      "text/html": "<div>\n<style scoped>\n    .dataframe tbody tr th:only-of-type {\n        vertical-align: middle;\n    }\n\n    .dataframe tbody tr th {\n        vertical-align: top;\n    }\n\n    .dataframe thead th {\n        text-align: right;\n    }\n</style>\n<table border=\"1\" class=\"dataframe\">\n  <thead>\n    <tr style=\"text-align: right;\">\n      <th></th>\n      <th>oct</th>\n      <th>nov</th>\n      <th>dec</th>\n    </tr>\n  </thead>\n  <tbody>\n    <tr>\n      <th>bob</th>\n      <td>0.0</td>\n      <td>NaN</td>\n      <td>2.0</td>\n    </tr>\n    <tr>\n      <th>colin</th>\n      <td>NaN</td>\n      <td>1.0</td>\n      <td>0.0</td>\n    </tr>\n    <tr>\n      <th>darwin</th>\n      <td>0.0</td>\n      <td>1.0</td>\n      <td>0.0</td>\n    </tr>\n    <tr>\n      <th>charles</th>\n      <td>3.0</td>\n      <td>3.0</td>\n      <td>0.0</td>\n    </tr>\n  </tbody>\n</table>\n</div>"
     },
     "execution_count": 104,
     "metadata": {},
     "output_type": "execute_result"
    }
   ],
   "source": [
    "bonus_array = np.array([[0, np.nan, 2], [np.nan, 1, 0], [0, 1, 0], [3, 3, 0]])\n",
    "bonus_points = pd.DataFrame(bonus_array, columns=['oct', 'nov', 'dec'], index=['bob', 'colin', 'darwin', 'charles'])\n",
    "bonus_points"
   ],
   "metadata": {
    "collapsed": false,
    "ExecuteTime": {
     "end_time": "2023-05-05T10:23:44.777658600Z",
     "start_time": "2023-05-05T10:23:38.793539600Z"
    }
   }
  },
  {
   "cell_type": "code",
   "execution_count": 105,
   "outputs": [
    {
     "data": {
      "text/plain": "         dec   nov   oct  sep\nalice    NaN   NaN   NaN  NaN\nbob      NaN   NaN   9.0  NaN\ncharles  NaN   5.0  11.0  NaN\ncolin    NaN   NaN   NaN  NaN\ndarwin   NaN  11.0  10.0  NaN",
      "text/html": "<div>\n<style scoped>\n    .dataframe tbody tr th:only-of-type {\n        vertical-align: middle;\n    }\n\n    .dataframe tbody tr th {\n        vertical-align: top;\n    }\n\n    .dataframe thead th {\n        text-align: right;\n    }\n</style>\n<table border=\"1\" class=\"dataframe\">\n  <thead>\n    <tr style=\"text-align: right;\">\n      <th></th>\n      <th>dec</th>\n      <th>nov</th>\n      <th>oct</th>\n      <th>sep</th>\n    </tr>\n  </thead>\n  <tbody>\n    <tr>\n      <th>alice</th>\n      <td>NaN</td>\n      <td>NaN</td>\n      <td>NaN</td>\n      <td>NaN</td>\n    </tr>\n    <tr>\n      <th>bob</th>\n      <td>NaN</td>\n      <td>NaN</td>\n      <td>9.0</td>\n      <td>NaN</td>\n    </tr>\n    <tr>\n      <th>charles</th>\n      <td>NaN</td>\n      <td>5.0</td>\n      <td>11.0</td>\n      <td>NaN</td>\n    </tr>\n    <tr>\n      <th>colin</th>\n      <td>NaN</td>\n      <td>NaN</td>\n      <td>NaN</td>\n      <td>NaN</td>\n    </tr>\n    <tr>\n      <th>darwin</th>\n      <td>NaN</td>\n      <td>11.0</td>\n      <td>10.0</td>\n      <td>NaN</td>\n    </tr>\n  </tbody>\n</table>\n</div>"
     },
     "execution_count": 105,
     "metadata": {},
     "output_type": "execute_result"
    }
   ],
   "source": [
    "grades + bonus_points"
   ],
   "metadata": {
    "collapsed": false,
    "ExecuteTime": {
     "end_time": "2023-05-05T10:23:44.804379600Z",
     "start_time": "2023-05-05T10:23:38.809516800Z"
    }
   }
  },
  {
   "cell_type": "code",
   "execution_count": 106,
   "outputs": [
    {
     "data": {
      "text/plain": "         dec   nov   oct  sep\nalice    0.0   0.0   0.0  0.0\nbob      0.0   0.0   9.0  0.0\ncharles  0.0   5.0  11.0  0.0\ncolin    0.0   0.0   0.0  0.0\ndarwin   0.0  11.0  10.0  0.0",
      "text/html": "<div>\n<style scoped>\n    .dataframe tbody tr th:only-of-type {\n        vertical-align: middle;\n    }\n\n    .dataframe tbody tr th {\n        vertical-align: top;\n    }\n\n    .dataframe thead th {\n        text-align: right;\n    }\n</style>\n<table border=\"1\" class=\"dataframe\">\n  <thead>\n    <tr style=\"text-align: right;\">\n      <th></th>\n      <th>dec</th>\n      <th>nov</th>\n      <th>oct</th>\n      <th>sep</th>\n    </tr>\n  </thead>\n  <tbody>\n    <tr>\n      <th>alice</th>\n      <td>0.0</td>\n      <td>0.0</td>\n      <td>0.0</td>\n      <td>0.0</td>\n    </tr>\n    <tr>\n      <th>bob</th>\n      <td>0.0</td>\n      <td>0.0</td>\n      <td>9.0</td>\n      <td>0.0</td>\n    </tr>\n    <tr>\n      <th>charles</th>\n      <td>0.0</td>\n      <td>5.0</td>\n      <td>11.0</td>\n      <td>0.0</td>\n    </tr>\n    <tr>\n      <th>colin</th>\n      <td>0.0</td>\n      <td>0.0</td>\n      <td>0.0</td>\n      <td>0.0</td>\n    </tr>\n    <tr>\n      <th>darwin</th>\n      <td>0.0</td>\n      <td>11.0</td>\n      <td>10.0</td>\n      <td>0.0</td>\n    </tr>\n  </tbody>\n</table>\n</div>"
     },
     "execution_count": 106,
     "metadata": {},
     "output_type": "execute_result"
    }
   ],
   "source": [
    "(grades + bonus_points).fillna(0)"
   ],
   "metadata": {
    "collapsed": false,
    "ExecuteTime": {
     "end_time": "2023-05-05T10:23:44.804379600Z",
     "start_time": "2023-05-05T10:23:38.825481400Z"
    }
   }
  },
  {
   "cell_type": "code",
   "execution_count": 107,
   "outputs": [
    {
     "data": {
      "text/plain": "         dec   nov   oct   sep\nalice    NaN   9.0   8.0   8.0\nbob      NaN   9.0   9.0  10.0\ncharles  NaN   5.0  11.0   4.0\ncolin    NaN   NaN   NaN   NaN\ndarwin   NaN  11.0  10.0   9.0",
      "text/html": "<div>\n<style scoped>\n    .dataframe tbody tr th:only-of-type {\n        vertical-align: middle;\n    }\n\n    .dataframe tbody tr th {\n        vertical-align: top;\n    }\n\n    .dataframe thead th {\n        text-align: right;\n    }\n</style>\n<table border=\"1\" class=\"dataframe\">\n  <thead>\n    <tr style=\"text-align: right;\">\n      <th></th>\n      <th>dec</th>\n      <th>nov</th>\n      <th>oct</th>\n      <th>sep</th>\n    </tr>\n  </thead>\n  <tbody>\n    <tr>\n      <th>alice</th>\n      <td>NaN</td>\n      <td>9.0</td>\n      <td>8.0</td>\n      <td>8.0</td>\n    </tr>\n    <tr>\n      <th>bob</th>\n      <td>NaN</td>\n      <td>9.0</td>\n      <td>9.0</td>\n      <td>10.0</td>\n    </tr>\n    <tr>\n      <th>charles</th>\n      <td>NaN</td>\n      <td>5.0</td>\n      <td>11.0</td>\n      <td>4.0</td>\n    </tr>\n    <tr>\n      <th>colin</th>\n      <td>NaN</td>\n      <td>NaN</td>\n      <td>NaN</td>\n      <td>NaN</td>\n    </tr>\n    <tr>\n      <th>darwin</th>\n      <td>NaN</td>\n      <td>11.0</td>\n      <td>10.0</td>\n      <td>9.0</td>\n    </tr>\n  </tbody>\n</table>\n</div>"
     },
     "execution_count": 107,
     "metadata": {},
     "output_type": "execute_result"
    }
   ],
   "source": [
    "fixed_bonus_points = bonus_points.fillna(0)\n",
    "fixed_bonus_points.insert(0, 'sep', 0)\n",
    "fixed_bonus_points.loc['alice'] = 0\n",
    "grades + fixed_bonus_points"
   ],
   "metadata": {
    "collapsed": false,
    "ExecuteTime": {
     "end_time": "2023-05-05T10:23:44.804379600Z",
     "start_time": "2023-05-05T10:23:38.841217800Z"
    }
   }
  },
  {
   "cell_type": "code",
   "execution_count": 108,
   "outputs": [
    {
     "data": {
      "text/plain": "         oct  nov  dec\nbob      0.0  NaN  2.0\ncolin    NaN  1.0  0.0\ndarwin   0.0  1.0  0.0\ncharles  3.0  3.0  0.0",
      "text/html": "<div>\n<style scoped>\n    .dataframe tbody tr th:only-of-type {\n        vertical-align: middle;\n    }\n\n    .dataframe tbody tr th {\n        vertical-align: top;\n    }\n\n    .dataframe thead th {\n        text-align: right;\n    }\n</style>\n<table border=\"1\" class=\"dataframe\">\n  <thead>\n    <tr style=\"text-align: right;\">\n      <th></th>\n      <th>oct</th>\n      <th>nov</th>\n      <th>dec</th>\n    </tr>\n  </thead>\n  <tbody>\n    <tr>\n      <th>bob</th>\n      <td>0.0</td>\n      <td>NaN</td>\n      <td>2.0</td>\n    </tr>\n    <tr>\n      <th>colin</th>\n      <td>NaN</td>\n      <td>1.0</td>\n      <td>0.0</td>\n    </tr>\n    <tr>\n      <th>darwin</th>\n      <td>0.0</td>\n      <td>1.0</td>\n      <td>0.0</td>\n    </tr>\n    <tr>\n      <th>charles</th>\n      <td>3.0</td>\n      <td>3.0</td>\n      <td>0.0</td>\n    </tr>\n  </tbody>\n</table>\n</div>"
     },
     "execution_count": 108,
     "metadata": {},
     "output_type": "execute_result"
    }
   ],
   "source": [
    "bonus_points"
   ],
   "metadata": {
    "collapsed": false,
    "ExecuteTime": {
     "end_time": "2023-05-05T10:23:44.851992100Z",
     "start_time": "2023-05-05T10:23:38.857159100Z"
    }
   }
  },
  {
   "cell_type": "code",
   "execution_count": 109,
   "outputs": [
    {
     "data": {
      "text/plain": "         oct  nov  dec\nbob      0.0  1.0  2.0\ncolin    NaN  1.0  0.0\ndarwin   0.0  1.0  0.0\ncharles  3.0  3.0  0.0",
      "text/html": "<div>\n<style scoped>\n    .dataframe tbody tr th:only-of-type {\n        vertical-align: middle;\n    }\n\n    .dataframe tbody tr th {\n        vertical-align: top;\n    }\n\n    .dataframe thead th {\n        text-align: right;\n    }\n</style>\n<table border=\"1\" class=\"dataframe\">\n  <thead>\n    <tr style=\"text-align: right;\">\n      <th></th>\n      <th>oct</th>\n      <th>nov</th>\n      <th>dec</th>\n    </tr>\n  </thead>\n  <tbody>\n    <tr>\n      <th>bob</th>\n      <td>0.0</td>\n      <td>1.0</td>\n      <td>2.0</td>\n    </tr>\n    <tr>\n      <th>colin</th>\n      <td>NaN</td>\n      <td>1.0</td>\n      <td>0.0</td>\n    </tr>\n    <tr>\n      <th>darwin</th>\n      <td>0.0</td>\n      <td>1.0</td>\n      <td>0.0</td>\n    </tr>\n    <tr>\n      <th>charles</th>\n      <td>3.0</td>\n      <td>3.0</td>\n      <td>0.0</td>\n    </tr>\n  </tbody>\n</table>\n</div>"
     },
     "execution_count": 109,
     "metadata": {},
     "output_type": "execute_result"
    }
   ],
   "source": [
    "bonus_points.interpolate(axis=1)"
   ],
   "metadata": {
    "collapsed": false,
    "ExecuteTime": {
     "end_time": "2023-05-05T10:23:44.851992100Z",
     "start_time": "2023-05-05T10:23:38.873182200Z"
    }
   }
  },
  {
   "cell_type": "code",
   "execution_count": 110,
   "outputs": [
    {
     "data": {
      "text/plain": "         sep  oct  nov  dec\nbob      0.0  0.0  1.0  2.0\ncolin    0.0  0.5  1.0  0.0\ndarwin   0.0  0.0  1.0  0.0\ncharles  0.0  3.0  3.0  0.0\nalice    0.0  0.0  0.0  0.0",
      "text/html": "<div>\n<style scoped>\n    .dataframe tbody tr th:only-of-type {\n        vertical-align: middle;\n    }\n\n    .dataframe tbody tr th {\n        vertical-align: top;\n    }\n\n    .dataframe thead th {\n        text-align: right;\n    }\n</style>\n<table border=\"1\" class=\"dataframe\">\n  <thead>\n    <tr style=\"text-align: right;\">\n      <th></th>\n      <th>sep</th>\n      <th>oct</th>\n      <th>nov</th>\n      <th>dec</th>\n    </tr>\n  </thead>\n  <tbody>\n    <tr>\n      <th>bob</th>\n      <td>0.0</td>\n      <td>0.0</td>\n      <td>1.0</td>\n      <td>2.0</td>\n    </tr>\n    <tr>\n      <th>colin</th>\n      <td>0.0</td>\n      <td>0.5</td>\n      <td>1.0</td>\n      <td>0.0</td>\n    </tr>\n    <tr>\n      <th>darwin</th>\n      <td>0.0</td>\n      <td>0.0</td>\n      <td>1.0</td>\n      <td>0.0</td>\n    </tr>\n    <tr>\n      <th>charles</th>\n      <td>0.0</td>\n      <td>3.0</td>\n      <td>3.0</td>\n      <td>0.0</td>\n    </tr>\n    <tr>\n      <th>alice</th>\n      <td>0.0</td>\n      <td>0.0</td>\n      <td>0.0</td>\n      <td>0.0</td>\n    </tr>\n  </tbody>\n</table>\n</div>"
     },
     "execution_count": 110,
     "metadata": {},
     "output_type": "execute_result"
    }
   ],
   "source": [
    "better_bonus_points = bonus_points.copy()\n",
    "better_bonus_points.insert(0, 'sep', 0)\n",
    "better_bonus_points.loc['alice'] = 0\n",
    "better_bonus_points = better_bonus_points.interpolate(axis=1)\n",
    "better_bonus_points"
   ],
   "metadata": {
    "collapsed": false,
    "ExecuteTime": {
     "end_time": "2023-05-05T10:23:44.851992100Z",
     "start_time": "2023-05-05T10:23:38.888858300Z"
    }
   }
  },
  {
   "cell_type": "code",
   "execution_count": 111,
   "outputs": [
    {
     "data": {
      "text/plain": "         dec   nov   oct   sep\nalice    NaN   9.0   8.0   8.0\nbob      NaN  10.0   9.0  10.0\ncharles  NaN   5.0  11.0   4.0\ncolin    NaN   NaN   NaN   NaN\ndarwin   NaN  11.0  10.0   9.0",
      "text/html": "<div>\n<style scoped>\n    .dataframe tbody tr th:only-of-type {\n        vertical-align: middle;\n    }\n\n    .dataframe tbody tr th {\n        vertical-align: top;\n    }\n\n    .dataframe thead th {\n        text-align: right;\n    }\n</style>\n<table border=\"1\" class=\"dataframe\">\n  <thead>\n    <tr style=\"text-align: right;\">\n      <th></th>\n      <th>dec</th>\n      <th>nov</th>\n      <th>oct</th>\n      <th>sep</th>\n    </tr>\n  </thead>\n  <tbody>\n    <tr>\n      <th>alice</th>\n      <td>NaN</td>\n      <td>9.0</td>\n      <td>8.0</td>\n      <td>8.0</td>\n    </tr>\n    <tr>\n      <th>bob</th>\n      <td>NaN</td>\n      <td>10.0</td>\n      <td>9.0</td>\n      <td>10.0</td>\n    </tr>\n    <tr>\n      <th>charles</th>\n      <td>NaN</td>\n      <td>5.0</td>\n      <td>11.0</td>\n      <td>4.0</td>\n    </tr>\n    <tr>\n      <th>colin</th>\n      <td>NaN</td>\n      <td>NaN</td>\n      <td>NaN</td>\n      <td>NaN</td>\n    </tr>\n    <tr>\n      <th>darwin</th>\n      <td>NaN</td>\n      <td>11.0</td>\n      <td>10.0</td>\n      <td>9.0</td>\n    </tr>\n  </tbody>\n</table>\n</div>"
     },
     "execution_count": 111,
     "metadata": {},
     "output_type": "execute_result"
    }
   ],
   "source": [
    "grades + better_bonus_points"
   ],
   "metadata": {
    "collapsed": false,
    "ExecuteTime": {
     "end_time": "2023-05-05T10:23:44.851992100Z",
     "start_time": "2023-05-05T10:23:38.904667200Z"
    }
   }
  },
  {
   "cell_type": "code",
   "execution_count": 112,
   "outputs": [
    {
     "data": {
      "text/plain": "          sep   oct   nov  dec\nalice     8.0   8.0   9.0  NaN\nbob      10.0   9.0  10.0  NaN\ncharles   4.0  11.0   5.0  NaN\ncolin     NaN   NaN   NaN  NaN\ndarwin    9.0  10.0  11.0  NaN",
      "text/html": "<div>\n<style scoped>\n    .dataframe tbody tr th:only-of-type {\n        vertical-align: middle;\n    }\n\n    .dataframe tbody tr th {\n        vertical-align: top;\n    }\n\n    .dataframe thead th {\n        text-align: right;\n    }\n</style>\n<table border=\"1\" class=\"dataframe\">\n  <thead>\n    <tr style=\"text-align: right;\">\n      <th></th>\n      <th>sep</th>\n      <th>oct</th>\n      <th>nov</th>\n      <th>dec</th>\n    </tr>\n  </thead>\n  <tbody>\n    <tr>\n      <th>alice</th>\n      <td>8.0</td>\n      <td>8.0</td>\n      <td>9.0</td>\n      <td>NaN</td>\n    </tr>\n    <tr>\n      <th>bob</th>\n      <td>10.0</td>\n      <td>9.0</td>\n      <td>10.0</td>\n      <td>NaN</td>\n    </tr>\n    <tr>\n      <th>charles</th>\n      <td>4.0</td>\n      <td>11.0</td>\n      <td>5.0</td>\n      <td>NaN</td>\n    </tr>\n    <tr>\n      <th>colin</th>\n      <td>NaN</td>\n      <td>NaN</td>\n      <td>NaN</td>\n      <td>NaN</td>\n    </tr>\n    <tr>\n      <th>darwin</th>\n      <td>9.0</td>\n      <td>10.0</td>\n      <td>11.0</td>\n      <td>NaN</td>\n    </tr>\n  </tbody>\n</table>\n</div>"
     },
     "execution_count": 112,
     "metadata": {},
     "output_type": "execute_result"
    }
   ],
   "source": [
    "grades['dec'] = np.nan\n",
    "final_grades = grades + better_bonus_points\n",
    "final_grades"
   ],
   "metadata": {
    "collapsed": false,
    "ExecuteTime": {
     "end_time": "2023-05-05T10:23:44.851992100Z",
     "start_time": "2023-05-05T10:23:38.920432300Z"
    }
   }
  },
  {
   "cell_type": "code",
   "execution_count": 113,
   "outputs": [
    {
     "data": {
      "text/plain": "          sep   oct   nov  dec\nalice     8.0   8.0   9.0  NaN\nbob      10.0   9.0  10.0  NaN\ncharles   4.0  11.0   5.0  NaN\ndarwin    9.0  10.0  11.0  NaN",
      "text/html": "<div>\n<style scoped>\n    .dataframe tbody tr th:only-of-type {\n        vertical-align: middle;\n    }\n\n    .dataframe tbody tr th {\n        vertical-align: top;\n    }\n\n    .dataframe thead th {\n        text-align: right;\n    }\n</style>\n<table border=\"1\" class=\"dataframe\">\n  <thead>\n    <tr style=\"text-align: right;\">\n      <th></th>\n      <th>sep</th>\n      <th>oct</th>\n      <th>nov</th>\n      <th>dec</th>\n    </tr>\n  </thead>\n  <tbody>\n    <tr>\n      <th>alice</th>\n      <td>8.0</td>\n      <td>8.0</td>\n      <td>9.0</td>\n      <td>NaN</td>\n    </tr>\n    <tr>\n      <th>bob</th>\n      <td>10.0</td>\n      <td>9.0</td>\n      <td>10.0</td>\n      <td>NaN</td>\n    </tr>\n    <tr>\n      <th>charles</th>\n      <td>4.0</td>\n      <td>11.0</td>\n      <td>5.0</td>\n      <td>NaN</td>\n    </tr>\n    <tr>\n      <th>darwin</th>\n      <td>9.0</td>\n      <td>10.0</td>\n      <td>11.0</td>\n      <td>NaN</td>\n    </tr>\n  </tbody>\n</table>\n</div>"
     },
     "execution_count": 113,
     "metadata": {},
     "output_type": "execute_result"
    }
   ],
   "source": [
    "final_grades_clean = final_grades.dropna(how='all')\n",
    "final_grades_clean"
   ],
   "metadata": {
    "collapsed": false,
    "ExecuteTime": {
     "end_time": "2023-05-05T10:23:44.851992100Z",
     "start_time": "2023-05-05T10:23:38.936230700Z"
    }
   }
  },
  {
   "cell_type": "code",
   "execution_count": 114,
   "outputs": [
    {
     "data": {
      "text/plain": "          sep   oct   nov\nalice     8.0   8.0   9.0\nbob      10.0   9.0  10.0\ncharles   4.0  11.0   5.0\ndarwin    9.0  10.0  11.0",
      "text/html": "<div>\n<style scoped>\n    .dataframe tbody tr th:only-of-type {\n        vertical-align: middle;\n    }\n\n    .dataframe tbody tr th {\n        vertical-align: top;\n    }\n\n    .dataframe thead th {\n        text-align: right;\n    }\n</style>\n<table border=\"1\" class=\"dataframe\">\n  <thead>\n    <tr style=\"text-align: right;\">\n      <th></th>\n      <th>sep</th>\n      <th>oct</th>\n      <th>nov</th>\n    </tr>\n  </thead>\n  <tbody>\n    <tr>\n      <th>alice</th>\n      <td>8.0</td>\n      <td>8.0</td>\n      <td>9.0</td>\n    </tr>\n    <tr>\n      <th>bob</th>\n      <td>10.0</td>\n      <td>9.0</td>\n      <td>10.0</td>\n    </tr>\n    <tr>\n      <th>charles</th>\n      <td>4.0</td>\n      <td>11.0</td>\n      <td>5.0</td>\n    </tr>\n    <tr>\n      <th>darwin</th>\n      <td>9.0</td>\n      <td>10.0</td>\n      <td>11.0</td>\n    </tr>\n  </tbody>\n</table>\n</div>"
     },
     "execution_count": 114,
     "metadata": {},
     "output_type": "execute_result"
    }
   ],
   "source": [
    "final_grades_clean = final_grades_clean.dropna(axis=1, how='all')\n",
    "final_grades_clean"
   ],
   "metadata": {
    "collapsed": false,
    "ExecuteTime": {
     "end_time": "2023-05-05T10:23:44.851992100Z",
     "start_time": "2023-05-05T10:23:38.951956100Z"
    }
   }
  },
  {
   "cell_type": "code",
   "execution_count": 115,
   "outputs": [
    {
     "data": {
      "text/plain": "          sep   oct   nov  dec    hobby\nalice     8.0   8.0   9.0  NaN   Biking\nbob      10.0   9.0  10.0  NaN  Dancing\ncharles   4.0  11.0   5.0  NaN      NaN\ncolin     NaN   NaN   NaN  NaN  Dancing\ndarwin    9.0  10.0  11.0  NaN   Biking",
      "text/html": "<div>\n<style scoped>\n    .dataframe tbody tr th:only-of-type {\n        vertical-align: middle;\n    }\n\n    .dataframe tbody tr th {\n        vertical-align: top;\n    }\n\n    .dataframe thead th {\n        text-align: right;\n    }\n</style>\n<table border=\"1\" class=\"dataframe\">\n  <thead>\n    <tr style=\"text-align: right;\">\n      <th></th>\n      <th>sep</th>\n      <th>oct</th>\n      <th>nov</th>\n      <th>dec</th>\n      <th>hobby</th>\n    </tr>\n  </thead>\n  <tbody>\n    <tr>\n      <th>alice</th>\n      <td>8.0</td>\n      <td>8.0</td>\n      <td>9.0</td>\n      <td>NaN</td>\n      <td>Biking</td>\n    </tr>\n    <tr>\n      <th>bob</th>\n      <td>10.0</td>\n      <td>9.0</td>\n      <td>10.0</td>\n      <td>NaN</td>\n      <td>Dancing</td>\n    </tr>\n    <tr>\n      <th>charles</th>\n      <td>4.0</td>\n      <td>11.0</td>\n      <td>5.0</td>\n      <td>NaN</td>\n      <td>NaN</td>\n    </tr>\n    <tr>\n      <th>colin</th>\n      <td>NaN</td>\n      <td>NaN</td>\n      <td>NaN</td>\n      <td>NaN</td>\n      <td>Dancing</td>\n    </tr>\n    <tr>\n      <th>darwin</th>\n      <td>9.0</td>\n      <td>10.0</td>\n      <td>11.0</td>\n      <td>NaN</td>\n      <td>Biking</td>\n    </tr>\n  </tbody>\n</table>\n</div>"
     },
     "execution_count": 115,
     "metadata": {},
     "output_type": "execute_result"
    }
   ],
   "source": [
    "final_grades['hobby'] = ['Biking', 'Dancing', np.nan, 'Dancing', 'Biking']\n",
    "final_grades"
   ],
   "metadata": {
    "collapsed": false,
    "ExecuteTime": {
     "end_time": "2023-05-05T10:23:44.867611800Z",
     "start_time": "2023-05-05T10:23:38.968045800Z"
    }
   }
  },
  {
   "cell_type": "code",
   "execution_count": 116,
   "outputs": [
    {
     "data": {
      "text/plain": "<pandas.core.groupby.generic.DataFrameGroupBy object at 0x000001542F2419D0>"
     },
     "execution_count": 116,
     "metadata": {},
     "output_type": "execute_result"
    }
   ],
   "source": [
    "grouped_grades = final_grades.groupby('hobby')\n",
    "grouped_grades"
   ],
   "metadata": {
    "collapsed": false,
    "ExecuteTime": {
     "end_time": "2023-05-05T10:23:44.867611800Z",
     "start_time": "2023-05-05T10:23:38.984148400Z"
    }
   }
  },
  {
   "cell_type": "code",
   "execution_count": 117,
   "outputs": [
    {
     "data": {
      "text/plain": "          sep  oct   nov  dec\nhobby                        \nBiking    8.5  9.0  10.0  NaN\nDancing  10.0  9.0  10.0  NaN",
      "text/html": "<div>\n<style scoped>\n    .dataframe tbody tr th:only-of-type {\n        vertical-align: middle;\n    }\n\n    .dataframe tbody tr th {\n        vertical-align: top;\n    }\n\n    .dataframe thead th {\n        text-align: right;\n    }\n</style>\n<table border=\"1\" class=\"dataframe\">\n  <thead>\n    <tr style=\"text-align: right;\">\n      <th></th>\n      <th>sep</th>\n      <th>oct</th>\n      <th>nov</th>\n      <th>dec</th>\n    </tr>\n    <tr>\n      <th>hobby</th>\n      <th></th>\n      <th></th>\n      <th></th>\n      <th></th>\n    </tr>\n  </thead>\n  <tbody>\n    <tr>\n      <th>Biking</th>\n      <td>8.5</td>\n      <td>9.0</td>\n      <td>10.0</td>\n      <td>NaN</td>\n    </tr>\n    <tr>\n      <th>Dancing</th>\n      <td>10.0</td>\n      <td>9.0</td>\n      <td>10.0</td>\n      <td>NaN</td>\n    </tr>\n  </tbody>\n</table>\n</div>"
     },
     "execution_count": 117,
     "metadata": {},
     "output_type": "execute_result"
    }
   ],
   "source": [
    "grouped_grades.mean()"
   ],
   "metadata": {
    "collapsed": false,
    "ExecuteTime": {
     "end_time": "2023-05-05T10:23:44.867611800Z",
     "start_time": "2023-05-05T10:23:38.999948600Z"
    }
   }
  },
  {
   "cell_type": "code",
   "execution_count": 118,
   "outputs": [
    {
     "data": {
      "text/plain": "         oct  nov  dec\nbob      0.0  NaN  2.0\ncolin    NaN  1.0  0.0\ndarwin   0.0  1.0  0.0\ncharles  3.0  3.0  0.0",
      "text/html": "<div>\n<style scoped>\n    .dataframe tbody tr th:only-of-type {\n        vertical-align: middle;\n    }\n\n    .dataframe tbody tr th {\n        vertical-align: top;\n    }\n\n    .dataframe thead th {\n        text-align: right;\n    }\n</style>\n<table border=\"1\" class=\"dataframe\">\n  <thead>\n    <tr style=\"text-align: right;\">\n      <th></th>\n      <th>oct</th>\n      <th>nov</th>\n      <th>dec</th>\n    </tr>\n  </thead>\n  <tbody>\n    <tr>\n      <th>bob</th>\n      <td>0.0</td>\n      <td>NaN</td>\n      <td>2.0</td>\n    </tr>\n    <tr>\n      <th>colin</th>\n      <td>NaN</td>\n      <td>1.0</td>\n      <td>0.0</td>\n    </tr>\n    <tr>\n      <th>darwin</th>\n      <td>0.0</td>\n      <td>1.0</td>\n      <td>0.0</td>\n    </tr>\n    <tr>\n      <th>charles</th>\n      <td>3.0</td>\n      <td>3.0</td>\n      <td>0.0</td>\n    </tr>\n  </tbody>\n</table>\n</div>"
     },
     "execution_count": 118,
     "metadata": {},
     "output_type": "execute_result"
    }
   ],
   "source": [
    "bonus_points"
   ],
   "metadata": {
    "collapsed": false,
    "ExecuteTime": {
     "end_time": "2023-05-05T10:23:44.867611800Z",
     "start_time": "2023-05-05T10:23:39.015499600Z"
    }
   }
  },
  {
   "cell_type": "code",
   "execution_count": 119,
   "outputs": [
    {
     "data": {
      "text/plain": "       name month  grade  bonus\n0     alice   sep    8.0    NaN\n1     alice   oct    8.0    NaN\n2     alice   nov    9.0    NaN\n3       bob   sep   10.0    0.0\n4       bob   oct    9.0    NaN\n5       bob   nov   10.0    2.0\n6   charles   sep    4.0    3.0\n7   charles   oct   11.0    3.0\n8   charles   nov    5.0    0.0\n9    darwin   sep    9.0    0.0\n10   darwin   oct   10.0    1.0\n11   darwin   nov   11.0    0.0",
      "text/html": "<div>\n<style scoped>\n    .dataframe tbody tr th:only-of-type {\n        vertical-align: middle;\n    }\n\n    .dataframe tbody tr th {\n        vertical-align: top;\n    }\n\n    .dataframe thead th {\n        text-align: right;\n    }\n</style>\n<table border=\"1\" class=\"dataframe\">\n  <thead>\n    <tr style=\"text-align: right;\">\n      <th></th>\n      <th>name</th>\n      <th>month</th>\n      <th>grade</th>\n      <th>bonus</th>\n    </tr>\n  </thead>\n  <tbody>\n    <tr>\n      <th>0</th>\n      <td>alice</td>\n      <td>sep</td>\n      <td>8.0</td>\n      <td>NaN</td>\n    </tr>\n    <tr>\n      <th>1</th>\n      <td>alice</td>\n      <td>oct</td>\n      <td>8.0</td>\n      <td>NaN</td>\n    </tr>\n    <tr>\n      <th>2</th>\n      <td>alice</td>\n      <td>nov</td>\n      <td>9.0</td>\n      <td>NaN</td>\n    </tr>\n    <tr>\n      <th>3</th>\n      <td>bob</td>\n      <td>sep</td>\n      <td>10.0</td>\n      <td>0.0</td>\n    </tr>\n    <tr>\n      <th>4</th>\n      <td>bob</td>\n      <td>oct</td>\n      <td>9.0</td>\n      <td>NaN</td>\n    </tr>\n    <tr>\n      <th>5</th>\n      <td>bob</td>\n      <td>nov</td>\n      <td>10.0</td>\n      <td>2.0</td>\n    </tr>\n    <tr>\n      <th>6</th>\n      <td>charles</td>\n      <td>sep</td>\n      <td>4.0</td>\n      <td>3.0</td>\n    </tr>\n    <tr>\n      <th>7</th>\n      <td>charles</td>\n      <td>oct</td>\n      <td>11.0</td>\n      <td>3.0</td>\n    </tr>\n    <tr>\n      <th>8</th>\n      <td>charles</td>\n      <td>nov</td>\n      <td>5.0</td>\n      <td>0.0</td>\n    </tr>\n    <tr>\n      <th>9</th>\n      <td>darwin</td>\n      <td>sep</td>\n      <td>9.0</td>\n      <td>0.0</td>\n    </tr>\n    <tr>\n      <th>10</th>\n      <td>darwin</td>\n      <td>oct</td>\n      <td>10.0</td>\n      <td>1.0</td>\n    </tr>\n    <tr>\n      <th>11</th>\n      <td>darwin</td>\n      <td>nov</td>\n      <td>11.0</td>\n      <td>0.0</td>\n    </tr>\n  </tbody>\n</table>\n</div>"
     },
     "execution_count": 119,
     "metadata": {},
     "output_type": "execute_result"
    }
   ],
   "source": [
    "more_grades = final_grades_clean.stack().reset_index()\n",
    "more_grades.columns = ['name', 'month', 'grade']\n",
    "more_grades['bonus'] = [np.nan, np.nan, np.nan, 0, np.nan, 2, 3, 3, 0, 0, 1, 0]\n",
    "more_grades"
   ],
   "metadata": {
    "collapsed": false,
    "ExecuteTime": {
     "end_time": "2023-05-05T10:23:44.883795500Z",
     "start_time": "2023-05-05T10:23:39.031139100Z"
    }
   }
  },
  {
   "cell_type": "code",
   "execution_count": 120,
   "outputs": [
    {
     "data": {
      "text/plain": "         bonus  grade\nname                 \nalice      NaN    9.0\nbob        2.0   10.0\ncharles    3.0   11.0\ndarwin     1.0   11.0",
      "text/html": "<div>\n<style scoped>\n    .dataframe tbody tr th:only-of-type {\n        vertical-align: middle;\n    }\n\n    .dataframe tbody tr th {\n        vertical-align: top;\n    }\n\n    .dataframe thead th {\n        text-align: right;\n    }\n</style>\n<table border=\"1\" class=\"dataframe\">\n  <thead>\n    <tr style=\"text-align: right;\">\n      <th></th>\n      <th>bonus</th>\n      <th>grade</th>\n    </tr>\n    <tr>\n      <th>name</th>\n      <th></th>\n      <th></th>\n    </tr>\n  </thead>\n  <tbody>\n    <tr>\n      <th>alice</th>\n      <td>NaN</td>\n      <td>9.0</td>\n    </tr>\n    <tr>\n      <th>bob</th>\n      <td>2.0</td>\n      <td>10.0</td>\n    </tr>\n    <tr>\n      <th>charles</th>\n      <td>3.0</td>\n      <td>11.0</td>\n    </tr>\n    <tr>\n      <th>darwin</th>\n      <td>1.0</td>\n      <td>11.0</td>\n    </tr>\n  </tbody>\n</table>\n</div>"
     },
     "execution_count": 120,
     "metadata": {},
     "output_type": "execute_result"
    }
   ],
   "source": [
    "pd.pivot_table(more_grades, index='name', values=['grade', 'bonus'], aggfunc=np.max)"
   ],
   "metadata": {
    "collapsed": false,
    "ExecuteTime": {
     "end_time": "2023-05-05T10:23:44.883795500Z",
     "start_time": "2023-05-05T10:23:39.046852300Z"
    }
   }
  },
  {
   "cell_type": "code",
   "execution_count": 121,
   "outputs": [
    {
     "data": {
      "text/plain": "month      nov   oct    sep        All\nname                                  \nalice     9.00   8.0   8.00   8.333333\nbob      10.00   9.0  10.00   9.666667\ncharles   5.00  11.0   4.00   6.666667\ndarwin   11.00  10.0   9.00  10.000000\nAll       8.75   9.5   7.75   8.666667",
      "text/html": "<div>\n<style scoped>\n    .dataframe tbody tr th:only-of-type {\n        vertical-align: middle;\n    }\n\n    .dataframe tbody tr th {\n        vertical-align: top;\n    }\n\n    .dataframe thead th {\n        text-align: right;\n    }\n</style>\n<table border=\"1\" class=\"dataframe\">\n  <thead>\n    <tr style=\"text-align: right;\">\n      <th>month</th>\n      <th>nov</th>\n      <th>oct</th>\n      <th>sep</th>\n      <th>All</th>\n    </tr>\n    <tr>\n      <th>name</th>\n      <th></th>\n      <th></th>\n      <th></th>\n      <th></th>\n    </tr>\n  </thead>\n  <tbody>\n    <tr>\n      <th>alice</th>\n      <td>9.00</td>\n      <td>8.0</td>\n      <td>8.00</td>\n      <td>8.333333</td>\n    </tr>\n    <tr>\n      <th>bob</th>\n      <td>10.00</td>\n      <td>9.0</td>\n      <td>10.00</td>\n      <td>9.666667</td>\n    </tr>\n    <tr>\n      <th>charles</th>\n      <td>5.00</td>\n      <td>11.0</td>\n      <td>4.00</td>\n      <td>6.666667</td>\n    </tr>\n    <tr>\n      <th>darwin</th>\n      <td>11.00</td>\n      <td>10.0</td>\n      <td>9.00</td>\n      <td>10.000000</td>\n    </tr>\n    <tr>\n      <th>All</th>\n      <td>8.75</td>\n      <td>9.5</td>\n      <td>7.75</td>\n      <td>8.666667</td>\n    </tr>\n  </tbody>\n</table>\n</div>"
     },
     "execution_count": 121,
     "metadata": {},
     "output_type": "execute_result"
    }
   ],
   "source": [
    "pd.pivot_table(more_grades, index='name', values='grade', columns='month', margins=True)"
   ],
   "metadata": {
    "collapsed": false,
    "ExecuteTime": {
     "end_time": "2023-05-05T10:23:44.899425800Z",
     "start_time": "2023-05-05T10:23:39.078477500Z"
    }
   }
  },
  {
   "cell_type": "code",
   "execution_count": 122,
   "outputs": [
    {
     "data": {
      "text/plain": "               bonus  grade\nname    month              \nalice   nov      NaN   9.00\n        oct      NaN   8.00\n        sep      NaN   8.00\nbob     nov    2.000  10.00\n        oct      NaN   9.00\n        sep    0.000  10.00\ncharles nov    0.000   5.00\n        oct    3.000  11.00\n        sep    3.000   4.00\ndarwin  nov    0.000  11.00\n        oct    1.000  10.00\n        sep    0.000   9.00\nAll            1.125   8.75",
      "text/html": "<div>\n<style scoped>\n    .dataframe tbody tr th:only-of-type {\n        vertical-align: middle;\n    }\n\n    .dataframe tbody tr th {\n        vertical-align: top;\n    }\n\n    .dataframe thead th {\n        text-align: right;\n    }\n</style>\n<table border=\"1\" class=\"dataframe\">\n  <thead>\n    <tr style=\"text-align: right;\">\n      <th></th>\n      <th></th>\n      <th>bonus</th>\n      <th>grade</th>\n    </tr>\n    <tr>\n      <th>name</th>\n      <th>month</th>\n      <th></th>\n      <th></th>\n    </tr>\n  </thead>\n  <tbody>\n    <tr>\n      <th rowspan=\"3\" valign=\"top\">alice</th>\n      <th>nov</th>\n      <td>NaN</td>\n      <td>9.00</td>\n    </tr>\n    <tr>\n      <th>oct</th>\n      <td>NaN</td>\n      <td>8.00</td>\n    </tr>\n    <tr>\n      <th>sep</th>\n      <td>NaN</td>\n      <td>8.00</td>\n    </tr>\n    <tr>\n      <th rowspan=\"3\" valign=\"top\">bob</th>\n      <th>nov</th>\n      <td>2.000</td>\n      <td>10.00</td>\n    </tr>\n    <tr>\n      <th>oct</th>\n      <td>NaN</td>\n      <td>9.00</td>\n    </tr>\n    <tr>\n      <th>sep</th>\n      <td>0.000</td>\n      <td>10.00</td>\n    </tr>\n    <tr>\n      <th rowspan=\"3\" valign=\"top\">charles</th>\n      <th>nov</th>\n      <td>0.000</td>\n      <td>5.00</td>\n    </tr>\n    <tr>\n      <th>oct</th>\n      <td>3.000</td>\n      <td>11.00</td>\n    </tr>\n    <tr>\n      <th>sep</th>\n      <td>3.000</td>\n      <td>4.00</td>\n    </tr>\n    <tr>\n      <th rowspan=\"3\" valign=\"top\">darwin</th>\n      <th>nov</th>\n      <td>0.000</td>\n      <td>11.00</td>\n    </tr>\n    <tr>\n      <th>oct</th>\n      <td>1.000</td>\n      <td>10.00</td>\n    </tr>\n    <tr>\n      <th>sep</th>\n      <td>0.000</td>\n      <td>9.00</td>\n    </tr>\n    <tr>\n      <th>All</th>\n      <th></th>\n      <td>1.125</td>\n      <td>8.75</td>\n    </tr>\n  </tbody>\n</table>\n</div>"
     },
     "execution_count": 122,
     "metadata": {},
     "output_type": "execute_result"
    }
   ],
   "source": [
    "pd.pivot_table(more_grades, index=('name', 'month'), margins=True)"
   ],
   "metadata": {
    "collapsed": false,
    "ExecuteTime": {
     "end_time": "2023-05-05T10:23:44.899425800Z",
     "start_time": "2023-05-05T10:23:39.109813100Z"
    }
   }
  },
  {
   "cell_type": "code",
   "execution_count": 123,
   "outputs": [
    {
     "data": {
      "text/plain": "         A     B     C some_text      D      E      F     G      H      I   \n0      NaN  11.0  44.0    Blabla   99.0    NaN   88.0  22.0  165.0  143.0  \\\n1     11.0  22.0  55.0    Blabla  110.0    NaN   99.0  33.0    NaN  154.0   \n2     22.0  33.0  66.0    Blabla  121.0   11.0  110.0  44.0    NaN  165.0   \n3     33.0  44.0  77.0    Blabla  132.0   22.0  121.0  55.0   11.0    NaN   \n4     44.0  55.0  88.0    Blabla  143.0   33.0  132.0  66.0   22.0    NaN   \n...    ...   ...   ...       ...    ...    ...    ...   ...    ...    ...   \n9995   NaN   NaN  33.0    Blabla   88.0  165.0   77.0  11.0  154.0  132.0   \n9996   NaN  11.0  44.0    Blabla   99.0    NaN   88.0  22.0  165.0  143.0   \n9997  11.0  22.0  55.0    Blabla  110.0    NaN   99.0  33.0    NaN  154.0   \n9998  22.0  33.0  66.0    Blabla  121.0   11.0  110.0  44.0    NaN  165.0   \n9999  33.0  44.0  77.0    Blabla  132.0   22.0  121.0  55.0   11.0    NaN   \n\n      ...     Q     R     S     T      U      V      W     X      Y      Z  \n0     ...  11.0   NaN  11.0  44.0   99.0    NaN   88.0  22.0  165.0  143.0  \n1     ...  22.0  11.0  22.0  55.0  110.0    NaN   99.0  33.0    NaN  154.0  \n2     ...  33.0  22.0  33.0  66.0  121.0   11.0  110.0  44.0    NaN  165.0  \n3     ...  44.0  33.0  44.0  77.0  132.0   22.0  121.0  55.0   11.0    NaN  \n4     ...  55.0  44.0  55.0  88.0  143.0   33.0  132.0  66.0   22.0    NaN  \n...   ...   ...   ...   ...   ...    ...    ...    ...   ...    ...    ...  \n9995  ...   NaN   NaN   NaN  33.0   88.0  165.0   77.0  11.0  154.0  132.0  \n9996  ...  11.0   NaN  11.0  44.0   99.0    NaN   88.0  22.0  165.0  143.0  \n9997  ...  22.0  11.0  22.0  55.0  110.0    NaN   99.0  33.0    NaN  154.0  \n9998  ...  33.0  22.0  33.0  66.0  121.0   11.0  110.0  44.0    NaN  165.0  \n9999  ...  44.0  33.0  44.0  77.0  132.0   22.0  121.0  55.0   11.0    NaN  \n\n[10000 rows x 27 columns]",
      "text/html": "<div>\n<style scoped>\n    .dataframe tbody tr th:only-of-type {\n        vertical-align: middle;\n    }\n\n    .dataframe tbody tr th {\n        vertical-align: top;\n    }\n\n    .dataframe thead th {\n        text-align: right;\n    }\n</style>\n<table border=\"1\" class=\"dataframe\">\n  <thead>\n    <tr style=\"text-align: right;\">\n      <th></th>\n      <th>A</th>\n      <th>B</th>\n      <th>C</th>\n      <th>some_text</th>\n      <th>D</th>\n      <th>E</th>\n      <th>F</th>\n      <th>G</th>\n      <th>H</th>\n      <th>I</th>\n      <th>...</th>\n      <th>Q</th>\n      <th>R</th>\n      <th>S</th>\n      <th>T</th>\n      <th>U</th>\n      <th>V</th>\n      <th>W</th>\n      <th>X</th>\n      <th>Y</th>\n      <th>Z</th>\n    </tr>\n  </thead>\n  <tbody>\n    <tr>\n      <th>0</th>\n      <td>NaN</td>\n      <td>11.0</td>\n      <td>44.0</td>\n      <td>Blabla</td>\n      <td>99.0</td>\n      <td>NaN</td>\n      <td>88.0</td>\n      <td>22.0</td>\n      <td>165.0</td>\n      <td>143.0</td>\n      <td>...</td>\n      <td>11.0</td>\n      <td>NaN</td>\n      <td>11.0</td>\n      <td>44.0</td>\n      <td>99.0</td>\n      <td>NaN</td>\n      <td>88.0</td>\n      <td>22.0</td>\n      <td>165.0</td>\n      <td>143.0</td>\n    </tr>\n    <tr>\n      <th>1</th>\n      <td>11.0</td>\n      <td>22.0</td>\n      <td>55.0</td>\n      <td>Blabla</td>\n      <td>110.0</td>\n      <td>NaN</td>\n      <td>99.0</td>\n      <td>33.0</td>\n      <td>NaN</td>\n      <td>154.0</td>\n      <td>...</td>\n      <td>22.0</td>\n      <td>11.0</td>\n      <td>22.0</td>\n      <td>55.0</td>\n      <td>110.0</td>\n      <td>NaN</td>\n      <td>99.0</td>\n      <td>33.0</td>\n      <td>NaN</td>\n      <td>154.0</td>\n    </tr>\n    <tr>\n      <th>2</th>\n      <td>22.0</td>\n      <td>33.0</td>\n      <td>66.0</td>\n      <td>Blabla</td>\n      <td>121.0</td>\n      <td>11.0</td>\n      <td>110.0</td>\n      <td>44.0</td>\n      <td>NaN</td>\n      <td>165.0</td>\n      <td>...</td>\n      <td>33.0</td>\n      <td>22.0</td>\n      <td>33.0</td>\n      <td>66.0</td>\n      <td>121.0</td>\n      <td>11.0</td>\n      <td>110.0</td>\n      <td>44.0</td>\n      <td>NaN</td>\n      <td>165.0</td>\n    </tr>\n    <tr>\n      <th>3</th>\n      <td>33.0</td>\n      <td>44.0</td>\n      <td>77.0</td>\n      <td>Blabla</td>\n      <td>132.0</td>\n      <td>22.0</td>\n      <td>121.0</td>\n      <td>55.0</td>\n      <td>11.0</td>\n      <td>NaN</td>\n      <td>...</td>\n      <td>44.0</td>\n      <td>33.0</td>\n      <td>44.0</td>\n      <td>77.0</td>\n      <td>132.0</td>\n      <td>22.0</td>\n      <td>121.0</td>\n      <td>55.0</td>\n      <td>11.0</td>\n      <td>NaN</td>\n    </tr>\n    <tr>\n      <th>4</th>\n      <td>44.0</td>\n      <td>55.0</td>\n      <td>88.0</td>\n      <td>Blabla</td>\n      <td>143.0</td>\n      <td>33.0</td>\n      <td>132.0</td>\n      <td>66.0</td>\n      <td>22.0</td>\n      <td>NaN</td>\n      <td>...</td>\n      <td>55.0</td>\n      <td>44.0</td>\n      <td>55.0</td>\n      <td>88.0</td>\n      <td>143.0</td>\n      <td>33.0</td>\n      <td>132.0</td>\n      <td>66.0</td>\n      <td>22.0</td>\n      <td>NaN</td>\n    </tr>\n    <tr>\n      <th>...</th>\n      <td>...</td>\n      <td>...</td>\n      <td>...</td>\n      <td>...</td>\n      <td>...</td>\n      <td>...</td>\n      <td>...</td>\n      <td>...</td>\n      <td>...</td>\n      <td>...</td>\n      <td>...</td>\n      <td>...</td>\n      <td>...</td>\n      <td>...</td>\n      <td>...</td>\n      <td>...</td>\n      <td>...</td>\n      <td>...</td>\n      <td>...</td>\n      <td>...</td>\n      <td>...</td>\n    </tr>\n    <tr>\n      <th>9995</th>\n      <td>NaN</td>\n      <td>NaN</td>\n      <td>33.0</td>\n      <td>Blabla</td>\n      <td>88.0</td>\n      <td>165.0</td>\n      <td>77.0</td>\n      <td>11.0</td>\n      <td>154.0</td>\n      <td>132.0</td>\n      <td>...</td>\n      <td>NaN</td>\n      <td>NaN</td>\n      <td>NaN</td>\n      <td>33.0</td>\n      <td>88.0</td>\n      <td>165.0</td>\n      <td>77.0</td>\n      <td>11.0</td>\n      <td>154.0</td>\n      <td>132.0</td>\n    </tr>\n    <tr>\n      <th>9996</th>\n      <td>NaN</td>\n      <td>11.0</td>\n      <td>44.0</td>\n      <td>Blabla</td>\n      <td>99.0</td>\n      <td>NaN</td>\n      <td>88.0</td>\n      <td>22.0</td>\n      <td>165.0</td>\n      <td>143.0</td>\n      <td>...</td>\n      <td>11.0</td>\n      <td>NaN</td>\n      <td>11.0</td>\n      <td>44.0</td>\n      <td>99.0</td>\n      <td>NaN</td>\n      <td>88.0</td>\n      <td>22.0</td>\n      <td>165.0</td>\n      <td>143.0</td>\n    </tr>\n    <tr>\n      <th>9997</th>\n      <td>11.0</td>\n      <td>22.0</td>\n      <td>55.0</td>\n      <td>Blabla</td>\n      <td>110.0</td>\n      <td>NaN</td>\n      <td>99.0</td>\n      <td>33.0</td>\n      <td>NaN</td>\n      <td>154.0</td>\n      <td>...</td>\n      <td>22.0</td>\n      <td>11.0</td>\n      <td>22.0</td>\n      <td>55.0</td>\n      <td>110.0</td>\n      <td>NaN</td>\n      <td>99.0</td>\n      <td>33.0</td>\n      <td>NaN</td>\n      <td>154.0</td>\n    </tr>\n    <tr>\n      <th>9998</th>\n      <td>22.0</td>\n      <td>33.0</td>\n      <td>66.0</td>\n      <td>Blabla</td>\n      <td>121.0</td>\n      <td>11.0</td>\n      <td>110.0</td>\n      <td>44.0</td>\n      <td>NaN</td>\n      <td>165.0</td>\n      <td>...</td>\n      <td>33.0</td>\n      <td>22.0</td>\n      <td>33.0</td>\n      <td>66.0</td>\n      <td>121.0</td>\n      <td>11.0</td>\n      <td>110.0</td>\n      <td>44.0</td>\n      <td>NaN</td>\n      <td>165.0</td>\n    </tr>\n    <tr>\n      <th>9999</th>\n      <td>33.0</td>\n      <td>44.0</td>\n      <td>77.0</td>\n      <td>Blabla</td>\n      <td>132.0</td>\n      <td>22.0</td>\n      <td>121.0</td>\n      <td>55.0</td>\n      <td>11.0</td>\n      <td>NaN</td>\n      <td>...</td>\n      <td>44.0</td>\n      <td>33.0</td>\n      <td>44.0</td>\n      <td>77.0</td>\n      <td>132.0</td>\n      <td>22.0</td>\n      <td>121.0</td>\n      <td>55.0</td>\n      <td>11.0</td>\n      <td>NaN</td>\n    </tr>\n  </tbody>\n</table>\n<p>10000 rows × 27 columns</p>\n</div>"
     },
     "execution_count": 123,
     "metadata": {},
     "output_type": "execute_result"
    }
   ],
   "source": [
    "much_data = np.fromfunction(lambda x, y: (x + y * y) % 17 * 11, (10000, 26))\n",
    "large_df = pd.DataFrame(much_data, columns=list('ABCDEFGHIJKLMNOPQRSTUVWXYZ'))\n",
    "large_df[large_df % 16 == 0] = np.nan\n",
    "large_df.insert(3, 'some_text', 'Blabla')\n",
    "large_df"
   ],
   "metadata": {
    "collapsed": false,
    "ExecuteTime": {
     "end_time": "2023-05-05T10:23:44.930753900Z",
     "start_time": "2023-05-05T10:23:39.141064300Z"
    }
   }
  },
  {
   "cell_type": "code",
   "execution_count": 124,
   "outputs": [
    {
     "data": {
      "text/plain": "      A     B     C some_text      D     E      F     G      H      I  ...   \n0   NaN  11.0  44.0    Blabla   99.0   NaN   88.0  22.0  165.0  143.0  ...  \\\n1  11.0  22.0  55.0    Blabla  110.0   NaN   99.0  33.0    NaN  154.0  ...   \n2  22.0  33.0  66.0    Blabla  121.0  11.0  110.0  44.0    NaN  165.0  ...   \n3  33.0  44.0  77.0    Blabla  132.0  22.0  121.0  55.0   11.0    NaN  ...   \n4  44.0  55.0  88.0    Blabla  143.0  33.0  132.0  66.0   22.0    NaN  ...   \n\n      Q     R     S     T      U     V      W     X      Y      Z  \n0  11.0   NaN  11.0  44.0   99.0   NaN   88.0  22.0  165.0  143.0  \n1  22.0  11.0  22.0  55.0  110.0   NaN   99.0  33.0    NaN  154.0  \n2  33.0  22.0  33.0  66.0  121.0  11.0  110.0  44.0    NaN  165.0  \n3  44.0  33.0  44.0  77.0  132.0  22.0  121.0  55.0   11.0    NaN  \n4  55.0  44.0  55.0  88.0  143.0  33.0  132.0  66.0   22.0    NaN  \n\n[5 rows x 27 columns]",
      "text/html": "<div>\n<style scoped>\n    .dataframe tbody tr th:only-of-type {\n        vertical-align: middle;\n    }\n\n    .dataframe tbody tr th {\n        vertical-align: top;\n    }\n\n    .dataframe thead th {\n        text-align: right;\n    }\n</style>\n<table border=\"1\" class=\"dataframe\">\n  <thead>\n    <tr style=\"text-align: right;\">\n      <th></th>\n      <th>A</th>\n      <th>B</th>\n      <th>C</th>\n      <th>some_text</th>\n      <th>D</th>\n      <th>E</th>\n      <th>F</th>\n      <th>G</th>\n      <th>H</th>\n      <th>I</th>\n      <th>...</th>\n      <th>Q</th>\n      <th>R</th>\n      <th>S</th>\n      <th>T</th>\n      <th>U</th>\n      <th>V</th>\n      <th>W</th>\n      <th>X</th>\n      <th>Y</th>\n      <th>Z</th>\n    </tr>\n  </thead>\n  <tbody>\n    <tr>\n      <th>0</th>\n      <td>NaN</td>\n      <td>11.0</td>\n      <td>44.0</td>\n      <td>Blabla</td>\n      <td>99.0</td>\n      <td>NaN</td>\n      <td>88.0</td>\n      <td>22.0</td>\n      <td>165.0</td>\n      <td>143.0</td>\n      <td>...</td>\n      <td>11.0</td>\n      <td>NaN</td>\n      <td>11.0</td>\n      <td>44.0</td>\n      <td>99.0</td>\n      <td>NaN</td>\n      <td>88.0</td>\n      <td>22.0</td>\n      <td>165.0</td>\n      <td>143.0</td>\n    </tr>\n    <tr>\n      <th>1</th>\n      <td>11.0</td>\n      <td>22.0</td>\n      <td>55.0</td>\n      <td>Blabla</td>\n      <td>110.0</td>\n      <td>NaN</td>\n      <td>99.0</td>\n      <td>33.0</td>\n      <td>NaN</td>\n      <td>154.0</td>\n      <td>...</td>\n      <td>22.0</td>\n      <td>11.0</td>\n      <td>22.0</td>\n      <td>55.0</td>\n      <td>110.0</td>\n      <td>NaN</td>\n      <td>99.0</td>\n      <td>33.0</td>\n      <td>NaN</td>\n      <td>154.0</td>\n    </tr>\n    <tr>\n      <th>2</th>\n      <td>22.0</td>\n      <td>33.0</td>\n      <td>66.0</td>\n      <td>Blabla</td>\n      <td>121.0</td>\n      <td>11.0</td>\n      <td>110.0</td>\n      <td>44.0</td>\n      <td>NaN</td>\n      <td>165.0</td>\n      <td>...</td>\n      <td>33.0</td>\n      <td>22.0</td>\n      <td>33.0</td>\n      <td>66.0</td>\n      <td>121.0</td>\n      <td>11.0</td>\n      <td>110.0</td>\n      <td>44.0</td>\n      <td>NaN</td>\n      <td>165.0</td>\n    </tr>\n    <tr>\n      <th>3</th>\n      <td>33.0</td>\n      <td>44.0</td>\n      <td>77.0</td>\n      <td>Blabla</td>\n      <td>132.0</td>\n      <td>22.0</td>\n      <td>121.0</td>\n      <td>55.0</td>\n      <td>11.0</td>\n      <td>NaN</td>\n      <td>...</td>\n      <td>44.0</td>\n      <td>33.0</td>\n      <td>44.0</td>\n      <td>77.0</td>\n      <td>132.0</td>\n      <td>22.0</td>\n      <td>121.0</td>\n      <td>55.0</td>\n      <td>11.0</td>\n      <td>NaN</td>\n    </tr>\n    <tr>\n      <th>4</th>\n      <td>44.0</td>\n      <td>55.0</td>\n      <td>88.0</td>\n      <td>Blabla</td>\n      <td>143.0</td>\n      <td>33.0</td>\n      <td>132.0</td>\n      <td>66.0</td>\n      <td>22.0</td>\n      <td>NaN</td>\n      <td>...</td>\n      <td>55.0</td>\n      <td>44.0</td>\n      <td>55.0</td>\n      <td>88.0</td>\n      <td>143.0</td>\n      <td>33.0</td>\n      <td>132.0</td>\n      <td>66.0</td>\n      <td>22.0</td>\n      <td>NaN</td>\n    </tr>\n  </tbody>\n</table>\n<p>5 rows × 27 columns</p>\n</div>"
     },
     "execution_count": 124,
     "metadata": {},
     "output_type": "execute_result"
    }
   ],
   "source": [
    "large_df.head()"
   ],
   "metadata": {
    "collapsed": false,
    "ExecuteTime": {
     "end_time": "2023-05-05T10:23:44.946369800Z",
     "start_time": "2023-05-05T10:23:39.204038300Z"
    }
   }
  },
  {
   "cell_type": "code",
   "execution_count": 125,
   "outputs": [
    {
     "data": {
      "text/plain": "         A     B     C some_text      D     E      F     G     H      I  ...   \n9998  22.0  33.0  66.0    Blabla  121.0  11.0  110.0  44.0   NaN  165.0  ...  \\\n9999  33.0  44.0  77.0    Blabla  132.0  22.0  121.0  55.0  11.0    NaN  ...   \n\n         Q     R     S     T      U     V      W     X     Y      Z  \n9998  33.0  22.0  33.0  66.0  121.0  11.0  110.0  44.0   NaN  165.0  \n9999  44.0  33.0  44.0  77.0  132.0  22.0  121.0  55.0  11.0    NaN  \n\n[2 rows x 27 columns]",
      "text/html": "<div>\n<style scoped>\n    .dataframe tbody tr th:only-of-type {\n        vertical-align: middle;\n    }\n\n    .dataframe tbody tr th {\n        vertical-align: top;\n    }\n\n    .dataframe thead th {\n        text-align: right;\n    }\n</style>\n<table border=\"1\" class=\"dataframe\">\n  <thead>\n    <tr style=\"text-align: right;\">\n      <th></th>\n      <th>A</th>\n      <th>B</th>\n      <th>C</th>\n      <th>some_text</th>\n      <th>D</th>\n      <th>E</th>\n      <th>F</th>\n      <th>G</th>\n      <th>H</th>\n      <th>I</th>\n      <th>...</th>\n      <th>Q</th>\n      <th>R</th>\n      <th>S</th>\n      <th>T</th>\n      <th>U</th>\n      <th>V</th>\n      <th>W</th>\n      <th>X</th>\n      <th>Y</th>\n      <th>Z</th>\n    </tr>\n  </thead>\n  <tbody>\n    <tr>\n      <th>9998</th>\n      <td>22.0</td>\n      <td>33.0</td>\n      <td>66.0</td>\n      <td>Blabla</td>\n      <td>121.0</td>\n      <td>11.0</td>\n      <td>110.0</td>\n      <td>44.0</td>\n      <td>NaN</td>\n      <td>165.0</td>\n      <td>...</td>\n      <td>33.0</td>\n      <td>22.0</td>\n      <td>33.0</td>\n      <td>66.0</td>\n      <td>121.0</td>\n      <td>11.0</td>\n      <td>110.0</td>\n      <td>44.0</td>\n      <td>NaN</td>\n      <td>165.0</td>\n    </tr>\n    <tr>\n      <th>9999</th>\n      <td>33.0</td>\n      <td>44.0</td>\n      <td>77.0</td>\n      <td>Blabla</td>\n      <td>132.0</td>\n      <td>22.0</td>\n      <td>121.0</td>\n      <td>55.0</td>\n      <td>11.0</td>\n      <td>NaN</td>\n      <td>...</td>\n      <td>44.0</td>\n      <td>33.0</td>\n      <td>44.0</td>\n      <td>77.0</td>\n      <td>132.0</td>\n      <td>22.0</td>\n      <td>121.0</td>\n      <td>55.0</td>\n      <td>11.0</td>\n      <td>NaN</td>\n    </tr>\n  </tbody>\n</table>\n<p>2 rows × 27 columns</p>\n</div>"
     },
     "execution_count": 125,
     "metadata": {},
     "output_type": "execute_result"
    }
   ],
   "source": [
    "large_df.tail(n=2)"
   ],
   "metadata": {
    "collapsed": false,
    "ExecuteTime": {
     "end_time": "2023-05-05T10:23:44.946369800Z",
     "start_time": "2023-05-05T10:23:39.235283600Z"
    }
   }
  },
  {
   "cell_type": "code",
   "execution_count": 126,
   "outputs": [
    {
     "name": "stdout",
     "output_type": "stream",
     "text": [
      "<class 'pandas.core.frame.DataFrame'>\n",
      "RangeIndex: 10000 entries, 0 to 9999\n",
      "Data columns (total 27 columns):\n",
      " #   Column     Non-Null Count  Dtype  \n",
      "---  ------     --------------  -----  \n",
      " 0   A          8823 non-null   float64\n",
      " 1   B          8824 non-null   float64\n",
      " 2   C          8824 non-null   float64\n",
      " 3   some_text  10000 non-null  object \n",
      " 4   D          8824 non-null   float64\n",
      " 5   E          8822 non-null   float64\n",
      " 6   F          8824 non-null   float64\n",
      " 7   G          8824 non-null   float64\n",
      " 8   H          8822 non-null   float64\n",
      " 9   I          8823 non-null   float64\n",
      " 10  J          8823 non-null   float64\n",
      " 11  K          8822 non-null   float64\n",
      " 12  L          8824 non-null   float64\n",
      " 13  M          8824 non-null   float64\n",
      " 14  N          8822 non-null   float64\n",
      " 15  O          8824 non-null   float64\n",
      " 16  P          8824 non-null   float64\n",
      " 17  Q          8824 non-null   float64\n",
      " 18  R          8823 non-null   float64\n",
      " 19  S          8824 non-null   float64\n",
      " 20  T          8824 non-null   float64\n",
      " 21  U          8824 non-null   float64\n",
      " 22  V          8822 non-null   float64\n",
      " 23  W          8824 non-null   float64\n",
      " 24  X          8824 non-null   float64\n",
      " 25  Y          8822 non-null   float64\n",
      " 26  Z          8823 non-null   float64\n",
      "dtypes: float64(26), object(1)\n",
      "memory usage: 2.1+ MB\n"
     ]
    }
   ],
   "source": [
    "large_df.info()"
   ],
   "metadata": {
    "collapsed": false,
    "ExecuteTime": {
     "end_time": "2023-05-05T10:23:44.946369800Z",
     "start_time": "2023-05-05T10:23:39.250833300Z"
    }
   }
  },
  {
   "cell_type": "code",
   "execution_count": 127,
   "outputs": [
    {
     "data": {
      "text/plain": "                 A            B            C            D            E   \ncount  8823.000000  8824.000000  8824.000000  8824.000000  8822.000000  \\\nmean     87.977559    87.972575    87.987534    88.012466    87.983791   \nstd      47.535911    47.535523    47.521679    47.521679    47.535001   \nmin      11.000000    11.000000    11.000000    11.000000    11.000000   \n25%      44.000000    44.000000    44.000000    44.000000    44.000000   \n50%      88.000000    88.000000    88.000000    88.000000    88.000000   \n75%     132.000000   132.000000   132.000000   132.000000   132.000000   \nmax     165.000000   165.000000   165.000000   165.000000   165.000000   \n\n                 F            G            H            I            J  ...   \ncount  8824.000000  8824.000000  8822.000000  8823.000000  8823.000000  ...  \\\nmean     88.007480    87.977561    88.000000    88.022441    88.022441  ...   \nstd      47.519371    47.529755    47.536879    47.535911    47.535911  ...   \nmin      11.000000    11.000000    11.000000    11.000000    11.000000  ...   \n25%      44.000000    44.000000    44.000000    44.000000    44.000000  ...   \n50%      88.000000    88.000000    88.000000    88.000000    88.000000  ...   \n75%     132.000000   132.000000   132.000000   132.000000   132.000000  ...   \nmax     165.000000   165.000000   165.000000   165.000000   165.000000  ...   \n\n                 Q            R            S            T            U   \ncount  8824.000000  8823.000000  8824.000000  8824.000000  8824.000000  \\\nmean     87.972575    87.977559    87.972575    87.987534    88.012466   \nstd      47.535523    47.535911    47.535523    47.521679    47.521679   \nmin      11.000000    11.000000    11.000000    11.000000    11.000000   \n25%      44.000000    44.000000    44.000000    44.000000    44.000000   \n50%      88.000000    88.000000    88.000000    88.000000    88.000000   \n75%     132.000000   132.000000   132.000000   132.000000   132.000000   \nmax     165.000000   165.000000   165.000000   165.000000   165.000000   \n\n                 V            W            X            Y            Z  \ncount  8822.000000  8824.000000  8824.000000  8822.000000  8823.000000  \nmean     87.983791    88.007480    87.977561    88.000000    88.022441  \nstd      47.535001    47.519371    47.529755    47.536879    47.535911  \nmin      11.000000    11.000000    11.000000    11.000000    11.000000  \n25%      44.000000    44.000000    44.000000    44.000000    44.000000  \n50%      88.000000    88.000000    88.000000    88.000000    88.000000  \n75%     132.000000   132.000000   132.000000   132.000000   132.000000  \nmax     165.000000   165.000000   165.000000   165.000000   165.000000  \n\n[8 rows x 26 columns]",
      "text/html": "<div>\n<style scoped>\n    .dataframe tbody tr th:only-of-type {\n        vertical-align: middle;\n    }\n\n    .dataframe tbody tr th {\n        vertical-align: top;\n    }\n\n    .dataframe thead th {\n        text-align: right;\n    }\n</style>\n<table border=\"1\" class=\"dataframe\">\n  <thead>\n    <tr style=\"text-align: right;\">\n      <th></th>\n      <th>A</th>\n      <th>B</th>\n      <th>C</th>\n      <th>D</th>\n      <th>E</th>\n      <th>F</th>\n      <th>G</th>\n      <th>H</th>\n      <th>I</th>\n      <th>J</th>\n      <th>...</th>\n      <th>Q</th>\n      <th>R</th>\n      <th>S</th>\n      <th>T</th>\n      <th>U</th>\n      <th>V</th>\n      <th>W</th>\n      <th>X</th>\n      <th>Y</th>\n      <th>Z</th>\n    </tr>\n  </thead>\n  <tbody>\n    <tr>\n      <th>count</th>\n      <td>8823.000000</td>\n      <td>8824.000000</td>\n      <td>8824.000000</td>\n      <td>8824.000000</td>\n      <td>8822.000000</td>\n      <td>8824.000000</td>\n      <td>8824.000000</td>\n      <td>8822.000000</td>\n      <td>8823.000000</td>\n      <td>8823.000000</td>\n      <td>...</td>\n      <td>8824.000000</td>\n      <td>8823.000000</td>\n      <td>8824.000000</td>\n      <td>8824.000000</td>\n      <td>8824.000000</td>\n      <td>8822.000000</td>\n      <td>8824.000000</td>\n      <td>8824.000000</td>\n      <td>8822.000000</td>\n      <td>8823.000000</td>\n    </tr>\n    <tr>\n      <th>mean</th>\n      <td>87.977559</td>\n      <td>87.972575</td>\n      <td>87.987534</td>\n      <td>88.012466</td>\n      <td>87.983791</td>\n      <td>88.007480</td>\n      <td>87.977561</td>\n      <td>88.000000</td>\n      <td>88.022441</td>\n      <td>88.022441</td>\n      <td>...</td>\n      <td>87.972575</td>\n      <td>87.977559</td>\n      <td>87.972575</td>\n      <td>87.987534</td>\n      <td>88.012466</td>\n      <td>87.983791</td>\n      <td>88.007480</td>\n      <td>87.977561</td>\n      <td>88.000000</td>\n      <td>88.022441</td>\n    </tr>\n    <tr>\n      <th>std</th>\n      <td>47.535911</td>\n      <td>47.535523</td>\n      <td>47.521679</td>\n      <td>47.521679</td>\n      <td>47.535001</td>\n      <td>47.519371</td>\n      <td>47.529755</td>\n      <td>47.536879</td>\n      <td>47.535911</td>\n      <td>47.535911</td>\n      <td>...</td>\n      <td>47.535523</td>\n      <td>47.535911</td>\n      <td>47.535523</td>\n      <td>47.521679</td>\n      <td>47.521679</td>\n      <td>47.535001</td>\n      <td>47.519371</td>\n      <td>47.529755</td>\n      <td>47.536879</td>\n      <td>47.535911</td>\n    </tr>\n    <tr>\n      <th>min</th>\n      <td>11.000000</td>\n      <td>11.000000</td>\n      <td>11.000000</td>\n      <td>11.000000</td>\n      <td>11.000000</td>\n      <td>11.000000</td>\n      <td>11.000000</td>\n      <td>11.000000</td>\n      <td>11.000000</td>\n      <td>11.000000</td>\n      <td>...</td>\n      <td>11.000000</td>\n      <td>11.000000</td>\n      <td>11.000000</td>\n      <td>11.000000</td>\n      <td>11.000000</td>\n      <td>11.000000</td>\n      <td>11.000000</td>\n      <td>11.000000</td>\n      <td>11.000000</td>\n      <td>11.000000</td>\n    </tr>\n    <tr>\n      <th>25%</th>\n      <td>44.000000</td>\n      <td>44.000000</td>\n      <td>44.000000</td>\n      <td>44.000000</td>\n      <td>44.000000</td>\n      <td>44.000000</td>\n      <td>44.000000</td>\n      <td>44.000000</td>\n      <td>44.000000</td>\n      <td>44.000000</td>\n      <td>...</td>\n      <td>44.000000</td>\n      <td>44.000000</td>\n      <td>44.000000</td>\n      <td>44.000000</td>\n      <td>44.000000</td>\n      <td>44.000000</td>\n      <td>44.000000</td>\n      <td>44.000000</td>\n      <td>44.000000</td>\n      <td>44.000000</td>\n    </tr>\n    <tr>\n      <th>50%</th>\n      <td>88.000000</td>\n      <td>88.000000</td>\n      <td>88.000000</td>\n      <td>88.000000</td>\n      <td>88.000000</td>\n      <td>88.000000</td>\n      <td>88.000000</td>\n      <td>88.000000</td>\n      <td>88.000000</td>\n      <td>88.000000</td>\n      <td>...</td>\n      <td>88.000000</td>\n      <td>88.000000</td>\n      <td>88.000000</td>\n      <td>88.000000</td>\n      <td>88.000000</td>\n      <td>88.000000</td>\n      <td>88.000000</td>\n      <td>88.000000</td>\n      <td>88.000000</td>\n      <td>88.000000</td>\n    </tr>\n    <tr>\n      <th>75%</th>\n      <td>132.000000</td>\n      <td>132.000000</td>\n      <td>132.000000</td>\n      <td>132.000000</td>\n      <td>132.000000</td>\n      <td>132.000000</td>\n      <td>132.000000</td>\n      <td>132.000000</td>\n      <td>132.000000</td>\n      <td>132.000000</td>\n      <td>...</td>\n      <td>132.000000</td>\n      <td>132.000000</td>\n      <td>132.000000</td>\n      <td>132.000000</td>\n      <td>132.000000</td>\n      <td>132.000000</td>\n      <td>132.000000</td>\n      <td>132.000000</td>\n      <td>132.000000</td>\n      <td>132.000000</td>\n    </tr>\n    <tr>\n      <th>max</th>\n      <td>165.000000</td>\n      <td>165.000000</td>\n      <td>165.000000</td>\n      <td>165.000000</td>\n      <td>165.000000</td>\n      <td>165.000000</td>\n      <td>165.000000</td>\n      <td>165.000000</td>\n      <td>165.000000</td>\n      <td>165.000000</td>\n      <td>...</td>\n      <td>165.000000</td>\n      <td>165.000000</td>\n      <td>165.000000</td>\n      <td>165.000000</td>\n      <td>165.000000</td>\n      <td>165.000000</td>\n      <td>165.000000</td>\n      <td>165.000000</td>\n      <td>165.000000</td>\n      <td>165.000000</td>\n    </tr>\n  </tbody>\n</table>\n<p>8 rows × 26 columns</p>\n</div>"
     },
     "execution_count": 127,
     "metadata": {},
     "output_type": "execute_result"
    }
   ],
   "source": [
    "large_df.describe()"
   ],
   "metadata": {
    "collapsed": false,
    "ExecuteTime": {
     "end_time": "2023-05-05T10:23:44.961992100Z",
     "start_time": "2023-05-05T10:23:39.266922600Z"
    }
   }
  },
  {
   "cell_type": "code",
   "execution_count": 128,
   "outputs": [
    {
     "data": {
      "text/plain": "         hobby  weight  birthyear  children\nalice   Biking    68.5       1985       NaN\nbob    Dancing    83.1       1984       3.0",
      "text/html": "<div>\n<style scoped>\n    .dataframe tbody tr th:only-of-type {\n        vertical-align: middle;\n    }\n\n    .dataframe tbody tr th {\n        vertical-align: top;\n    }\n\n    .dataframe thead th {\n        text-align: right;\n    }\n</style>\n<table border=\"1\" class=\"dataframe\">\n  <thead>\n    <tr style=\"text-align: right;\">\n      <th></th>\n      <th>hobby</th>\n      <th>weight</th>\n      <th>birthyear</th>\n      <th>children</th>\n    </tr>\n  </thead>\n  <tbody>\n    <tr>\n      <th>alice</th>\n      <td>Biking</td>\n      <td>68.5</td>\n      <td>1985</td>\n      <td>NaN</td>\n    </tr>\n    <tr>\n      <th>bob</th>\n      <td>Dancing</td>\n      <td>83.1</td>\n      <td>1984</td>\n      <td>3.0</td>\n    </tr>\n  </tbody>\n</table>\n</div>"
     },
     "execution_count": 128,
     "metadata": {},
     "output_type": "execute_result"
    }
   ],
   "source": [
    "my_df = pd.DataFrame(\n",
    "    [['Biking', 68.5, 1985, np.nan], ['Dancing', 83.1, 1984, 3]],\n",
    "    columns=['hobby', 'weight', 'birthyear', 'children'],\n",
    "    index=['alice', 'bob']\n",
    ")\n",
    "my_df"
   ],
   "metadata": {
    "collapsed": false,
    "ExecuteTime": {
     "end_time": "2023-05-05T10:23:44.961992100Z",
     "start_time": "2023-05-05T10:23:39.329494800Z"
    }
   }
  },
  {
   "cell_type": "code",
   "execution_count": 129,
   "outputs": [],
   "source": [
    "my_df.to_csv('../data/my_df.csv')\n",
    "my_df.to_html('../data/my_df.html')\n",
    "my_df.to_json('../data/my_df.json')"
   ],
   "metadata": {
    "collapsed": false,
    "ExecuteTime": {
     "end_time": "2023-05-05T10:23:44.978083400Z",
     "start_time": "2023-05-05T10:23:39.345073800Z"
    }
   }
  },
  {
   "cell_type": "code",
   "execution_count": 130,
   "outputs": [
    {
     "name": "stdout",
     "output_type": "stream",
     "text": [
      "# ../data/my_df.csv\n",
      ",hobby,weight,birthyear,children\n",
      "alice,Biking,68.5,1985,\n",
      "bob,Dancing,83.1,1984,3.0\n",
      "\n",
      "\n",
      "# ../data/my_df.html\n",
      "<table border=\"1\" class=\"dataframe\">\n",
      "  <thead>\n",
      "    <tr style=\"text-align: right;\">\n",
      "      <th></th>\n",
      "      <th>hobby</th>\n",
      "      <th>weight</th>\n",
      "      <th>birthyear</th>\n",
      "      <th>children</th>\n",
      "    </tr>\n",
      "  </thead>\n",
      "  <tbody>\n",
      "    <tr>\n",
      "      <th>alice</th>\n",
      "      <td>Biking</td>\n",
      "      <td>68.5</td>\n",
      "      <td>1985</td>\n",
      "      <td>NaN</td>\n",
      "    </tr>\n",
      "    <tr>\n",
      "      <th>bob</th>\n",
      "      <td>Dancing</td>\n",
      "      <td>83.1</td>\n",
      "      <td>1984</td>\n",
      "      <td>3.0</td>\n",
      "    </tr>\n",
      "  </tbody>\n",
      "</table>\n",
      "\n",
      "# ../data/my_df.json\n",
      "{\"hobby\":{\"alice\":\"Biking\",\"bob\":\"Dancing\"},\"weight\":{\"alice\":68.5,\"bob\":83.1},\"birthyear\":{\"alice\":1985,\"bob\":1984},\"children\":{\"alice\":null,\"bob\":3.0}}\n",
      "\n"
     ]
    }
   ],
   "source": [
    "for filename in ('../data/my_df.csv', '../data/my_df.html', '../data/my_df.json'):\n",
    "    print('#', filename)\n",
    "    with open(filename, 'rt') as f:\n",
    "        print(f.read())\n",
    "        print()"
   ],
   "metadata": {
    "collapsed": false,
    "ExecuteTime": {
     "end_time": "2023-05-05T10:23:44.978083400Z",
     "start_time": "2023-05-05T10:23:39.360666100Z"
    }
   }
  },
  {
   "cell_type": "code",
   "execution_count": 131,
   "outputs": [
    {
     "name": "stdout",
     "output_type": "stream",
     "text": [
      "No module named 'openpyxl'\n"
     ]
    }
   ],
   "source": [
    "try:\n",
    "    my_df.to_excel('../data/my_df.xlsx', sheet_name='People')\n",
    "except ImportError as e:\n",
    "    print(e)"
   ],
   "metadata": {
    "collapsed": false,
    "ExecuteTime": {
     "end_time": "2023-05-05T10:23:44.978083400Z",
     "start_time": "2023-05-05T10:23:39.376766900Z"
    }
   }
  },
  {
   "cell_type": "code",
   "execution_count": 132,
   "outputs": [
    {
     "data": {
      "text/plain": "         hobby  weight  birthyear  children\nalice   Biking    68.5       1985       NaN\nbob    Dancing    83.1       1984       3.0",
      "text/html": "<div>\n<style scoped>\n    .dataframe tbody tr th:only-of-type {\n        vertical-align: middle;\n    }\n\n    .dataframe tbody tr th {\n        vertical-align: top;\n    }\n\n    .dataframe thead th {\n        text-align: right;\n    }\n</style>\n<table border=\"1\" class=\"dataframe\">\n  <thead>\n    <tr style=\"text-align: right;\">\n      <th></th>\n      <th>hobby</th>\n      <th>weight</th>\n      <th>birthyear</th>\n      <th>children</th>\n    </tr>\n  </thead>\n  <tbody>\n    <tr>\n      <th>alice</th>\n      <td>Biking</td>\n      <td>68.5</td>\n      <td>1985</td>\n      <td>NaN</td>\n    </tr>\n    <tr>\n      <th>bob</th>\n      <td>Dancing</td>\n      <td>83.1</td>\n      <td>1984</td>\n      <td>3.0</td>\n    </tr>\n  </tbody>\n</table>\n</div>"
     },
     "execution_count": 132,
     "metadata": {},
     "output_type": "execute_result"
    }
   ],
   "source": [
    "my_df_loaded = pd.read_csv('../data/my_df.csv', index_col=0)\n",
    "my_df_loaded"
   ],
   "metadata": {
    "collapsed": false,
    "ExecuteTime": {
     "end_time": "2023-05-05T10:23:44.978083400Z",
     "start_time": "2023-05-05T10:23:39.392485300Z"
    }
   }
  },
  {
   "cell_type": "code",
   "execution_count": 133,
   "outputs": [
    {
     "data": {
      "text/plain": "                     State  Population        lat         lon\nCity                                                         \nMarysville      Washington       63269  48.051764 -122.177082\nPerris          California       72326  33.782519 -117.228648\nCleveland             Ohio      390113  41.499320  -81.694361\nWorcester    Massachusetts      182544  42.262593  -71.802293\nColumbia    South Carolina      133358  34.000710  -81.034814",
      "text/html": "<div>\n<style scoped>\n    .dataframe tbody tr th:only-of-type {\n        vertical-align: middle;\n    }\n\n    .dataframe tbody tr th {\n        vertical-align: top;\n    }\n\n    .dataframe thead th {\n        text-align: right;\n    }\n</style>\n<table border=\"1\" class=\"dataframe\">\n  <thead>\n    <tr style=\"text-align: right;\">\n      <th></th>\n      <th>State</th>\n      <th>Population</th>\n      <th>lat</th>\n      <th>lon</th>\n    </tr>\n    <tr>\n      <th>City</th>\n      <th></th>\n      <th></th>\n      <th></th>\n      <th></th>\n    </tr>\n  </thead>\n  <tbody>\n    <tr>\n      <th>Marysville</th>\n      <td>Washington</td>\n      <td>63269</td>\n      <td>48.051764</td>\n      <td>-122.177082</td>\n    </tr>\n    <tr>\n      <th>Perris</th>\n      <td>California</td>\n      <td>72326</td>\n      <td>33.782519</td>\n      <td>-117.228648</td>\n    </tr>\n    <tr>\n      <th>Cleveland</th>\n      <td>Ohio</td>\n      <td>390113</td>\n      <td>41.499320</td>\n      <td>-81.694361</td>\n    </tr>\n    <tr>\n      <th>Worcester</th>\n      <td>Massachusetts</td>\n      <td>182544</td>\n      <td>42.262593</td>\n      <td>-71.802293</td>\n    </tr>\n    <tr>\n      <th>Columbia</th>\n      <td>South Carolina</td>\n      <td>133358</td>\n      <td>34.000710</td>\n      <td>-81.034814</td>\n    </tr>\n  </tbody>\n</table>\n</div>"
     },
     "execution_count": 133,
     "metadata": {},
     "output_type": "execute_result"
    }
   ],
   "source": [
    "us_cities = None\n",
    "try:\n",
    "    csv_url = \"https://raw.githubusercontent.com/plotly/datasets/master/us-cities-top-1k.csv\"\n",
    "    us_cities = pd.read_csv(csv_url, index_col=0)\n",
    "    us_cities = us_cities.head()\n",
    "except IOError as e:\n",
    "    print(e)\n",
    "us_cities"
   ],
   "metadata": {
    "collapsed": false,
    "ExecuteTime": {
     "end_time": "2023-05-05T10:23:45.056189700Z",
     "start_time": "2023-05-05T10:23:39.408098Z"
    }
   }
  },
  {
   "cell_type": "code",
   "execution_count": 134,
   "outputs": [
    {
     "data": {
      "text/plain": "  state           city        lat         lng\n0    CA  San Francisco  37.781334 -122.416728\n1    NY       New York  40.706649  -74.008344\n2    FL          Miami  25.791100  -80.320733\n3    OH      Cleveland  41.473508 -111.896657",
      "text/html": "<div>\n<style scoped>\n    .dataframe tbody tr th:only-of-type {\n        vertical-align: middle;\n    }\n\n    .dataframe tbody tr th {\n        vertical-align: top;\n    }\n\n    .dataframe thead th {\n        text-align: right;\n    }\n</style>\n<table border=\"1\" class=\"dataframe\">\n  <thead>\n    <tr style=\"text-align: right;\">\n      <th></th>\n      <th>state</th>\n      <th>city</th>\n      <th>lat</th>\n      <th>lng</th>\n    </tr>\n  </thead>\n  <tbody>\n    <tr>\n      <th>0</th>\n      <td>CA</td>\n      <td>San Francisco</td>\n      <td>37.781334</td>\n      <td>-122.416728</td>\n    </tr>\n    <tr>\n      <th>1</th>\n      <td>NY</td>\n      <td>New York</td>\n      <td>40.706649</td>\n      <td>-74.008344</td>\n    </tr>\n    <tr>\n      <th>2</th>\n      <td>FL</td>\n      <td>Miami</td>\n      <td>25.791100</td>\n      <td>-80.320733</td>\n    </tr>\n    <tr>\n      <th>3</th>\n      <td>OH</td>\n      <td>Cleveland</td>\n      <td>41.473508</td>\n      <td>-111.896657</td>\n    </tr>\n  </tbody>\n</table>\n</div>"
     },
     "execution_count": 134,
     "metadata": {},
     "output_type": "execute_result"
    }
   ],
   "source": [
    "city_loc = pd.DataFrame([\n",
    "    ['CA', 'San Francisco', 37.781334, -122.416728],\n",
    "    ['NY', 'New York', 40.706649, -74.008344],\n",
    "    ['FL', 'Miami', 25.791100, -80.320733],\n",
    "    ['OH', 'Cleveland', 41.473508, -111.896657]\n",
    "], columns=['state', 'city', 'lat', 'lng'])\n",
    "city_loc"
   ],
   "metadata": {
    "collapsed": false,
    "ExecuteTime": {
     "end_time": "2023-05-05T10:23:45.056189700Z",
     "start_time": "2023-05-05T10:23:39.795015400Z"
    }
   }
  },
  {
   "cell_type": "code",
   "execution_count": 135,
   "outputs": [
    {
     "data": {
      "text/plain": "   population           city       state\n3      808976  San Francisco  California\n4     8363710       New York    New-York\n5      413201          Miami     Florida\n6     2242193        Houston       Texas",
      "text/html": "<div>\n<style scoped>\n    .dataframe tbody tr th:only-of-type {\n        vertical-align: middle;\n    }\n\n    .dataframe tbody tr th {\n        vertical-align: top;\n    }\n\n    .dataframe thead th {\n        text-align: right;\n    }\n</style>\n<table border=\"1\" class=\"dataframe\">\n  <thead>\n    <tr style=\"text-align: right;\">\n      <th></th>\n      <th>population</th>\n      <th>city</th>\n      <th>state</th>\n    </tr>\n  </thead>\n  <tbody>\n    <tr>\n      <th>3</th>\n      <td>808976</td>\n      <td>San Francisco</td>\n      <td>California</td>\n    </tr>\n    <tr>\n      <th>4</th>\n      <td>8363710</td>\n      <td>New York</td>\n      <td>New-York</td>\n    </tr>\n    <tr>\n      <th>5</th>\n      <td>413201</td>\n      <td>Miami</td>\n      <td>Florida</td>\n    </tr>\n    <tr>\n      <th>6</th>\n      <td>2242193</td>\n      <td>Houston</td>\n      <td>Texas</td>\n    </tr>\n  </tbody>\n</table>\n</div>"
     },
     "execution_count": 135,
     "metadata": {},
     "output_type": "execute_result"
    }
   ],
   "source": [
    "city_pop = pd.DataFrame([\n",
    "    [808976, 'San Francisco', 'California'],\n",
    "    [8363710, 'New York', 'New-York'],\n",
    "    [413201, 'Miami', 'Florida'],\n",
    "    [2242193, 'Houston', 'Texas']\n",
    "], index=[3, 4, 5, 6], columns=['population', 'city', 'state'])\n",
    "city_pop"
   ],
   "metadata": {
    "collapsed": false,
    "ExecuteTime": {
     "end_time": "2023-05-05T10:23:45.056189700Z",
     "start_time": "2023-05-05T10:23:39.801192700Z"
    }
   }
  },
  {
   "cell_type": "code",
   "execution_count": 136,
   "outputs": [
    {
     "data": {
      "text/plain": "  state_x           city        lat         lng  population     state_y\n0      CA  San Francisco  37.781334 -122.416728      808976  California\n1      NY       New York  40.706649  -74.008344     8363710    New-York\n2      FL          Miami  25.791100  -80.320733      413201     Florida",
      "text/html": "<div>\n<style scoped>\n    .dataframe tbody tr th:only-of-type {\n        vertical-align: middle;\n    }\n\n    .dataframe tbody tr th {\n        vertical-align: top;\n    }\n\n    .dataframe thead th {\n        text-align: right;\n    }\n</style>\n<table border=\"1\" class=\"dataframe\">\n  <thead>\n    <tr style=\"text-align: right;\">\n      <th></th>\n      <th>state_x</th>\n      <th>city</th>\n      <th>lat</th>\n      <th>lng</th>\n      <th>population</th>\n      <th>state_y</th>\n    </tr>\n  </thead>\n  <tbody>\n    <tr>\n      <th>0</th>\n      <td>CA</td>\n      <td>San Francisco</td>\n      <td>37.781334</td>\n      <td>-122.416728</td>\n      <td>808976</td>\n      <td>California</td>\n    </tr>\n    <tr>\n      <th>1</th>\n      <td>NY</td>\n      <td>New York</td>\n      <td>40.706649</td>\n      <td>-74.008344</td>\n      <td>8363710</td>\n      <td>New-York</td>\n    </tr>\n    <tr>\n      <th>2</th>\n      <td>FL</td>\n      <td>Miami</td>\n      <td>25.791100</td>\n      <td>-80.320733</td>\n      <td>413201</td>\n      <td>Florida</td>\n    </tr>\n  </tbody>\n</table>\n</div>"
     },
     "execution_count": 136,
     "metadata": {},
     "output_type": "execute_result"
    }
   ],
   "source": [
    "pd.merge(left=city_loc, right=city_pop, on='city')"
   ],
   "metadata": {
    "collapsed": false,
    "ExecuteTime": {
     "end_time": "2023-05-05T10:23:45.056189700Z",
     "start_time": "2023-05-05T10:23:39.832517200Z"
    }
   }
  },
  {
   "cell_type": "code",
   "execution_count": 137,
   "outputs": [
    {
     "data": {
      "text/plain": "  state_x           city        lat         lng  population     state_y\n0      CA  San Francisco  37.781334 -122.416728    808976.0  California\n1      NY       New York  40.706649  -74.008344   8363710.0    New-York\n2      FL          Miami  25.791100  -80.320733    413201.0     Florida\n3      OH      Cleveland  41.473508 -111.896657         NaN         NaN\n4     NaN        Houston        NaN         NaN   2242193.0       Texas",
      "text/html": "<div>\n<style scoped>\n    .dataframe tbody tr th:only-of-type {\n        vertical-align: middle;\n    }\n\n    .dataframe tbody tr th {\n        vertical-align: top;\n    }\n\n    .dataframe thead th {\n        text-align: right;\n    }\n</style>\n<table border=\"1\" class=\"dataframe\">\n  <thead>\n    <tr style=\"text-align: right;\">\n      <th></th>\n      <th>state_x</th>\n      <th>city</th>\n      <th>lat</th>\n      <th>lng</th>\n      <th>population</th>\n      <th>state_y</th>\n    </tr>\n  </thead>\n  <tbody>\n    <tr>\n      <th>0</th>\n      <td>CA</td>\n      <td>San Francisco</td>\n      <td>37.781334</td>\n      <td>-122.416728</td>\n      <td>808976.0</td>\n      <td>California</td>\n    </tr>\n    <tr>\n      <th>1</th>\n      <td>NY</td>\n      <td>New York</td>\n      <td>40.706649</td>\n      <td>-74.008344</td>\n      <td>8363710.0</td>\n      <td>New-York</td>\n    </tr>\n    <tr>\n      <th>2</th>\n      <td>FL</td>\n      <td>Miami</td>\n      <td>25.791100</td>\n      <td>-80.320733</td>\n      <td>413201.0</td>\n      <td>Florida</td>\n    </tr>\n    <tr>\n      <th>3</th>\n      <td>OH</td>\n      <td>Cleveland</td>\n      <td>41.473508</td>\n      <td>-111.896657</td>\n      <td>NaN</td>\n      <td>NaN</td>\n    </tr>\n    <tr>\n      <th>4</th>\n      <td>NaN</td>\n      <td>Houston</td>\n      <td>NaN</td>\n      <td>NaN</td>\n      <td>2242193.0</td>\n      <td>Texas</td>\n    </tr>\n  </tbody>\n</table>\n</div>"
     },
     "execution_count": 137,
     "metadata": {},
     "output_type": "execute_result"
    }
   ],
   "source": [
    "all_cities = pd.merge(left=city_loc, right=city_pop, on='city', how='outer')\n",
    "all_cities"
   ],
   "metadata": {
    "collapsed": false,
    "ExecuteTime": {
     "end_time": "2023-05-05T10:23:45.104064700Z",
     "start_time": "2023-05-05T10:23:39.848170Z"
    }
   }
  },
  {
   "cell_type": "code",
   "execution_count": 138,
   "outputs": [
    {
     "data": {
      "text/plain": "  state_x           city        lat         lng  population     state_y\n0      CA  San Francisco  37.781334 -122.416728      808976  California\n1      NY       New York  40.706649  -74.008344     8363710    New-York\n2      FL          Miami  25.791100  -80.320733      413201     Florida\n3     NaN        Houston        NaN         NaN     2242193       Texas",
      "text/html": "<div>\n<style scoped>\n    .dataframe tbody tr th:only-of-type {\n        vertical-align: middle;\n    }\n\n    .dataframe tbody tr th {\n        vertical-align: top;\n    }\n\n    .dataframe thead th {\n        text-align: right;\n    }\n</style>\n<table border=\"1\" class=\"dataframe\">\n  <thead>\n    <tr style=\"text-align: right;\">\n      <th></th>\n      <th>state_x</th>\n      <th>city</th>\n      <th>lat</th>\n      <th>lng</th>\n      <th>population</th>\n      <th>state_y</th>\n    </tr>\n  </thead>\n  <tbody>\n    <tr>\n      <th>0</th>\n      <td>CA</td>\n      <td>San Francisco</td>\n      <td>37.781334</td>\n      <td>-122.416728</td>\n      <td>808976</td>\n      <td>California</td>\n    </tr>\n    <tr>\n      <th>1</th>\n      <td>NY</td>\n      <td>New York</td>\n      <td>40.706649</td>\n      <td>-74.008344</td>\n      <td>8363710</td>\n      <td>New-York</td>\n    </tr>\n    <tr>\n      <th>2</th>\n      <td>FL</td>\n      <td>Miami</td>\n      <td>25.791100</td>\n      <td>-80.320733</td>\n      <td>413201</td>\n      <td>Florida</td>\n    </tr>\n    <tr>\n      <th>3</th>\n      <td>NaN</td>\n      <td>Houston</td>\n      <td>NaN</td>\n      <td>NaN</td>\n      <td>2242193</td>\n      <td>Texas</td>\n    </tr>\n  </tbody>\n</table>\n</div>"
     },
     "execution_count": 138,
     "metadata": {},
     "output_type": "execute_result"
    }
   ],
   "source": [
    "pd.merge(left=city_loc, right=city_pop, on='city', how='right')"
   ],
   "metadata": {
    "collapsed": false,
    "ExecuteTime": {
     "end_time": "2023-05-05T10:23:45.104064700Z",
     "start_time": "2023-05-05T10:23:39.865719100Z"
    }
   }
  },
  {
   "cell_type": "code",
   "execution_count": 139,
   "outputs": [
    {
     "data": {
      "text/plain": "  state_x           city        lat         lng  population           name   \n0      CA  San Francisco  37.781334 -122.416728      808976  San Francisco  \\\n1      NY       New York  40.706649  -74.008344     8363710       New York   \n2      FL          Miami  25.791100  -80.320733      413201          Miami   \n\n      state_y  \n0  California  \n1    New-York  \n2     Florida  ",
      "text/html": "<div>\n<style scoped>\n    .dataframe tbody tr th:only-of-type {\n        vertical-align: middle;\n    }\n\n    .dataframe tbody tr th {\n        vertical-align: top;\n    }\n\n    .dataframe thead th {\n        text-align: right;\n    }\n</style>\n<table border=\"1\" class=\"dataframe\">\n  <thead>\n    <tr style=\"text-align: right;\">\n      <th></th>\n      <th>state_x</th>\n      <th>city</th>\n      <th>lat</th>\n      <th>lng</th>\n      <th>population</th>\n      <th>name</th>\n      <th>state_y</th>\n    </tr>\n  </thead>\n  <tbody>\n    <tr>\n      <th>0</th>\n      <td>CA</td>\n      <td>San Francisco</td>\n      <td>37.781334</td>\n      <td>-122.416728</td>\n      <td>808976</td>\n      <td>San Francisco</td>\n      <td>California</td>\n    </tr>\n    <tr>\n      <th>1</th>\n      <td>NY</td>\n      <td>New York</td>\n      <td>40.706649</td>\n      <td>-74.008344</td>\n      <td>8363710</td>\n      <td>New York</td>\n      <td>New-York</td>\n    </tr>\n    <tr>\n      <th>2</th>\n      <td>FL</td>\n      <td>Miami</td>\n      <td>25.791100</td>\n      <td>-80.320733</td>\n      <td>413201</td>\n      <td>Miami</td>\n      <td>Florida</td>\n    </tr>\n  </tbody>\n</table>\n</div>"
     },
     "execution_count": 139,
     "metadata": {},
     "output_type": "execute_result"
    }
   ],
   "source": [
    "city_pop2 = city_pop.copy()\n",
    "city_pop2.columns = ['population', 'name', 'state']\n",
    "pd.merge(left=city_loc, right=city_pop2, left_on='city', right_on='name')"
   ],
   "metadata": {
    "collapsed": false,
    "ExecuteTime": {
     "end_time": "2023-05-05T10:23:45.104064700Z",
     "start_time": "2023-05-05T10:23:39.879727200Z"
    }
   }
  },
  {
   "cell_type": "code",
   "execution_count": 140,
   "outputs": [
    {
     "data": {
      "text/plain": "        state           city        lat         lng  population\n0          CA  San Francisco  37.781334 -122.416728         NaN\n1          NY       New York  40.706649  -74.008344         NaN\n2          FL          Miami  25.791100  -80.320733         NaN\n3          OH      Cleveland  41.473508 -111.896657         NaN\n3  California  San Francisco        NaN         NaN    808976.0\n4    New-York       New York        NaN         NaN   8363710.0\n5     Florida          Miami        NaN         NaN    413201.0\n6       Texas        Houston        NaN         NaN   2242193.0",
      "text/html": "<div>\n<style scoped>\n    .dataframe tbody tr th:only-of-type {\n        vertical-align: middle;\n    }\n\n    .dataframe tbody tr th {\n        vertical-align: top;\n    }\n\n    .dataframe thead th {\n        text-align: right;\n    }\n</style>\n<table border=\"1\" class=\"dataframe\">\n  <thead>\n    <tr style=\"text-align: right;\">\n      <th></th>\n      <th>state</th>\n      <th>city</th>\n      <th>lat</th>\n      <th>lng</th>\n      <th>population</th>\n    </tr>\n  </thead>\n  <tbody>\n    <tr>\n      <th>0</th>\n      <td>CA</td>\n      <td>San Francisco</td>\n      <td>37.781334</td>\n      <td>-122.416728</td>\n      <td>NaN</td>\n    </tr>\n    <tr>\n      <th>1</th>\n      <td>NY</td>\n      <td>New York</td>\n      <td>40.706649</td>\n      <td>-74.008344</td>\n      <td>NaN</td>\n    </tr>\n    <tr>\n      <th>2</th>\n      <td>FL</td>\n      <td>Miami</td>\n      <td>25.791100</td>\n      <td>-80.320733</td>\n      <td>NaN</td>\n    </tr>\n    <tr>\n      <th>3</th>\n      <td>OH</td>\n      <td>Cleveland</td>\n      <td>41.473508</td>\n      <td>-111.896657</td>\n      <td>NaN</td>\n    </tr>\n    <tr>\n      <th>3</th>\n      <td>California</td>\n      <td>San Francisco</td>\n      <td>NaN</td>\n      <td>NaN</td>\n      <td>808976.0</td>\n    </tr>\n    <tr>\n      <th>4</th>\n      <td>New-York</td>\n      <td>New York</td>\n      <td>NaN</td>\n      <td>NaN</td>\n      <td>8363710.0</td>\n    </tr>\n    <tr>\n      <th>5</th>\n      <td>Florida</td>\n      <td>Miami</td>\n      <td>NaN</td>\n      <td>NaN</td>\n      <td>413201.0</td>\n    </tr>\n    <tr>\n      <th>6</th>\n      <td>Texas</td>\n      <td>Houston</td>\n      <td>NaN</td>\n      <td>NaN</td>\n      <td>2242193.0</td>\n    </tr>\n  </tbody>\n</table>\n</div>"
     },
     "execution_count": 140,
     "metadata": {},
     "output_type": "execute_result"
    }
   ],
   "source": [
    "result_concat = pd.concat([city_loc, city_pop])\n",
    "result_concat"
   ],
   "metadata": {
    "collapsed": false,
    "ExecuteTime": {
     "end_time": "2023-05-05T10:23:45.104064700Z",
     "start_time": "2023-05-05T10:23:39.895428400Z"
    }
   }
  },
  {
   "cell_type": "code",
   "execution_count": 141,
   "outputs": [
    {
     "data": {
      "text/plain": "        state           city        lat         lng  population\n3          OH      Cleveland  41.473508 -111.896657         NaN\n3  California  San Francisco        NaN         NaN    808976.0",
      "text/html": "<div>\n<style scoped>\n    .dataframe tbody tr th:only-of-type {\n        vertical-align: middle;\n    }\n\n    .dataframe tbody tr th {\n        vertical-align: top;\n    }\n\n    .dataframe thead th {\n        text-align: right;\n    }\n</style>\n<table border=\"1\" class=\"dataframe\">\n  <thead>\n    <tr style=\"text-align: right;\">\n      <th></th>\n      <th>state</th>\n      <th>city</th>\n      <th>lat</th>\n      <th>lng</th>\n      <th>population</th>\n    </tr>\n  </thead>\n  <tbody>\n    <tr>\n      <th>3</th>\n      <td>OH</td>\n      <td>Cleveland</td>\n      <td>41.473508</td>\n      <td>-111.896657</td>\n      <td>NaN</td>\n    </tr>\n    <tr>\n      <th>3</th>\n      <td>California</td>\n      <td>San Francisco</td>\n      <td>NaN</td>\n      <td>NaN</td>\n      <td>808976.0</td>\n    </tr>\n  </tbody>\n</table>\n</div>"
     },
     "execution_count": 141,
     "metadata": {},
     "output_type": "execute_result"
    }
   ],
   "source": [
    "result_concat.loc[3]"
   ],
   "metadata": {
    "collapsed": false,
    "ExecuteTime": {
     "end_time": "2023-05-05T10:23:45.104064700Z",
     "start_time": "2023-05-05T10:23:39.926676500Z"
    }
   }
  },
  {
   "cell_type": "code",
   "execution_count": 142,
   "outputs": [
    {
     "data": {
      "text/plain": "        state           city        lat         lng  population\n0          CA  San Francisco  37.781334 -122.416728         NaN\n1          NY       New York  40.706649  -74.008344         NaN\n2          FL          Miami  25.791100  -80.320733         NaN\n3          OH      Cleveland  41.473508 -111.896657         NaN\n4  California  San Francisco        NaN         NaN    808976.0\n5    New-York       New York        NaN         NaN   8363710.0\n6     Florida          Miami        NaN         NaN    413201.0\n7       Texas        Houston        NaN         NaN   2242193.0",
      "text/html": "<div>\n<style scoped>\n    .dataframe tbody tr th:only-of-type {\n        vertical-align: middle;\n    }\n\n    .dataframe tbody tr th {\n        vertical-align: top;\n    }\n\n    .dataframe thead th {\n        text-align: right;\n    }\n</style>\n<table border=\"1\" class=\"dataframe\">\n  <thead>\n    <tr style=\"text-align: right;\">\n      <th></th>\n      <th>state</th>\n      <th>city</th>\n      <th>lat</th>\n      <th>lng</th>\n      <th>population</th>\n    </tr>\n  </thead>\n  <tbody>\n    <tr>\n      <th>0</th>\n      <td>CA</td>\n      <td>San Francisco</td>\n      <td>37.781334</td>\n      <td>-122.416728</td>\n      <td>NaN</td>\n    </tr>\n    <tr>\n      <th>1</th>\n      <td>NY</td>\n      <td>New York</td>\n      <td>40.706649</td>\n      <td>-74.008344</td>\n      <td>NaN</td>\n    </tr>\n    <tr>\n      <th>2</th>\n      <td>FL</td>\n      <td>Miami</td>\n      <td>25.791100</td>\n      <td>-80.320733</td>\n      <td>NaN</td>\n    </tr>\n    <tr>\n      <th>3</th>\n      <td>OH</td>\n      <td>Cleveland</td>\n      <td>41.473508</td>\n      <td>-111.896657</td>\n      <td>NaN</td>\n    </tr>\n    <tr>\n      <th>4</th>\n      <td>California</td>\n      <td>San Francisco</td>\n      <td>NaN</td>\n      <td>NaN</td>\n      <td>808976.0</td>\n    </tr>\n    <tr>\n      <th>5</th>\n      <td>New-York</td>\n      <td>New York</td>\n      <td>NaN</td>\n      <td>NaN</td>\n      <td>8363710.0</td>\n    </tr>\n    <tr>\n      <th>6</th>\n      <td>Florida</td>\n      <td>Miami</td>\n      <td>NaN</td>\n      <td>NaN</td>\n      <td>413201.0</td>\n    </tr>\n    <tr>\n      <th>7</th>\n      <td>Texas</td>\n      <td>Houston</td>\n      <td>NaN</td>\n      <td>NaN</td>\n      <td>2242193.0</td>\n    </tr>\n  </tbody>\n</table>\n</div>"
     },
     "execution_count": 142,
     "metadata": {},
     "output_type": "execute_result"
    }
   ],
   "source": [
    "pd.concat([city_loc, city_pop], ignore_index=True)"
   ],
   "metadata": {
    "collapsed": false,
    "ExecuteTime": {
     "end_time": "2023-05-05T10:23:45.104064700Z",
     "start_time": "2023-05-05T10:23:39.942302200Z"
    }
   }
  },
  {
   "cell_type": "code",
   "execution_count": 143,
   "outputs": [
    {
     "data": {
      "text/plain": "        state           city\n0          CA  San Francisco\n1          NY       New York\n2          FL          Miami\n3          OH      Cleveland\n3  California  San Francisco\n4    New-York       New York\n5     Florida          Miami\n6       Texas        Houston",
      "text/html": "<div>\n<style scoped>\n    .dataframe tbody tr th:only-of-type {\n        vertical-align: middle;\n    }\n\n    .dataframe tbody tr th {\n        vertical-align: top;\n    }\n\n    .dataframe thead th {\n        text-align: right;\n    }\n</style>\n<table border=\"1\" class=\"dataframe\">\n  <thead>\n    <tr style=\"text-align: right;\">\n      <th></th>\n      <th>state</th>\n      <th>city</th>\n    </tr>\n  </thead>\n  <tbody>\n    <tr>\n      <th>0</th>\n      <td>CA</td>\n      <td>San Francisco</td>\n    </tr>\n    <tr>\n      <th>1</th>\n      <td>NY</td>\n      <td>New York</td>\n    </tr>\n    <tr>\n      <th>2</th>\n      <td>FL</td>\n      <td>Miami</td>\n    </tr>\n    <tr>\n      <th>3</th>\n      <td>OH</td>\n      <td>Cleveland</td>\n    </tr>\n    <tr>\n      <th>3</th>\n      <td>California</td>\n      <td>San Francisco</td>\n    </tr>\n    <tr>\n      <th>4</th>\n      <td>New-York</td>\n      <td>New York</td>\n    </tr>\n    <tr>\n      <th>5</th>\n      <td>Florida</td>\n      <td>Miami</td>\n    </tr>\n    <tr>\n      <th>6</th>\n      <td>Texas</td>\n      <td>Houston</td>\n    </tr>\n  </tbody>\n</table>\n</div>"
     },
     "execution_count": 143,
     "metadata": {},
     "output_type": "execute_result"
    }
   ],
   "source": [
    "pd.concat([city_loc, city_pop], join='inner')"
   ],
   "metadata": {
    "collapsed": false,
    "ExecuteTime": {
     "end_time": "2023-05-05T10:23:45.104064700Z",
     "start_time": "2023-05-05T10:23:39.957925300Z"
    }
   }
  },
  {
   "cell_type": "code",
   "execution_count": 144,
   "outputs": [
    {
     "data": {
      "text/plain": "  state           city        lat         lng  population           city   \n0    CA  San Francisco  37.781334 -122.416728         NaN            NaN  \\\n1    NY       New York  40.706649  -74.008344         NaN            NaN   \n2    FL          Miami  25.791100  -80.320733         NaN            NaN   \n3    OH      Cleveland  41.473508 -111.896657    808976.0  San Francisco   \n4   NaN            NaN        NaN         NaN   8363710.0       New York   \n5   NaN            NaN        NaN         NaN    413201.0          Miami   \n6   NaN            NaN        NaN         NaN   2242193.0        Houston   \n\n        state  \n0         NaN  \n1         NaN  \n2         NaN  \n3  California  \n4    New-York  \n5     Florida  \n6       Texas  ",
      "text/html": "<div>\n<style scoped>\n    .dataframe tbody tr th:only-of-type {\n        vertical-align: middle;\n    }\n\n    .dataframe tbody tr th {\n        vertical-align: top;\n    }\n\n    .dataframe thead th {\n        text-align: right;\n    }\n</style>\n<table border=\"1\" class=\"dataframe\">\n  <thead>\n    <tr style=\"text-align: right;\">\n      <th></th>\n      <th>state</th>\n      <th>city</th>\n      <th>lat</th>\n      <th>lng</th>\n      <th>population</th>\n      <th>city</th>\n      <th>state</th>\n    </tr>\n  </thead>\n  <tbody>\n    <tr>\n      <th>0</th>\n      <td>CA</td>\n      <td>San Francisco</td>\n      <td>37.781334</td>\n      <td>-122.416728</td>\n      <td>NaN</td>\n      <td>NaN</td>\n      <td>NaN</td>\n    </tr>\n    <tr>\n      <th>1</th>\n      <td>NY</td>\n      <td>New York</td>\n      <td>40.706649</td>\n      <td>-74.008344</td>\n      <td>NaN</td>\n      <td>NaN</td>\n      <td>NaN</td>\n    </tr>\n    <tr>\n      <th>2</th>\n      <td>FL</td>\n      <td>Miami</td>\n      <td>25.791100</td>\n      <td>-80.320733</td>\n      <td>NaN</td>\n      <td>NaN</td>\n      <td>NaN</td>\n    </tr>\n    <tr>\n      <th>3</th>\n      <td>OH</td>\n      <td>Cleveland</td>\n      <td>41.473508</td>\n      <td>-111.896657</td>\n      <td>808976.0</td>\n      <td>San Francisco</td>\n      <td>California</td>\n    </tr>\n    <tr>\n      <th>4</th>\n      <td>NaN</td>\n      <td>NaN</td>\n      <td>NaN</td>\n      <td>NaN</td>\n      <td>8363710.0</td>\n      <td>New York</td>\n      <td>New-York</td>\n    </tr>\n    <tr>\n      <th>5</th>\n      <td>NaN</td>\n      <td>NaN</td>\n      <td>NaN</td>\n      <td>NaN</td>\n      <td>413201.0</td>\n      <td>Miami</td>\n      <td>Florida</td>\n    </tr>\n    <tr>\n      <th>6</th>\n      <td>NaN</td>\n      <td>NaN</td>\n      <td>NaN</td>\n      <td>NaN</td>\n      <td>2242193.0</td>\n      <td>Houston</td>\n      <td>Texas</td>\n    </tr>\n  </tbody>\n</table>\n</div>"
     },
     "execution_count": 144,
     "metadata": {},
     "output_type": "execute_result"
    }
   ],
   "source": [
    "pd.concat([city_loc, city_pop], axis=1)"
   ],
   "metadata": {
    "collapsed": false,
    "ExecuteTime": {
     "end_time": "2023-05-05T10:23:45.119740100Z",
     "start_time": "2023-05-05T10:23:39.973949100Z"
    }
   }
  },
  {
   "cell_type": "code",
   "execution_count": 145,
   "outputs": [
    {
     "data": {
      "text/plain": "              state        lat         lng  population       state\ncity                                                              \nSan Francisco    CA  37.781334 -122.416728    808976.0  California\nNew York         NY  40.706649  -74.008344   8363710.0    New-York\nMiami            FL  25.791100  -80.320733    413201.0     Florida\nCleveland        OH  41.473508 -111.896657         NaN         NaN\nHouston         NaN        NaN         NaN   2242193.0       Texas",
      "text/html": "<div>\n<style scoped>\n    .dataframe tbody tr th:only-of-type {\n        vertical-align: middle;\n    }\n\n    .dataframe tbody tr th {\n        vertical-align: top;\n    }\n\n    .dataframe thead th {\n        text-align: right;\n    }\n</style>\n<table border=\"1\" class=\"dataframe\">\n  <thead>\n    <tr style=\"text-align: right;\">\n      <th></th>\n      <th>state</th>\n      <th>lat</th>\n      <th>lng</th>\n      <th>population</th>\n      <th>state</th>\n    </tr>\n    <tr>\n      <th>city</th>\n      <th></th>\n      <th></th>\n      <th></th>\n      <th></th>\n      <th></th>\n    </tr>\n  </thead>\n  <tbody>\n    <tr>\n      <th>San Francisco</th>\n      <td>CA</td>\n      <td>37.781334</td>\n      <td>-122.416728</td>\n      <td>808976.0</td>\n      <td>California</td>\n    </tr>\n    <tr>\n      <th>New York</th>\n      <td>NY</td>\n      <td>40.706649</td>\n      <td>-74.008344</td>\n      <td>8363710.0</td>\n      <td>New-York</td>\n    </tr>\n    <tr>\n      <th>Miami</th>\n      <td>FL</td>\n      <td>25.791100</td>\n      <td>-80.320733</td>\n      <td>413201.0</td>\n      <td>Florida</td>\n    </tr>\n    <tr>\n      <th>Cleveland</th>\n      <td>OH</td>\n      <td>41.473508</td>\n      <td>-111.896657</td>\n      <td>NaN</td>\n      <td>NaN</td>\n    </tr>\n    <tr>\n      <th>Houston</th>\n      <td>NaN</td>\n      <td>NaN</td>\n      <td>NaN</td>\n      <td>2242193.0</td>\n      <td>Texas</td>\n    </tr>\n  </tbody>\n</table>\n</div>"
     },
     "execution_count": 145,
     "metadata": {},
     "output_type": "execute_result"
    }
   ],
   "source": [
    "pd.concat([city_loc.set_index('city'), city_pop.set_index('city')], axis=1)"
   ],
   "metadata": {
    "collapsed": false,
    "ExecuteTime": {
     "end_time": "2023-05-05T10:23:45.119740100Z",
     "start_time": "2023-05-05T10:23:39.989648500Z"
    }
   }
  },
  {
   "cell_type": "code",
   "execution_count": 146,
   "outputs": [
    {
     "data": {
      "text/plain": "        state           city        lat         lng  population\n0          CA  San Francisco  37.781334 -122.416728         NaN\n1          NY       New York  40.706649  -74.008344         NaN\n2          FL          Miami  25.791100  -80.320733         NaN\n3          OH      Cleveland  41.473508 -111.896657         NaN\n3  California  San Francisco        NaN         NaN    808976.0\n4    New-York       New York        NaN         NaN   8363710.0\n5     Florida          Miami        NaN         NaN    413201.0\n6       Texas        Houston        NaN         NaN   2242193.0",
      "text/html": "<div>\n<style scoped>\n    .dataframe tbody tr th:only-of-type {\n        vertical-align: middle;\n    }\n\n    .dataframe tbody tr th {\n        vertical-align: top;\n    }\n\n    .dataframe thead th {\n        text-align: right;\n    }\n</style>\n<table border=\"1\" class=\"dataframe\">\n  <thead>\n    <tr style=\"text-align: right;\">\n      <th></th>\n      <th>state</th>\n      <th>city</th>\n      <th>lat</th>\n      <th>lng</th>\n      <th>population</th>\n    </tr>\n  </thead>\n  <tbody>\n    <tr>\n      <th>0</th>\n      <td>CA</td>\n      <td>San Francisco</td>\n      <td>37.781334</td>\n      <td>-122.416728</td>\n      <td>NaN</td>\n    </tr>\n    <tr>\n      <th>1</th>\n      <td>NY</td>\n      <td>New York</td>\n      <td>40.706649</td>\n      <td>-74.008344</td>\n      <td>NaN</td>\n    </tr>\n    <tr>\n      <th>2</th>\n      <td>FL</td>\n      <td>Miami</td>\n      <td>25.791100</td>\n      <td>-80.320733</td>\n      <td>NaN</td>\n    </tr>\n    <tr>\n      <th>3</th>\n      <td>OH</td>\n      <td>Cleveland</td>\n      <td>41.473508</td>\n      <td>-111.896657</td>\n      <td>NaN</td>\n    </tr>\n    <tr>\n      <th>3</th>\n      <td>California</td>\n      <td>San Francisco</td>\n      <td>NaN</td>\n      <td>NaN</td>\n      <td>808976.0</td>\n    </tr>\n    <tr>\n      <th>4</th>\n      <td>New-York</td>\n      <td>New York</td>\n      <td>NaN</td>\n      <td>NaN</td>\n      <td>8363710.0</td>\n    </tr>\n    <tr>\n      <th>5</th>\n      <td>Florida</td>\n      <td>Miami</td>\n      <td>NaN</td>\n      <td>NaN</td>\n      <td>413201.0</td>\n    </tr>\n    <tr>\n      <th>6</th>\n      <td>Texas</td>\n      <td>Houston</td>\n      <td>NaN</td>\n      <td>NaN</td>\n      <td>2242193.0</td>\n    </tr>\n  </tbody>\n</table>\n</div>"
     },
     "execution_count": 146,
     "metadata": {},
     "output_type": "execute_result"
    }
   ],
   "source": [
    "city_loc._append(city_pop)"
   ],
   "metadata": {
    "collapsed": false,
    "ExecuteTime": {
     "end_time": "2023-05-05T10:23:45.119740100Z",
     "start_time": "2023-05-05T10:23:40.005208600Z"
    }
   }
  },
  {
   "cell_type": "code",
   "execution_count": 147,
   "outputs": [
    {
     "data": {
      "text/plain": "   population           city       state  eco_code\n3      808976  San Francisco  California        17\n4     8363710       New York    New-York        17\n5      413201          Miami     Florida        34\n6     2242193        Houston       Texas        20",
      "text/html": "<div>\n<style scoped>\n    .dataframe tbody tr th:only-of-type {\n        vertical-align: middle;\n    }\n\n    .dataframe tbody tr th {\n        vertical-align: top;\n    }\n\n    .dataframe thead th {\n        text-align: right;\n    }\n</style>\n<table border=\"1\" class=\"dataframe\">\n  <thead>\n    <tr style=\"text-align: right;\">\n      <th></th>\n      <th>population</th>\n      <th>city</th>\n      <th>state</th>\n      <th>eco_code</th>\n    </tr>\n  </thead>\n  <tbody>\n    <tr>\n      <th>3</th>\n      <td>808976</td>\n      <td>San Francisco</td>\n      <td>California</td>\n      <td>17</td>\n    </tr>\n    <tr>\n      <th>4</th>\n      <td>8363710</td>\n      <td>New York</td>\n      <td>New-York</td>\n      <td>17</td>\n    </tr>\n    <tr>\n      <th>5</th>\n      <td>413201</td>\n      <td>Miami</td>\n      <td>Florida</td>\n      <td>34</td>\n    </tr>\n    <tr>\n      <th>6</th>\n      <td>2242193</td>\n      <td>Houston</td>\n      <td>Texas</td>\n      <td>20</td>\n    </tr>\n  </tbody>\n</table>\n</div>"
     },
     "execution_count": 147,
     "metadata": {},
     "output_type": "execute_result"
    }
   ],
   "source": [
    "city_eco = city_pop.copy()\n",
    "city_eco['eco_code'] = [17, 17, 34, 20]\n",
    "city_eco"
   ],
   "metadata": {
    "collapsed": false,
    "ExecuteTime": {
     "end_time": "2023-05-05T10:23:45.119740100Z",
     "start_time": "2023-05-05T10:23:40.020823800Z"
    }
   }
  },
  {
   "cell_type": "code",
   "execution_count": 148,
   "outputs": [
    {
     "data": {
      "text/plain": "Index([17, 20, 34], dtype='int64')"
     },
     "execution_count": 148,
     "metadata": {},
     "output_type": "execute_result"
    }
   ],
   "source": [
    "city_eco['economy'] = city_eco['eco_code'].astype('category')\n",
    "city_eco['economy'].cat.categories"
   ],
   "metadata": {
    "collapsed": false,
    "ExecuteTime": {
     "end_time": "2023-05-05T10:23:45.182864100Z",
     "start_time": "2023-05-05T10:23:40.036531Z"
    }
   }
  },
  {
   "cell_type": "code",
   "execution_count": null,
   "outputs": [],
   "source": [],
   "metadata": {
    "collapsed": false
   }
  }
 ],
 "metadata": {
  "kernelspec": {
   "display_name": "Python 3",
   "language": "python",
   "name": "python3"
  },
  "language_info": {
   "codemirror_mode": {
    "name": "ipython",
    "version": 2
   },
   "file_extension": ".py",
   "mimetype": "text/x-python",
   "name": "python",
   "nbconvert_exporter": "python",
   "pygments_lexer": "ipython2",
   "version": "2.7.6"
  }
 },
 "nbformat": 4,
 "nbformat_minor": 0
}
